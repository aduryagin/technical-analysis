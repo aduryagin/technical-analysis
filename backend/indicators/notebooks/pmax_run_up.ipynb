{
 "cells": [
  {
   "cell_type": "code",
   "execution_count": 25,
   "metadata": {},
   "outputs": [
    {
     "name": "stdout",
     "output_type": "stream",
     "text": [
      "The dotenv extension is already loaded. To reload it, use:\n",
      "  %reload_ext dotenv\n"
     ]
    }
   ],
   "source": [
    "%load_ext dotenv\n",
    "%dotenv ../.env"
   ]
  },
  {
   "cell_type": "code",
   "execution_count": 26,
   "metadata": {},
   "outputs": [
    {
     "name": "stdout",
     "output_type": "stream",
     "text": [
      "[Tinkoff] Downloading candles for DDOG 0/10\n",
      "[Tinkoff] Downloading candles for DDOG 1/10\n",
      "[Tinkoff] Downloading candles for DDOG 1/10\n",
      "[Tinkoff] Downloading candles for DDOG 2/10\n",
      "[Tinkoff] Downloading candles for DDOG 3/10\n",
      "[Tinkoff] Downloading candles for DDOG 4/10\n",
      "[Tinkoff] Downloading candles for DDOG 5/10\n",
      "[Tinkoff] Downloading candles for DDOG 6/10\n",
      "[Tinkoff] Downloading candles for DDOG 6/10\n",
      "[Tinkoff] Downloading candles for DDOG 6/10\n",
      "[Tinkoff] Downloading candles for DDOG 7/10\n",
      "[Tinkoff] Downloading candles for DDOG 8/10\n",
      "[Tinkoff] Downloading candles for DDOG 9/10\n",
      "[Tinkoff] Candles for DDOG successfully downloaded!\n",
      "[Tinkoff] Downloading candles for U 0/10\n",
      "[Tinkoff] Downloading candles for U 1/10\n",
      "[Tinkoff] Downloading candles for U 1/10\n",
      "[Tinkoff] Downloading candles for U 2/10\n",
      "[Tinkoff] Downloading candles for U 3/10\n",
      "[Tinkoff] Downloading candles for U 4/10\n",
      "[Tinkoff] Downloading candles for U 5/10\n",
      "[Tinkoff] Downloading candles for U 6/10\n",
      "[Tinkoff] Downloading candles for U 6/10\n",
      "[Tinkoff] Downloading candles for U 6/10\n",
      "[Tinkoff] Downloading candles for U 7/10\n",
      "[Tinkoff] Downloading candles for U 8/10\n",
      "[Tinkoff] Downloading candles for U 9/10\n",
      "[Tinkoff] Candles for U successfully downloaded!\n",
      "[Tinkoff] Downloading candles for MDB 0/10\n",
      "[Tinkoff] Downloading candles for MDB 1/10\n",
      "[Tinkoff] Downloading candles for MDB 1/10\n",
      "[Tinkoff] Downloading candles for MDB 2/10\n",
      "[Tinkoff] Downloading candles for MDB 3/10\n",
      "[Tinkoff] Downloading candles for MDB 4/10\n",
      "[Tinkoff] Downloading candles for MDB 5/10\n",
      "[Tinkoff] Downloading candles for MDB 6/10\n",
      "[Tinkoff] Downloading candles for MDB 6/10\n",
      "[Tinkoff] Downloading candles for MDB 6/10\n",
      "[Tinkoff] Downloading candles for MDB 7/10\n",
      "[Tinkoff] Downloading candles for MDB 8/10\n",
      "[Tinkoff] Downloading candles for MDB 9/10\n",
      "[Tinkoff] Candles for MDB successfully downloaded!\n"
     ]
    }
   ],
   "source": [
    "import tinvest\n",
    "from datetime import datetime, timedelta\n",
    "import pandas as pd\n",
    "import os\n",
    "\n",
    "def get_candles(\n",
    "  company,\n",
    "  interval=tinvest.CandleResolution.min1,\n",
    "  periods=3,\n",
    "):\n",
    "  token = os.environ['TINKOFF_SECRET']\n",
    "  client = tinvest.SyncClient(\n",
    "    token,\n",
    "    use_sandbox=False,\n",
    "  )\n",
    "\n",
    "  figi = company[\"figi\"]\n",
    "  ticker = company[\"ticker\"]\n",
    " \n",
    "  end_date = datetime.now()\n",
    "  periods_with_candles = 0\n",
    "  df = pd.DataFrame()\n",
    "  delta = timedelta(days=1)\n",
    "  if interval == tinvest.CandleResolution.hour:\n",
    "      delta = timedelta(weeks=1)\n",
    "  elif interval in [\n",
    "      tinvest.CandleResolution.day,\n",
    "      tinvest.CandleResolution.week,\n",
    "      tinvest.CandleResolution.month,\n",
    "  ]:\n",
    "      delta = timedelta(years=1)\n",
    "\n",
    "  while periods_with_candles < periods:\n",
    "      start_date = end_date - delta\n",
    "\n",
    "      print(\n",
    "          f\"[Tinkoff] Downloading candles for {ticker} {periods_with_candles}/{periods}\"  # noqa\n",
    "      )\n",
    "      response = client.get_market_candles(\n",
    "          figi,\n",
    "          from_=start_date,\n",
    "          to=end_date,\n",
    "          interval=interval,\n",
    "      )\n",
    "\n",
    "      payload = response.payload\n",
    "\n",
    "      if len(payload.candles) > 0:\n",
    "          df = pd.concat(\n",
    "              [\n",
    "                  pd.DataFrame(\n",
    "                      {\n",
    "                          \"Volume\": float(c.dict()[\"v\"]),\n",
    "                          \"High\": float(c.dict()[\"h\"]),\n",
    "                          \"Low\": float(c.dict()[\"l\"]),\n",
    "                          \"Open\": float(c.dict()[\"o\"]),\n",
    "                          \"Close\": float(c.dict()[\"c\"]),\n",
    "                          \"Date\": c.dict()[\"time\"] + timedelta(hours=3),\n",
    "                      }\n",
    "                      for c in payload.candles\n",
    "                  ),\n",
    "                  df,\n",
    "              ],\n",
    "              ignore_index=True,\n",
    "          )\n",
    "          periods_with_candles += 1\n",
    "\n",
    "      end_date = start_date\n",
    "\n",
    "  df.set_index(\"Date\", inplace=True)\n",
    "\n",
    "  # remove duplicates\n",
    "  df = df[~df.index.duplicated(keep=\"last\")]\n",
    "\n",
    "  print(\n",
    "      f\"[Tinkoff] Candles for {ticker} successfully downloaded!\",  # noqa\n",
    "  )\n",
    "\n",
    "  return df, figi\n",
    "\n",
    "\n",
    "periods = 10\n",
    "interval=tinvest.CandleResolution.min1\n",
    "companies = [\n",
    "  # { \"figi\": 'BBG003PHHZT1', \"ticker\": \"MRNA\" },\n",
    "  { \"figi\": 'BBG003NJHZT9', \"ticker\": \"DDOG\" },\n",
    "  { \"figi\": 'BBG0056JW5G6', \"ticker\": \"U\" },\n",
    "  { \"figi\": 'BBG0022FDRY8', \"ticker\": \"MDB\" },\n",
    "]\n",
    "\n",
    "def download():\n",
    "  result = {}\n",
    "  for company in companies:\n",
    "    result[company['figi']] = get_candles(company, interval=interval, periods=periods)\n",
    "  \n",
    "  return result\n",
    "\n",
    "result = download()\n"
   ]
  },
  {
   "cell_type": "code",
   "execution_count": 27,
   "metadata": {},
   "outputs": [],
   "source": [
    "from pandas_ta.overlap import ema, hl2\n",
    "from pandas_ta.volatility import atr\n",
    "from pandas import DataFrame\n",
    "from numpy import NaN as npNaN\n",
    "\n",
    "def pmax(high, low, close, multiplier=3):\n",
    "    length = 10\n",
    "\n",
    "    # Calculate Results\n",
    "    hl2_ = hl2(high, low)\n",
    "    mavg = ema(hl2_, length)\n",
    "    matr = multiplier * atr(high, low, close, length)\n",
    "\n",
    "    m = close.size\n",
    "    direction = [1] * m\n",
    "    trend, long, short = [npNaN] * m, [npNaN] * m, [npNaN] * m\n",
    "\n",
    "    long_stop = mavg - matr\n",
    "    short_stop = mavg + matr\n",
    "\n",
    "    for i in range(1, m):\n",
    "        long_stop_prev = long_stop.iloc[i - 1]\n",
    "        long_stop_item = (\n",
    "            long_stop.iloc[i]\n",
    "            if mavg.iloc[i] <= long_stop_prev\n",
    "            else max(long_stop.iloc[i], long_stop_prev)\n",
    "        )\n",
    "        long_stop.iloc[i] = long_stop_item\n",
    "\n",
    "        short_stop_prev = short_stop.iloc[i - 1]\n",
    "        short_stop_item = (\n",
    "            short_stop.iloc[i]\n",
    "            if mavg.iloc[i] >= short_stop_prev\n",
    "            else min(short_stop.iloc[i], short_stop_prev)\n",
    "        )\n",
    "        short_stop.iloc[i] = short_stop_item\n",
    "\n",
    "        direction_item = direction[i - 1]\n",
    "\n",
    "        if direction_item == -1 and mavg.iloc[i] > short_stop_prev:\n",
    "            direction_item = 1\n",
    "        elif direction_item == 1 and mavg.iloc[i] < long_stop_prev:\n",
    "            direction_item = -1\n",
    "\n",
    "        direction[i] = direction_item\n",
    "        trend[i] = long_stop_item if direction_item == 1 else short_stop_item\n",
    "        long[i] = long_stop_item if direction_item == 1 else npNaN\n",
    "        short[i] = short_stop_item if direction_item == -1 else npNaN\n",
    "\n",
    "    # Prepare DataFrame to return\n",
    "    # _props = f\"_{length}_{multiplier}\"\n",
    "    df = DataFrame(\n",
    "        {\n",
    "            f\"PMax\": trend,\n",
    "            f\"Close\": close,\n",
    "            f\"High\": high,\n",
    "            f\"Low\": low,\n",
    "            f\"PMaxMAvg\": mavg,\n",
    "            f\"PMaxLong\": long,\n",
    "            f\"PMaxShort\": short,\n",
    "            f\"PMaxDirection\": direction,\n",
    "        },\n",
    "        index=close.index,\n",
    "    )\n",
    "\n",
    "    df.name = f\"PMax\"\n",
    "    df.category = \"overlap\"\n",
    "\n",
    "    return df"
   ]
  },
  {
   "cell_type": "code",
   "execution_count": 28,
   "metadata": {},
   "outputs": [],
   "source": [
    "# find out previous run ups\n",
    "\n",
    "import arrow\n",
    "\n",
    "trades = {}\n",
    "pmax_multiplier = 3\n",
    "\n",
    "for company in companies:\n",
    "    figi = company[\"figi\"]\n",
    "    ticker = company[\"ticker\"]\n",
    "\n",
    "    (candles, _) = result[figi]\n",
    "    pmax_result = pmax(high=candles['High'], low=candles['Low'], close=candles['Close'], multiplier=pmax_multiplier)\n",
    "\n",
    "    index = 0\n",
    "    trades[figi] = []\n",
    "\n",
    "    for (date, pmax_value, mavg, close, high, low) in zip(pmax_result.index, pmax_result['PMax'], pmax_result['PMaxMAvg'], pmax_result['Close'], pmax_result['High'], pmax_result['Low']):\n",
    "      is_sell = False\n",
    "      is_buy = False\n",
    "\n",
    "      if index == 0:\n",
    "        index += 1\n",
    "        continue\n",
    "\n",
    "      if (\n",
    "          pmax_result['PMax'][index - 1] >= pmax_result['PMaxMAvg'][index - 1]\n",
    "          and pmax_result['PMax'][index - 2] < pmax_result['PMaxMAvg'][index - 2]\n",
    "      ):\n",
    "          is_sell = True\n",
    "      elif (\n",
    "          pmax_result['PMax'][index - 1] <= pmax_result['PMaxMAvg'][index - 1]\n",
    "          and pmax_result['PMax'][index - 2] > pmax_result['PMaxMAvg'][index - 2]\n",
    "      ):\n",
    "          is_buy = True\n",
    "\n",
    "      last_trade = trades[figi][-1] if len(trades[figi]) > 0 else False\n",
    "      \n",
    "      if is_sell or is_buy:\n",
    "        local_date = arrow.get(date)\n",
    "\n",
    "        if last_trade:\n",
    "          one_percent = last_trade['price_in'] / 100\n",
    "          last_trade['price_out'] = close\n",
    "          last_trade['time_out'] = local_date\n",
    "          last_trade['profit'] = ((last_trade['price_in'] - last_trade['price_out']) / one_percent) if last_trade['type'] == 'short' else (last_trade['price_out'] - last_trade['price_in']) / one_percent\n",
    "          last_trade['run_up'] = ((last_trade['price_in'] - last_trade['best_price']) / one_percent) if last_trade['type'] == 'short' else (last_trade['best_price'] - last_trade['price_in']) / one_percent\n",
    "\n",
    "        trades[figi].append({\n",
    "          \"run_up\": 0,\n",
    "          \"profit\": 0,\n",
    "          \"time\": local_date,\n",
    "          \"type\": \"short\" if is_sell else \"long\",\n",
    "          \"price_in\": close,\n",
    "          \"best_price\": close\n",
    "        })\n",
    "      else:\n",
    "        if last_trade:\n",
    "          if (last_trade[\"type\"] == \"short\" and low < last_trade[\"best_price\"]) or (last_trade[\"type\"] == \"long\" and high > last_trade[\"best_price\"]):\n",
    "            last_trade[\"best_price\"] = low if last_trade[\"type\"] == \"short\" else high\n",
    "\n",
    "      index += 1"
   ]
  },
  {
   "cell_type": "code",
   "execution_count": 29,
   "metadata": {},
   "outputs": [],
   "source": [
    "import math\n",
    "\n",
    "def round_decimals_down(number:float, decimals:int=1):\n",
    "    \"\"\"\n",
    "    Returns a value rounded down to a specific number of decimal places.\n",
    "    \"\"\"\n",
    "    if not isinstance(decimals, int):\n",
    "        raise TypeError(\"decimal places must be an integer\")\n",
    "    elif decimals < 0:\n",
    "        raise ValueError(\"decimal places has to be 0 or more\")\n",
    "    elif decimals == 0:\n",
    "        return math.floor(number)\n",
    "\n",
    "    factor = 10 ** decimals\n",
    "    return math.floor(number * factor) / factor"
   ]
  },
  {
   "cell_type": "code",
   "execution_count": 30,
   "metadata": {},
   "outputs": [
    {
     "data": {
      "image/png": "[encoded data removed]",
      "text/plain": [
       "<Figure size 432x288 with 2 Axes>"
      ]
     },
     "metadata": {
      "needs_background": "light"
     },
     "output_type": "display_data"
    }
   ],
   "source": [
    "from pypfopt import risk_models, plotting\n",
    "import matplotlib.pyplot as plt\n",
    "import plotly.express as px\n",
    "\n",
    "df = DataFrame()\n",
    "for company in companies:\n",
    "    figi = company[\"figi\"]\n",
    "    ticker = company[\"ticker\"]\n",
    "\n",
    "    (candles, _) = result[figi]\n",
    "    df[ticker] = candles['Close']\n",
    "\n",
    "exp_cov = risk_models.exp_cov(df)\n",
    "plotting.plot_covariance(exp_cov, plot_correlation=True)\n",
    "plt.show()\n"
   ]
  },
  {
   "cell_type": "code",
   "execution_count": 31,
   "metadata": {},
   "outputs": [
    {
     "name": "stdout",
     "output_type": "stream",
     "text": [
      "\n",
      "periods = 10\n",
      "interval = 1min\n",
      "pmax_multiplier = 3\n",
      "\n",
      "Long and Short\n",
      "\n",
      "    ticker: DDOG\n",
      "    trades: 15\n",
      "    more 0.4% : 73.33%\n",
      "    if less than 0.4% then average profit is -2.09%. 4 trades\n",
      "    profit: 4.4% loss: -8.36%\n",
      "\n",
      "    more 0.6% : 66.66%\n",
      "    if less than 0.6% then average profit is -1.97%. 5 trades\n",
      "    profit: 6.0% loss: -9.85%\n",
      "\n",
      "    more 0.8% : 66.66%\n",
      "    if less than 0.8% then average profit is -1.97%. 5 trades\n",
      "    profit: 8.0% loss: -9.85%\n",
      "\n",
      "    more 1% : 60.0%\n",
      "    if less than 1% then average profit is -1.64%. 6 trades\n",
      "    profit: 9.0% loss: -9.84%\n",
      "  \n"
     ]
    },
    {
     "data": {
      "application/vnd.plotly.v1+json": {
       "config": {
        "plotlyServerURL": "https://plot.ly"
       },
       "data": [
        {
         "marker": {
          "color": "green"
         },
         "name": "run up",
         "type": "bar",
         "x": [
          "11/01 18:36",
          "12/01 17:46",
          "12/01 19:48",
          "13/01 17:34",
          "13/01 17:52",
          "14/01 19:39",
          "18/01 17:31",
          "18/01 17:43",
          "18/01 18:39",
          "19/01 18:38",
          "19/01 19:55",
          "20/01 18:39",
          "21/01 17:35",
          "21/01 18:34",
          "21/01 19:44"
         ],
         "y": [
          1.076300815794881,
          3.0681436723732753,
          0.19796573144924023,
          0.5107322796604188,
          0,
          0.3174134494722129,
          0.03048083517487773,
          2.2827041264266934,
          1.6556776556776491,
          1.9003981071133489,
          2.4370063933809774,
          0.836697247706412,
          1.3754107129212065,
          2.1649954421148765,
          5.410518350359444
         ]
        },
        {
         "marker": {
          "color": "gray"
         },
         "name": "profit",
         "type": "bar",
         "x": [
          "11/01 18:36",
          "12/01 17:46",
          "12/01 19:48",
          "13/01 17:34",
          "13/01 17:52",
          "14/01 19:39",
          "18/01 17:31",
          "18/01 17:43",
          "18/01 18:39",
          "19/01 18:38",
          "19/01 19:55",
          "20/01 18:39",
          "21/01 17:35",
          "21/01 18:34",
          "21/01 19:44"
         ],
         "y": [
          -1.2956742304791844,
          1.6515609264853843,
          -0.4573691036930957,
          -1.5183932638553506,
          -2.325107077299623,
          -1.3951428360522524,
          -4.15301379257793,
          -0.13169446883231403,
          0.03663003663004496,
          0.13520618943889945,
          1.1508085746521257,
          0.03669724770643036,
          -2.5368686482769216,
          0.3874202370100421,
          4.078698448732501
         ]
        }
       ],
       "layout": {
        "barmode": "group",
        "template": {
         "data": {
          "bar": [
           {
            "error_x": {
             "color": "#2a3f5f"
            },
            "error_y": {
             "color": "#2a3f5f"
            },
            "marker": {
             "line": {
              "color": "#E5ECF6",
              "width": 0.5
             },
             "pattern": {
              "fillmode": "overlay",
              "size": 10,
              "solidity": 0.2
             }
            },
            "type": "bar"
           }
          ],
          "barpolar": [
           {
            "marker": {
             "line": {
              "color": "#E5ECF6",
              "width": 0.5
             },
             "pattern": {
              "fillmode": "overlay",
              "size": 10,
              "solidity": 0.2
             }
            },
            "type": "barpolar"
           }
          ],
          "carpet": [
           {
            "aaxis": {
             "endlinecolor": "#2a3f5f",
             "gridcolor": "white",
             "linecolor": "white",
             "minorgridcolor": "white",
             "startlinecolor": "#2a3f5f"
            },
            "baxis": {
             "endlinecolor": "#2a3f5f",
             "gridcolor": "white",
             "linecolor": "white",
             "minorgridcolor": "white",
             "startlinecolor": "#2a3f5f"
            },
            "type": "carpet"
           }
          ],
          "choropleth": [
           {
            "colorbar": {
             "outlinewidth": 0,
             "ticks": ""
            },
            "type": "choropleth"
           }
          ],
          "contour": [
           {
            "colorbar": {
             "outlinewidth": 0,
             "ticks": ""
            },
            "colorscale": [
             [
              0,
              "#0d0887"
             ],
             [
              0.1111111111111111,
              "#46039f"
             ],
             [
              0.2222222222222222,
              "#7201a8"
             ],
             [
              0.3333333333333333,
              "#9c179e"
             ],
             [
              0.4444444444444444,
              "#bd3786"
             ],
             [
              0.5555555555555556,
              "#d8576b"
             ],
             [
              0.6666666666666666,
              "#ed7953"
             ],
             [
              0.7777777777777778,
              "#fb9f3a"
             ],
             [
              0.8888888888888888,
              "#fdca26"
             ],
             [
              1,
              "#f0f921"
             ]
            ],
            "type": "contour"
           }
          ],
          "contourcarpet": [
           {
            "colorbar": {
             "outlinewidth": 0,
             "ticks": ""
            },
            "type": "contourcarpet"
           }
          ],
          "heatmap": [
           {
            "colorbar": {
             "outlinewidth": 0,
             "ticks": ""
            },
            "colorscale": [
             [
              0,
              "#0d0887"
             ],
             [
              0.1111111111111111,
              "#46039f"
             ],
             [
              0.2222222222222222,
              "#7201a8"
             ],
             [
              0.3333333333333333,
              "#9c179e"
             ],
             [
              0.4444444444444444,
              "#bd3786"
             ],
             [
              0.5555555555555556,
              "#d8576b"
             ],
             [
              0.6666666666666666,
              "#ed7953"
             ],
             [
              0.7777777777777778,
              "#fb9f3a"
             ],
             [
              0.8888888888888888,
              "#fdca26"
             ],
             [
              1,
              "#f0f921"
             ]
            ],
            "type": "heatmap"
           }
          ],
          "heatmapgl": [
           {
            "colorbar": {
             "outlinewidth": 0,
             "ticks": ""
            },
            "colorscale": [
             [
              0,
              "#0d0887"
             ],
             [
              0.1111111111111111,
              "#46039f"
             ],
             [
              0.2222222222222222,
              "#7201a8"
             ],
             [
              0.3333333333333333,
              "#9c179e"
             ],
             [
              0.4444444444444444,
              "#bd3786"
             ],
             [
              0.5555555555555556,
              "#d8576b"
             ],
             [
              0.6666666666666666,
              "#ed7953"
             ],
             [
              0.7777777777777778,
              "#fb9f3a"
             ],
             [
              0.8888888888888888,
              "#fdca26"
             ],
             [
              1,
              "#f0f921"
             ]
            ],
            "type": "heatmapgl"
           }
          ],
          "histogram": [
           {
            "marker": {
             "pattern": {
              "fillmode": "overlay",
              "size": 10,
              "solidity": 0.2
             }
            },
            "type": "histogram"
           }
          ],
          "histogram2d": [
           {
            "colorbar": {
             "outlinewidth": 0,
             "ticks": ""
            },
            "colorscale": [
             [
              0,
              "#0d0887"
             ],
             [
              0.1111111111111111,
              "#46039f"
             ],
             [
              0.2222222222222222,
              "#7201a8"
             ],
             [
              0.3333333333333333,
              "#9c179e"
             ],
             [
              0.4444444444444444,
              "#bd3786"
             ],
             [
              0.5555555555555556,
              "#d8576b"
             ],
             [
              0.6666666666666666,
              "#ed7953"
             ],
             [
              0.7777777777777778,
              "#fb9f3a"
             ],
             [
              0.8888888888888888,
              "#fdca26"
             ],
             [
              1,
              "#f0f921"
             ]
            ],
            "type": "histogram2d"
           }
          ],
          "histogram2dcontour": [
           {
            "colorbar": {
             "outlinewidth": 0,
             "ticks": ""
            },
            "colorscale": [
             [
              0,
              "#0d0887"
             ],
             [
              0.1111111111111111,
              "#46039f"
             ],
             [
              0.2222222222222222,
              "#7201a8"
             ],
             [
              0.3333333333333333,
              "#9c179e"
             ],
             [
              0.4444444444444444,
              "#bd3786"
             ],
             [
              0.5555555555555556,
              "#d8576b"
             ],
             [
              0.6666666666666666,
              "#ed7953"
             ],
             [
              0.7777777777777778,
              "#fb9f3a"
             ],
             [
              0.8888888888888888,
              "#fdca26"
             ],
             [
              1,
              "#f0f921"
             ]
            ],
            "type": "histogram2dcontour"
           }
          ],
          "mesh3d": [
           {
            "colorbar": {
             "outlinewidth": 0,
             "ticks": ""
            },
            "type": "mesh3d"
           }
          ],
          "parcoords": [
           {
            "line": {
             "colorbar": {
              "outlinewidth": 0,
              "ticks": ""
             }
            },
            "type": "parcoords"
           }
          ],
          "pie": [
           {
            "automargin": true,
            "type": "pie"
           }
          ],
          "scatter": [
           {
            "marker": {
             "colorbar": {
              "outlinewidth": 0,
              "ticks": ""
             }
            },
            "type": "scatter"
           }
          ],
          "scatter3d": [
           {
            "line": {
             "colorbar": {
              "outlinewidth": 0,
              "ticks": ""
             }
            },
            "marker": {
             "colorbar": {
              "outlinewidth": 0,
              "ticks": ""
             }
            },
            "type": "scatter3d"
           }
          ],
          "scattercarpet": [
           {
            "marker": {
             "colorbar": {
              "outlinewidth": 0,
              "ticks": ""
             }
            },
            "type": "scattercarpet"
           }
          ],
          "scattergeo": [
           {
            "marker": {
             "colorbar": {
              "outlinewidth": 0,
              "ticks": ""
             }
            },
            "type": "scattergeo"
           }
          ],
          "scattergl": [
           {
            "marker": {
             "colorbar": {
              "outlinewidth": 0,
              "ticks": ""
             }
            },
            "type": "scattergl"
           }
          ],
          "scattermapbox": [
           {
            "marker": {
             "colorbar": {
              "outlinewidth": 0,
              "ticks": ""
             }
            },
            "type": "scattermapbox"
           }
          ],
          "scatterpolar": [
           {
            "marker": {
             "colorbar": {
              "outlinewidth": 0,
              "ticks": ""
             }
            },
            "type": "scatterpolar"
           }
          ],
          "scatterpolargl": [
           {
            "marker": {
             "colorbar": {
              "outlinewidth": 0,
              "ticks": ""
             }
            },
            "type": "scatterpolargl"
           }
          ],
          "scatterternary": [
           {
            "marker": {
             "colorbar": {
              "outlinewidth": 0,
              "ticks": ""
             }
            },
            "type": "scatterternary"
           }
          ],
          "surface": [
           {
            "colorbar": {
             "outlinewidth": 0,
             "ticks": ""
            },
            "colorscale": [
             [
              0,
              "#0d0887"
             ],
             [
              0.1111111111111111,
              "#46039f"
             ],
             [
              0.2222222222222222,
              "#7201a8"
             ],
             [
              0.3333333333333333,
              "#9c179e"
             ],
             [
              0.4444444444444444,
              "#bd3786"
             ],
             [
              0.5555555555555556,
              "#d8576b"
             ],
             [
              0.6666666666666666,
              "#ed7953"
             ],
             [
              0.7777777777777778,
              "#fb9f3a"
             ],
             [
              0.8888888888888888,
              "#fdca26"
             ],
             [
              1,
              "#f0f921"
             ]
            ],
            "type": "surface"
           }
          ],
          "table": [
           {
            "cells": {
             "fill": {
              "color": "#EBF0F8"
             },
             "line": {
              "color": "white"
             }
            },
            "header": {
             "fill": {
              "color": "#C8D4E3"
             },
             "line": {
              "color": "white"
             }
            },
            "type": "table"
           }
          ]
         },
         "layout": {
          "annotationdefaults": {
           "arrowcolor": "#2a3f5f",
           "arrowhead": 0,
           "arrowwidth": 1
          },
          "autotypenumbers": "strict",
          "coloraxis": {
           "colorbar": {
            "outlinewidth": 0,
            "ticks": ""
           }
          },
          "colorscale": {
           "diverging": [
            [
             0,
             "#8e0152"
            ],
            [
             0.1,
             "#c51b7d"
            ],
            [
             0.2,
             "#de77ae"
            ],
            [
             0.3,
             "#f1b6da"
            ],
            [
             0.4,
             "#fde0ef"
            ],
            [
             0.5,
             "#f7f7f7"
            ],
            [
             0.6,
             "#e6f5d0"
            ],
            [
             0.7,
             "#b8e186"
            ],
            [
             0.8,
             "#7fbc41"
            ],
            [
             0.9,
             "#4d9221"
            ],
            [
             1,
             "#276419"
            ]
           ],
           "sequential": [
            [
             0,
             "#0d0887"
            ],
            [
             0.1111111111111111,
             "#46039f"
            ],
            [
             0.2222222222222222,
             "#7201a8"
            ],
            [
             0.3333333333333333,
             "#9c179e"
            ],
            [
             0.4444444444444444,
             "#bd3786"
            ],
            [
             0.5555555555555556,
             "#d8576b"
            ],
            [
             0.6666666666666666,
             "#ed7953"
            ],
            [
             0.7777777777777778,
             "#fb9f3a"
            ],
            [
             0.8888888888888888,
             "#fdca26"
            ],
            [
             1,
             "#f0f921"
            ]
           ],
           "sequentialminus": [
            [
             0,
             "#0d0887"
            ],
            [
             0.1111111111111111,
             "#46039f"
            ],
            [
             0.2222222222222222,
             "#7201a8"
            ],
            [
             0.3333333333333333,
             "#9c179e"
            ],
            [
             0.4444444444444444,
             "#bd3786"
            ],
            [
             0.5555555555555556,
             "#d8576b"
            ],
            [
             0.6666666666666666,
             "#ed7953"
            ],
            [
             0.7777777777777778,
             "#fb9f3a"
            ],
            [
             0.8888888888888888,
             "#fdca26"
            ],
            [
             1,
             "#f0f921"
            ]
           ]
          },
          "colorway": [
           "#636efa",
           "#EF553B",
           "#00cc96",
           "#ab63fa",
           "#FFA15A",
           "#19d3f3",
           "#FF6692",
           "#B6E880",
           "#FF97FF",
           "#FECB52"
          ],
          "font": {
           "color": "#2a3f5f"
          },
          "geo": {
           "bgcolor": "white",
           "lakecolor": "white",
           "landcolor": "#E5ECF6",
           "showlakes": true,
           "showland": true,
           "subunitcolor": "white"
          },
          "hoverlabel": {
           "align": "left"
          },
          "hovermode": "closest",
          "mapbox": {
           "style": "light"
          },
          "paper_bgcolor": "white",
          "plot_bgcolor": "#E5ECF6",
          "polar": {
           "angularaxis": {
            "gridcolor": "white",
            "linecolor": "white",
            "ticks": ""
           },
           "bgcolor": "#E5ECF6",
           "radialaxis": {
            "gridcolor": "white",
            "linecolor": "white",
            "ticks": ""
           }
          },
          "scene": {
           "xaxis": {
            "backgroundcolor": "#E5ECF6",
            "gridcolor": "white",
            "gridwidth": 2,
            "linecolor": "white",
            "showbackground": true,
            "ticks": "",
            "zerolinecolor": "white"
           },
           "yaxis": {
            "backgroundcolor": "#E5ECF6",
            "gridcolor": "white",
            "gridwidth": 2,
            "linecolor": "white",
            "showbackground": true,
            "ticks": "",
            "zerolinecolor": "white"
           },
           "zaxis": {
            "backgroundcolor": "#E5ECF6",
            "gridcolor": "white",
            "gridwidth": 2,
            "linecolor": "white",
            "showbackground": true,
            "ticks": "",
            "zerolinecolor": "white"
           }
          },
          "shapedefaults": {
           "line": {
            "color": "#2a3f5f"
           }
          },
          "ternary": {
           "aaxis": {
            "gridcolor": "white",
            "linecolor": "white",
            "ticks": ""
           },
           "baxis": {
            "gridcolor": "white",
            "linecolor": "white",
            "ticks": ""
           },
           "bgcolor": "#E5ECF6",
           "caxis": {
            "gridcolor": "white",
            "linecolor": "white",
            "ticks": ""
           }
          },
          "title": {
           "x": 0.05
          },
          "xaxis": {
           "automargin": true,
           "gridcolor": "white",
           "linecolor": "white",
           "ticks": "",
           "title": {
            "standoff": 15
           },
           "zerolinecolor": "white",
           "zerolinewidth": 2
          },
          "yaxis": {
           "automargin": true,
           "gridcolor": "white",
           "linecolor": "white",
           "ticks": "",
           "title": {
            "standoff": 15
           },
           "zerolinecolor": "white",
           "zerolinewidth": 2
          }
         }
        }
       }
      }
     },
     "metadata": {},
     "output_type": "display_data"
    },
    {
     "name": "stdout",
     "output_type": "stream",
     "text": [
      "Long and Short\n",
      "\n",
      "    ticker: U\n",
      "    trades: 15\n",
      "    more 0.4% : 93.33%\n",
      "    if less than 0.4% then average profit is -1.67%. 1 trades\n",
      "    profit: 5.6% loss: -1.67%\n",
      "\n",
      "    more 0.6% : 93.33%\n",
      "    if less than 0.6% then average profit is -1.67%. 1 trades\n",
      "    profit: 8.4% loss: -1.67%\n",
      "\n",
      "    more 0.8% : 80.0%\n",
      "    if less than 0.8% then average profit is -1.87%. 3 trades\n",
      "    profit: 9.6% loss: -5.61%\n",
      "\n",
      "    more 1% : 66.66%\n",
      "    if less than 1% then average profit is -1.44%. 5 trades\n",
      "    profit: 10.0% loss: -7.2%\n",
      "  \n"
     ]
    },
    {
     "data": {
      "application/vnd.plotly.v1+json": {
       "config": {
        "plotlyServerURL": "https://plot.ly"
       },
       "data": [
        {
         "marker": {
          "color": "green"
         },
         "name": "run up",
         "type": "bar",
         "x": [
          "11/01 18:48",
          "12/01 17:47",
          "12/01 19:56",
          "13/01 17:31",
          "13/01 19:32",
          "13/01 19:56",
          "14/01 19:30",
          "18/01 18:41",
          "18/01 19:54",
          "19/01 17:40",
          "19/01 18:32",
          "19/01 19:46",
          "21/01 17:33",
          "21/01 18:34",
          "21/01 19:41"
         ],
         "y": [
          0.22714811623717887,
          2.3466257668711674,
          0.9497336113041605,
          5.62401263823064,
          0.7945609436435116,
          2.639610657428032,
          1.482560630731,
          2.9401709401709386,
          1.5835929387331242,
          1.4620137498912251,
          1.916114790286977,
          2.310462971097246,
          0.7712532865907183,
          2.007136485280999,
          0.8093525179856166
         ]
        },
        {
         "marker": {
          "color": "gray"
         },
         "name": "profit",
         "type": "bar",
         "x": [
          "11/01 18:48",
          "12/01 17:47",
          "12/01 19:56",
          "13/01 17:31",
          "13/01 19:32",
          "13/01 19:56",
          "14/01 19:30",
          "18/01 18:41",
          "18/01 19:54",
          "19/01 17:40",
          "19/01 18:32",
          "19/01 19:46",
          "21/01 17:33",
          "21/01 18:34",
          "21/01 19:41"
         ],
         "y": [
          -1.6683637502937336,
          0.6825153374233242,
          -0.02316423442205323,
          3.5703001579778797,
          -0.6962647444298774,
          1.6085127443702079,
          0.0685577170280215,
          1.2307692307692288,
          0.12114918656974781,
          -1.4446088242972732,
          -0.5121412803531994,
          1.6164455767372425,
          -3.216476774758972,
          -0.802854594112392,
          -1.5917266187050323
         ]
        }
       ],
       "layout": {
        "barmode": "group",
        "template": {
         "data": {
          "bar": [
           {
            "error_x": {
             "color": "#2a3f5f"
            },
            "error_y": {
             "color": "#2a3f5f"
            },
            "marker": {
             "line": {
              "color": "#E5ECF6",
              "width": 0.5
             },
             "pattern": {
              "fillmode": "overlay",
              "size": 10,
              "solidity": 0.2
             }
            },
            "type": "bar"
           }
          ],
          "barpolar": [
           {
            "marker": {
             "line": {
              "color": "#E5ECF6",
              "width": 0.5
             },
             "pattern": {
              "fillmode": "overlay",
              "size": 10,
              "solidity": 0.2
             }
            },
            "type": "barpolar"
           }
          ],
          "carpet": [
           {
            "aaxis": {
             "endlinecolor": "#2a3f5f",
             "gridcolor": "white",
             "linecolor": "white",
             "minorgridcolor": "white",
             "startlinecolor": "#2a3f5f"
            },
            "baxis": {
             "endlinecolor": "#2a3f5f",
             "gridcolor": "white",
             "linecolor": "white",
             "minorgridcolor": "white",
             "startlinecolor": "#2a3f5f"
            },
            "type": "carpet"
           }
          ],
          "choropleth": [
           {
            "colorbar": {
             "outlinewidth": 0,
             "ticks": ""
            },
            "type": "choropleth"
           }
          ],
          "contour": [
           {
            "colorbar": {
             "outlinewidth": 0,
             "ticks": ""
            },
            "colorscale": [
             [
              0,
              "#0d0887"
             ],
             [
              0.1111111111111111,
              "#46039f"
             ],
             [
              0.2222222222222222,
              "#7201a8"
             ],
             [
              0.3333333333333333,
              "#9c179e"
             ],
             [
              0.4444444444444444,
              "#bd3786"
             ],
             [
              0.5555555555555556,
              "#d8576b"
             ],
             [
              0.6666666666666666,
              "#ed7953"
             ],
             [
              0.7777777777777778,
              "#fb9f3a"
             ],
             [
              0.8888888888888888,
              "#fdca26"
             ],
             [
              1,
              "#f0f921"
             ]
            ],
            "type": "contour"
           }
          ],
          "contourcarpet": [
           {
            "colorbar": {
             "outlinewidth": 0,
             "ticks": ""
            },
            "type": "contourcarpet"
           }
          ],
          "heatmap": [
           {
            "colorbar": {
             "outlinewidth": 0,
             "ticks": ""
            },
            "colorscale": [
             [
              0,
              "#0d0887"
             ],
             [
              0.1111111111111111,
              "#46039f"
             ],
             [
              0.2222222222222222,
              "#7201a8"
             ],
             [
              0.3333333333333333,
              "#9c179e"
             ],
             [
              0.4444444444444444,
              "#bd3786"
             ],
             [
              0.5555555555555556,
              "#d8576b"
             ],
             [
              0.6666666666666666,
              "#ed7953"
             ],
             [
              0.7777777777777778,
              "#fb9f3a"
             ],
             [
              0.8888888888888888,
              "#fdca26"
             ],
             [
              1,
              "#f0f921"
             ]
            ],
            "type": "heatmap"
           }
          ],
          "heatmapgl": [
           {
            "colorbar": {
             "outlinewidth": 0,
             "ticks": ""
            },
            "colorscale": [
             [
              0,
              "#0d0887"
             ],
             [
              0.1111111111111111,
              "#46039f"
             ],
             [
              0.2222222222222222,
              "#7201a8"
             ],
             [
              0.3333333333333333,
              "#9c179e"
             ],
             [
              0.4444444444444444,
              "#bd3786"
             ],
             [
              0.5555555555555556,
              "#d8576b"
             ],
             [
              0.6666666666666666,
              "#ed7953"
             ],
             [
              0.7777777777777778,
              "#fb9f3a"
             ],
             [
              0.8888888888888888,
              "#fdca26"
             ],
             [
              1,
              "#f0f921"
             ]
            ],
            "type": "heatmapgl"
           }
          ],
          "histogram": [
           {
            "marker": {
             "pattern": {
              "fillmode": "overlay",
              "size": 10,
              "solidity": 0.2
             }
            },
            "type": "histogram"
           }
          ],
          "histogram2d": [
           {
            "colorbar": {
             "outlinewidth": 0,
             "ticks": ""
            },
            "colorscale": [
             [
              0,
              "#0d0887"
             ],
             [
              0.1111111111111111,
              "#46039f"
             ],
             [
              0.2222222222222222,
              "#7201a8"
             ],
             [
              0.3333333333333333,
              "#9c179e"
             ],
             [
              0.4444444444444444,
              "#bd3786"
             ],
             [
              0.5555555555555556,
              "#d8576b"
             ],
             [
              0.6666666666666666,
              "#ed7953"
             ],
             [
              0.7777777777777778,
              "#fb9f3a"
             ],
             [
              0.8888888888888888,
              "#fdca26"
             ],
             [
              1,
              "#f0f921"
             ]
            ],
            "type": "histogram2d"
           }
          ],
          "histogram2dcontour": [
           {
            "colorbar": {
             "outlinewidth": 0,
             "ticks": ""
            },
            "colorscale": [
             [
              0,
              "#0d0887"
             ],
             [
              0.1111111111111111,
              "#46039f"
             ],
             [
              0.2222222222222222,
              "#7201a8"
             ],
             [
              0.3333333333333333,
              "#9c179e"
             ],
             [
              0.4444444444444444,
              "#bd3786"
             ],
             [
              0.5555555555555556,
              "#d8576b"
             ],
             [
              0.6666666666666666,
              "#ed7953"
             ],
             [
              0.7777777777777778,
              "#fb9f3a"
             ],
             [
              0.8888888888888888,
              "#fdca26"
             ],
             [
              1,
              "#f0f921"
             ]
            ],
            "type": "histogram2dcontour"
           }
          ],
          "mesh3d": [
           {
            "colorbar": {
             "outlinewidth": 0,
             "ticks": ""
            },
            "type": "mesh3d"
           }
          ],
          "parcoords": [
           {
            "line": {
             "colorbar": {
              "outlinewidth": 0,
              "ticks": ""
             }
            },
            "type": "parcoords"
           }
          ],
          "pie": [
           {
            "automargin": true,
            "type": "pie"
           }
          ],
          "scatter": [
           {
            "marker": {
             "colorbar": {
              "outlinewidth": 0,
              "ticks": ""
             }
            },
            "type": "scatter"
           }
          ],
          "scatter3d": [
           {
            "line": {
             "colorbar": {
              "outlinewidth": 0,
              "ticks": ""
             }
            },
            "marker": {
             "colorbar": {
              "outlinewidth": 0,
              "ticks": ""
             }
            },
            "type": "scatter3d"
           }
          ],
          "scattercarpet": [
           {
            "marker": {
             "colorbar": {
              "outlinewidth": 0,
              "ticks": ""
             }
            },
            "type": "scattercarpet"
           }
          ],
          "scattergeo": [
           {
            "marker": {
             "colorbar": {
              "outlinewidth": 0,
              "ticks": ""
             }
            },
            "type": "scattergeo"
           }
          ],
          "scattergl": [
           {
            "marker": {
             "colorbar": {
              "outlinewidth": 0,
              "ticks": ""
             }
            },
            "type": "scattergl"
           }
          ],
          "scattermapbox": [
           {
            "marker": {
             "colorbar": {
              "outlinewidth": 0,
              "ticks": ""
             }
            },
            "type": "scattermapbox"
           }
          ],
          "scatterpolar": [
           {
            "marker": {
             "colorbar": {
              "outlinewidth": 0,
              "ticks": ""
             }
            },
            "type": "scatterpolar"
           }
          ],
          "scatterpolargl": [
           {
            "marker": {
             "colorbar": {
              "outlinewidth": 0,
              "ticks": ""
             }
            },
            "type": "scatterpolargl"
           }
          ],
          "scatterternary": [
           {
            "marker": {
             "colorbar": {
              "outlinewidth": 0,
              "ticks": ""
             }
            },
            "type": "scatterternary"
           }
          ],
          "surface": [
           {
            "colorbar": {
             "outlinewidth": 0,
             "ticks": ""
            },
            "colorscale": [
             [
              0,
              "#0d0887"
             ],
             [
              0.1111111111111111,
              "#46039f"
             ],
             [
              0.2222222222222222,
              "#7201a8"
             ],
             [
              0.3333333333333333,
              "#9c179e"
             ],
             [
              0.4444444444444444,
              "#bd3786"
             ],
             [
              0.5555555555555556,
              "#d8576b"
             ],
             [
              0.6666666666666666,
              "#ed7953"
             ],
             [
              0.7777777777777778,
              "#fb9f3a"
             ],
             [
              0.8888888888888888,
              "#fdca26"
             ],
             [
              1,
              "#f0f921"
             ]
            ],
            "type": "surface"
           }
          ],
          "table": [
           {
            "cells": {
             "fill": {
              "color": "#EBF0F8"
             },
             "line": {
              "color": "white"
             }
            },
            "header": {
             "fill": {
              "color": "#C8D4E3"
             },
             "line": {
              "color": "white"
             }
            },
            "type": "table"
           }
          ]
         },
         "layout": {
          "annotationdefaults": {
           "arrowcolor": "#2a3f5f",
           "arrowhead": 0,
           "arrowwidth": 1
          },
          "autotypenumbers": "strict",
          "coloraxis": {
           "colorbar": {
            "outlinewidth": 0,
            "ticks": ""
           }
          },
          "colorscale": {
           "diverging": [
            [
             0,
             "#8e0152"
            ],
            [
             0.1,
             "#c51b7d"
            ],
            [
             0.2,
             "#de77ae"
            ],
            [
             0.3,
             "#f1b6da"
            ],
            [
             0.4,
             "#fde0ef"
            ],
            [
             0.5,
             "#f7f7f7"
            ],
            [
             0.6,
             "#e6f5d0"
            ],
            [
             0.7,
             "#b8e186"
            ],
            [
             0.8,
             "#7fbc41"
            ],
            [
             0.9,
             "#4d9221"
            ],
            [
             1,
             "#276419"
            ]
           ],
           "sequential": [
            [
             0,
             "#0d0887"
            ],
            [
             0.1111111111111111,
             "#46039f"
            ],
            [
             0.2222222222222222,
             "#7201a8"
            ],
            [
             0.3333333333333333,
             "#9c179e"
            ],
            [
             0.4444444444444444,
             "#bd3786"
            ],
            [
             0.5555555555555556,
             "#d8576b"
            ],
            [
             0.6666666666666666,
             "#ed7953"
            ],
            [
             0.7777777777777778,
             "#fb9f3a"
            ],
            [
             0.8888888888888888,
             "#fdca26"
            ],
            [
             1,
             "#f0f921"
            ]
           ],
           "sequentialminus": [
            [
             0,
             "#0d0887"
            ],
            [
             0.1111111111111111,
             "#46039f"
            ],
            [
             0.2222222222222222,
             "#7201a8"
            ],
            [
             0.3333333333333333,
             "#9c179e"
            ],
            [
             0.4444444444444444,
             "#bd3786"
            ],
            [
             0.5555555555555556,
             "#d8576b"
            ],
            [
             0.6666666666666666,
             "#ed7953"
            ],
            [
             0.7777777777777778,
             "#fb9f3a"
            ],
            [
             0.8888888888888888,
             "#fdca26"
            ],
            [
             1,
             "#f0f921"
            ]
           ]
          },
          "colorway": [
           "#636efa",
           "#EF553B",
           "#00cc96",
           "#ab63fa",
           "#FFA15A",
           "#19d3f3",
           "#FF6692",
           "#B6E880",
           "#FF97FF",
           "#FECB52"
          ],
          "font": {
           "color": "#2a3f5f"
          },
          "geo": {
           "bgcolor": "white",
           "lakecolor": "white",
           "landcolor": "#E5ECF6",
           "showlakes": true,
           "showland": true,
           "subunitcolor": "white"
          },
          "hoverlabel": {
           "align": "left"
          },
          "hovermode": "closest",
          "mapbox": {
           "style": "light"
          },
          "paper_bgcolor": "white",
          "plot_bgcolor": "#E5ECF6",
          "polar": {
           "angularaxis": {
            "gridcolor": "white",
            "linecolor": "white",
            "ticks": ""
           },
           "bgcolor": "#E5ECF6",
           "radialaxis": {
            "gridcolor": "white",
            "linecolor": "white",
            "ticks": ""
           }
          },
          "scene": {
           "xaxis": {
            "backgroundcolor": "#E5ECF6",
            "gridcolor": "white",
            "gridwidth": 2,
            "linecolor": "white",
            "showbackground": true,
            "ticks": "",
            "zerolinecolor": "white"
           },
           "yaxis": {
            "backgroundcolor": "#E5ECF6",
            "gridcolor": "white",
            "gridwidth": 2,
            "linecolor": "white",
            "showbackground": true,
            "ticks": "",
            "zerolinecolor": "white"
           },
           "zaxis": {
            "backgroundcolor": "#E5ECF6",
            "gridcolor": "white",
            "gridwidth": 2,
            "linecolor": "white",
            "showbackground": true,
            "ticks": "",
            "zerolinecolor": "white"
           }
          },
          "shapedefaults": {
           "line": {
            "color": "#2a3f5f"
           }
          },
          "ternary": {
           "aaxis": {
            "gridcolor": "white",
            "linecolor": "white",
            "ticks": ""
           },
           "baxis": {
            "gridcolor": "white",
            "linecolor": "white",
            "ticks": ""
           },
           "bgcolor": "#E5ECF6",
           "caxis": {
            "gridcolor": "white",
            "linecolor": "white",
            "ticks": ""
           }
          },
          "title": {
           "x": 0.05
          },
          "xaxis": {
           "automargin": true,
           "gridcolor": "white",
           "linecolor": "white",
           "ticks": "",
           "title": {
            "standoff": 15
           },
           "zerolinecolor": "white",
           "zerolinewidth": 2
          },
          "yaxis": {
           "automargin": true,
           "gridcolor": "white",
           "linecolor": "white",
           "ticks": "",
           "title": {
            "standoff": 15
           },
           "zerolinecolor": "white",
           "zerolinewidth": 2
          }
         }
        }
       }
      }
     },
     "metadata": {},
     "output_type": "display_data"
    },
    {
     "name": "stdout",
     "output_type": "stream",
     "text": [
      "Long and Short\n",
      "\n",
      "    ticker: MDB\n",
      "    trades: 14\n",
      "    more 0.4% : 92.85%\n",
      "    if less than 0.4% then average profit is -2.84%. 1 trades\n",
      "    profit: 5.2% loss: -2.84%\n",
      "\n",
      "    more 0.6% : 92.85%\n",
      "    if less than 0.6% then average profit is -2.84%. 1 trades\n",
      "    profit: 7.8% loss: -2.84%\n",
      "\n",
      "    more 0.8% : 92.85%\n",
      "    if less than 0.8% then average profit is -2.84%. 1 trades\n",
      "    profit: 10.4% loss: -2.84%\n",
      "\n",
      "    more 1% : 85.71%\n",
      "    if less than 1% then average profit is -2.62%. 2 trades\n",
      "    profit: 12.0% loss: -5.24%\n",
      "  \n"
     ]
    },
    {
     "data": {
      "application/vnd.plotly.v1+json": {
       "config": {
        "plotlyServerURL": "https://plot.ly"
       },
       "data": [
        {
         "marker": {
          "color": "green"
         },
         "name": "run up",
         "type": "bar",
         "x": [
          "11/01 18:37",
          "12/01 17:43",
          "12/01 19:53",
          "13/01 17:36",
          "13/01 19:53",
          "14/01 17:32",
          "14/01 19:31",
          "18/01 17:44",
          "18/01 18:34",
          "18/01 19:44",
          "19/01 18:38",
          "21/01 17:36",
          "21/01 18:35",
          "21/01 19:40"
         ],
         "y": [
          1.594874591057806,
          2.188089341301037,
          1.8820548260769312,
          5.150679767206242,
          3.2255706872609466,
          0.8221187898411414,
          4.412613463455584,
          3.056216161513936,
          1.738230990463693,
          1.2741125805876208,
          1.2256095997538454,
          0.27321706712968696,
          2.0984081041968174,
          3.4919317179473826
         ]
        },
        {
         "marker": {
          "color": "gray"
         },
         "name": "profit",
         "type": "bar",
         "x": [
          "11/01 18:37",
          "12/01 17:43",
          "12/01 19:53",
          "13/01 17:36",
          "13/01 19:53",
          "14/01 17:32",
          "14/01 19:31",
          "18/01 17:44",
          "18/01 18:34",
          "18/01 19:44",
          "19/01 18:38",
          "21/01 17:36",
          "21/01 18:35",
          "21/01 19:40"
         ],
         "y": [
          -0.46119592875317444,
          1.3655676989843426,
          0.5067956692006423,
          3.4094389858862955,
          2.4825200380052266,
          -2.3955276737832567,
          2.37945327666719,
          0.28335778980924065,
          0.9965184923558174,
          0.2395331651504721,
          -0.26409579241558667,
          -2.8368613231877062,
          -0.38763696506098827,
          1.8782753074248828
         ]
        }
       ],
       "layout": {
        "barmode": "group",
        "template": {
         "data": {
          "bar": [
           {
            "error_x": {
             "color": "#2a3f5f"
            },
            "error_y": {
             "color": "#2a3f5f"
            },
            "marker": {
             "line": {
              "color": "#E5ECF6",
              "width": 0.5
             },
             "pattern": {
              "fillmode": "overlay",
              "size": 10,
              "solidity": 0.2
             }
            },
            "type": "bar"
           }
          ],
          "barpolar": [
           {
            "marker": {
             "line": {
              "color": "#E5ECF6",
              "width": 0.5
             },
             "pattern": {
              "fillmode": "overlay",
              "size": 10,
              "solidity": 0.2
             }
            },
            "type": "barpolar"
           }
          ],
          "carpet": [
           {
            "aaxis": {
             "endlinecolor": "#2a3f5f",
             "gridcolor": "white",
             "linecolor": "white",
             "minorgridcolor": "white",
             "startlinecolor": "#2a3f5f"
            },
            "baxis": {
             "endlinecolor": "#2a3f5f",
             "gridcolor": "white",
             "linecolor": "white",
             "minorgridcolor": "white",
             "startlinecolor": "#2a3f5f"
            },
            "type": "carpet"
           }
          ],
          "choropleth": [
           {
            "colorbar": {
             "outlinewidth": 0,
             "ticks": ""
            },
            "type": "choropleth"
           }
          ],
          "contour": [
           {
            "colorbar": {
             "outlinewidth": 0,
             "ticks": ""
            },
            "colorscale": [
             [
              0,
              "#0d0887"
             ],
             [
              0.1111111111111111,
              "#46039f"
             ],
             [
              0.2222222222222222,
              "#7201a8"
             ],
             [
              0.3333333333333333,
              "#9c179e"
             ],
             [
              0.4444444444444444,
              "#bd3786"
             ],
             [
              0.5555555555555556,
              "#d8576b"
             ],
             [
              0.6666666666666666,
              "#ed7953"
             ],
             [
              0.7777777777777778,
              "#fb9f3a"
             ],
             [
              0.8888888888888888,
              "#fdca26"
             ],
             [
              1,
              "#f0f921"
             ]
            ],
            "type": "contour"
           }
          ],
          "contourcarpet": [
           {
            "colorbar": {
             "outlinewidth": 0,
             "ticks": ""
            },
            "type": "contourcarpet"
           }
          ],
          "heatmap": [
           {
            "colorbar": {
             "outlinewidth": 0,
             "ticks": ""
            },
            "colorscale": [
             [
              0,
              "#0d0887"
             ],
             [
              0.1111111111111111,
              "#46039f"
             ],
             [
              0.2222222222222222,
              "#7201a8"
             ],
             [
              0.3333333333333333,
              "#9c179e"
             ],
             [
              0.4444444444444444,
              "#bd3786"
             ],
             [
              0.5555555555555556,
              "#d8576b"
             ],
             [
              0.6666666666666666,
              "#ed7953"
             ],
             [
              0.7777777777777778,
              "#fb9f3a"
             ],
             [
              0.8888888888888888,
              "#fdca26"
             ],
             [
              1,
              "#f0f921"
             ]
            ],
            "type": "heatmap"
           }
          ],
          "heatmapgl": [
           {
            "colorbar": {
             "outlinewidth": 0,
             "ticks": ""
            },
            "colorscale": [
             [
              0,
              "#0d0887"
             ],
             [
              0.1111111111111111,
              "#46039f"
             ],
             [
              0.2222222222222222,
              "#7201a8"
             ],
             [
              0.3333333333333333,
              "#9c179e"
             ],
             [
              0.4444444444444444,
              "#bd3786"
             ],
             [
              0.5555555555555556,
              "#d8576b"
             ],
             [
              0.6666666666666666,
              "#ed7953"
             ],
             [
              0.7777777777777778,
              "#fb9f3a"
             ],
             [
              0.8888888888888888,
              "#fdca26"
             ],
             [
              1,
              "#f0f921"
             ]
            ],
            "type": "heatmapgl"
           }
          ],
          "histogram": [
           {
            "marker": {
             "pattern": {
              "fillmode": "overlay",
              "size": 10,
              "solidity": 0.2
             }
            },
            "type": "histogram"
           }
          ],
          "histogram2d": [
           {
            "colorbar": {
             "outlinewidth": 0,
             "ticks": ""
            },
            "colorscale": [
             [
              0,
              "#0d0887"
             ],
             [
              0.1111111111111111,
              "#46039f"
             ],
             [
              0.2222222222222222,
              "#7201a8"
             ],
             [
              0.3333333333333333,
              "#9c179e"
             ],
             [
              0.4444444444444444,
              "#bd3786"
             ],
             [
              0.5555555555555556,
              "#d8576b"
             ],
             [
              0.6666666666666666,
              "#ed7953"
             ],
             [
              0.7777777777777778,
              "#fb9f3a"
             ],
             [
              0.8888888888888888,
              "#fdca26"
             ],
             [
              1,
              "#f0f921"
             ]
            ],
            "type": "histogram2d"
           }
          ],
          "histogram2dcontour": [
           {
            "colorbar": {
             "outlinewidth": 0,
             "ticks": ""
            },
            "colorscale": [
             [
              0,
              "#0d0887"
             ],
             [
              0.1111111111111111,
              "#46039f"
             ],
             [
              0.2222222222222222,
              "#7201a8"
             ],
             [
              0.3333333333333333,
              "#9c179e"
             ],
             [
              0.4444444444444444,
              "#bd3786"
             ],
             [
              0.5555555555555556,
              "#d8576b"
             ],
             [
              0.6666666666666666,
              "#ed7953"
             ],
             [
              0.7777777777777778,
              "#fb9f3a"
             ],
             [
              0.8888888888888888,
              "#fdca26"
             ],
             [
              1,
              "#f0f921"
             ]
            ],
            "type": "histogram2dcontour"
           }
          ],
          "mesh3d": [
           {
            "colorbar": {
             "outlinewidth": 0,
             "ticks": ""
            },
            "type": "mesh3d"
           }
          ],
          "parcoords": [
           {
            "line": {
             "colorbar": {
              "outlinewidth": 0,
              "ticks": ""
             }
            },
            "type": "parcoords"
           }
          ],
          "pie": [
           {
            "automargin": true,
            "type": "pie"
           }
          ],
          "scatter": [
           {
            "marker": {
             "colorbar": {
              "outlinewidth": 0,
              "ticks": ""
             }
            },
            "type": "scatter"
           }
          ],
          "scatter3d": [
           {
            "line": {
             "colorbar": {
              "outlinewidth": 0,
              "ticks": ""
             }
            },
            "marker": {
             "colorbar": {
              "outlinewidth": 0,
              "ticks": ""
             }
            },
            "type": "scatter3d"
           }
          ],
          "scattercarpet": [
           {
            "marker": {
             "colorbar": {
              "outlinewidth": 0,
              "ticks": ""
             }
            },
            "type": "scattercarpet"
           }
          ],
          "scattergeo": [
           {
            "marker": {
             "colorbar": {
              "outlinewidth": 0,
              "ticks": ""
             }
            },
            "type": "scattergeo"
           }
          ],
          "scattergl": [
           {
            "marker": {
             "colorbar": {
              "outlinewidth": 0,
              "ticks": ""
             }
            },
            "type": "scattergl"
           }
          ],
          "scattermapbox": [
           {
            "marker": {
             "colorbar": {
              "outlinewidth": 0,
              "ticks": ""
             }
            },
            "type": "scattermapbox"
           }
          ],
          "scatterpolar": [
           {
            "marker": {
             "colorbar": {
              "outlinewidth": 0,
              "ticks": ""
             }
            },
            "type": "scatterpolar"
           }
          ],
          "scatterpolargl": [
           {
            "marker": {
             "colorbar": {
              "outlinewidth": 0,
              "ticks": ""
             }
            },
            "type": "scatterpolargl"
           }
          ],
          "scatterternary": [
           {
            "marker": {
             "colorbar": {
              "outlinewidth": 0,
              "ticks": ""
             }
            },
            "type": "scatterternary"
           }
          ],
          "surface": [
           {
            "colorbar": {
             "outlinewidth": 0,
             "ticks": ""
            },
            "colorscale": [
             [
              0,
              "#0d0887"
             ],
             [
              0.1111111111111111,
              "#46039f"
             ],
             [
              0.2222222222222222,
              "#7201a8"
             ],
             [
              0.3333333333333333,
              "#9c179e"
             ],
             [
              0.4444444444444444,
              "#bd3786"
             ],
             [
              0.5555555555555556,
              "#d8576b"
             ],
             [
              0.6666666666666666,
              "#ed7953"
             ],
             [
              0.7777777777777778,
              "#fb9f3a"
             ],
             [
              0.8888888888888888,
              "#fdca26"
             ],
             [
              1,
              "#f0f921"
             ]
            ],
            "type": "surface"
           }
          ],
          "table": [
           {
            "cells": {
             "fill": {
              "color": "#EBF0F8"
             },
             "line": {
              "color": "white"
             }
            },
            "header": {
             "fill": {
              "color": "#C8D4E3"
             },
             "line": {
              "color": "white"
             }
            },
            "type": "table"
           }
          ]
         },
         "layout": {
          "annotationdefaults": {
           "arrowcolor": "#2a3f5f",
           "arrowhead": 0,
           "arrowwidth": 1
          },
          "autotypenumbers": "strict",
          "coloraxis": {
           "colorbar": {
            "outlinewidth": 0,
            "ticks": ""
           }
          },
          "colorscale": {
           "diverging": [
            [
             0,
             "#8e0152"
            ],
            [
             0.1,
             "#c51b7d"
            ],
            [
             0.2,
             "#de77ae"
            ],
            [
             0.3,
             "#f1b6da"
            ],
            [
             0.4,
             "#fde0ef"
            ],
            [
             0.5,
             "#f7f7f7"
            ],
            [
             0.6,
             "#e6f5d0"
            ],
            [
             0.7,
             "#b8e186"
            ],
            [
             0.8,
             "#7fbc41"
            ],
            [
             0.9,
             "#4d9221"
            ],
            [
             1,
             "#276419"
            ]
           ],
           "sequential": [
            [
             0,
             "#0d0887"
            ],
            [
             0.1111111111111111,
             "#46039f"
            ],
            [
             0.2222222222222222,
             "#7201a8"
            ],
            [
             0.3333333333333333,
             "#9c179e"
            ],
            [
             0.4444444444444444,
             "#bd3786"
            ],
            [
             0.5555555555555556,
             "#d8576b"
            ],
            [
             0.6666666666666666,
             "#ed7953"
            ],
            [
             0.7777777777777778,
             "#fb9f3a"
            ],
            [
             0.8888888888888888,
             "#fdca26"
            ],
            [
             1,
             "#f0f921"
            ]
           ],
           "sequentialminus": [
            [
             0,
             "#0d0887"
            ],
            [
             0.1111111111111111,
             "#46039f"
            ],
            [
             0.2222222222222222,
             "#7201a8"
            ],
            [
             0.3333333333333333,
             "#9c179e"
            ],
            [
             0.4444444444444444,
             "#bd3786"
            ],
            [
             0.5555555555555556,
             "#d8576b"
            ],
            [
             0.6666666666666666,
             "#ed7953"
            ],
            [
             0.7777777777777778,
             "#fb9f3a"
            ],
            [
             0.8888888888888888,
             "#fdca26"
            ],
            [
             1,
             "#f0f921"
            ]
           ]
          },
          "colorway": [
           "#636efa",
           "#EF553B",
           "#00cc96",
           "#ab63fa",
           "#FFA15A",
           "#19d3f3",
           "#FF6692",
           "#B6E880",
           "#FF97FF",
           "#FECB52"
          ],
          "font": {
           "color": "#2a3f5f"
          },
          "geo": {
           "bgcolor": "white",
           "lakecolor": "white",
           "landcolor": "#E5ECF6",
           "showlakes": true,
           "showland": true,
           "subunitcolor": "white"
          },
          "hoverlabel": {
           "align": "left"
          },
          "hovermode": "closest",
          "mapbox": {
           "style": "light"
          },
          "paper_bgcolor": "white",
          "plot_bgcolor": "#E5ECF6",
          "polar": {
           "angularaxis": {
            "gridcolor": "white",
            "linecolor": "white",
            "ticks": ""
           },
           "bgcolor": "#E5ECF6",
           "radialaxis": {
            "gridcolor": "white",
            "linecolor": "white",
            "ticks": ""
           }
          },
          "scene": {
           "xaxis": {
            "backgroundcolor": "#E5ECF6",
            "gridcolor": "white",
            "gridwidth": 2,
            "linecolor": "white",
            "showbackground": true,
            "ticks": "",
            "zerolinecolor": "white"
           },
           "yaxis": {
            "backgroundcolor": "#E5ECF6",
            "gridcolor": "white",
            "gridwidth": 2,
            "linecolor": "white",
            "showbackground": true,
            "ticks": "",
            "zerolinecolor": "white"
           },
           "zaxis": {
            "backgroundcolor": "#E5ECF6",
            "gridcolor": "white",
            "gridwidth": 2,
            "linecolor": "white",
            "showbackground": true,
            "ticks": "",
            "zerolinecolor": "white"
           }
          },
          "shapedefaults": {
           "line": {
            "color": "#2a3f5f"
           }
          },
          "ternary": {
           "aaxis": {
            "gridcolor": "white",
            "linecolor": "white",
            "ticks": ""
           },
           "baxis": {
            "gridcolor": "white",
            "linecolor": "white",
            "ticks": ""
           },
           "bgcolor": "#E5ECF6",
           "caxis": {
            "gridcolor": "white",
            "linecolor": "white",
            "ticks": ""
           }
          },
          "title": {
           "x": 0.05
          },
          "xaxis": {
           "automargin": true,
           "gridcolor": "white",
           "linecolor": "white",
           "ticks": "",
           "title": {
            "standoff": 15
           },
           "zerolinecolor": "white",
           "zerolinewidth": 2
          },
          "yaxis": {
           "automargin": true,
           "gridcolor": "white",
           "linecolor": "white",
           "ticks": "",
           "title": {
            "standoff": 15
           },
           "zerolinecolor": "white",
           "zerolinewidth": 2
          }
         }
        }
       }
      }
     },
     "metadata": {},
     "output_type": "display_data"
    }
   ],
   "source": [
    "import matplotlib.pyplot as plt\n",
    "import matplotlib\n",
    "import plotly.graph_objects as go\n",
    "from functools import reduce\n",
    "\n",
    "matplotlib.rcParams.update({'font.size': 22})\n",
    "\n",
    "def frequences(items, ticker):\n",
    "  more1 = 0\n",
    "  more04 = 0\n",
    "  more06 = 0\n",
    "  more08 = 0\n",
    "\n",
    "  for item in items:\n",
    "    if item['run_up'] >= 1:\n",
    "      more1 += 1\n",
    "    \n",
    "    if item['run_up'] >= 0.4:\n",
    "      more04 += 1\n",
    "\n",
    "    if item['run_up'] >= 0.6:\n",
    "      more06 += 1\n",
    "    \n",
    "    if item['run_up'] >= 0.8:\n",
    "      more08 += 1\n",
    "  \n",
    "  percent1 = more04 / len(items) * 100\n",
    "  percent2 = more06 / len(items) * 100\n",
    "  percent3 = more08 / len(items) * 100\n",
    "  percent4 = more1 / len(items) * 100\n",
    "\n",
    "  less04_list = list(filter(lambda x: x['run_up'] < 0.4, items))\n",
    "  less04_profit = reduce(lambda a, b: a + b['profit'], less04_list, 0)\n",
    "  \n",
    "  less06_list = list(filter(lambda x: x['run_up'] < 0.6, items))\n",
    "  less06_profit = reduce(lambda a, b: a + b['profit'], less06_list, 0)\n",
    "  \n",
    "  less08_list = list(filter(lambda x: x['run_up'] < 0.8, items))\n",
    "  less08_profit = reduce(lambda a, b: a + b['profit'], less08_list, 0)\n",
    "  \n",
    "  less1_list = list(filter(lambda x: x['run_up'] < 1, items))\n",
    "  less1_profit = reduce(lambda a, b: a + b['profit'], less1_list, 0)\n",
    "\n",
    "  average_less04_profit = round_decimals_down(less04_profit / len(less04_list), 2) if len(less04_list) > 0 else 0\n",
    "  average_less06_profit = round_decimals_down(less06_profit / len(less06_list), 2) if len(less06_list) > 0 else 0\n",
    "  average_less08_profit = round_decimals_down(less08_profit / len(less08_list), 2) if len(less08_list) > 0 else 0\n",
    "  average_less1_profit = round_decimals_down(less1_profit / len(less1_list), 2) if len(less1_list) > 0 else 0\n",
    "\n",
    "  print(f\"\"\"\n",
    "    ticker: {ticker}\n",
    "    trades: {len(items)}\n",
    "    more 0.4% : {round_decimals_down(percent1, 2)}%\n",
    "    if less than 0.4% then average profit is {average_less04_profit}%. {len(less04_list)} trades\n",
    "    profit: {round_decimals_down((len(items) - len(less04_list)) * 0.4, 2)}% loss: {round_decimals_down(len(less04_list) * average_less04_profit, 2)}%\n",
    "\n",
    "    more 0.6% : {round_decimals_down(percent2, 2)}%\n",
    "    if less than 0.6% then average profit is {average_less06_profit}%. {len(less06_list)} trades\n",
    "    profit: {round_decimals_down((len(items) - len(less06_list)) * 0.6, 2)}% loss: {round_decimals_down(len(less06_list) * average_less06_profit, 2)}%\n",
    "\n",
    "    more 0.8% : {round_decimals_down(percent3, 2)}%\n",
    "    if less than 0.8% then average profit is {average_less08_profit}%. {len(less08_list)} trades\n",
    "    profit: {round_decimals_down((len(items) - len(less08_list)) * 0.8, 2)}% loss: {round_decimals_down(len(less08_list) * average_less08_profit, 2)}%\n",
    "\n",
    "    more 1% : {round_decimals_down(percent4, 2)}%\n",
    "    if less than 1% then average profit is {average_less1_profit}%. {len(less1_list)} trades\n",
    "    profit: {round_decimals_down((len(items) - len(less1_list)), 2)}% loss: {round_decimals_down(len(less1_list) * average_less1_profit, 2)}%\n",
    "  \"\"\")\n",
    "\n",
    "print(f\"\"\"\n",
    "periods = {periods}\n",
    "interval = {interval}\n",
    "pmax_multiplier = {pmax_multiplier}\n",
    "\"\"\")\n",
    "\n",
    "def get_stats(items):\n",
    "  frequences(items, ticker)\n",
    "\n",
    "  x = list(map(lambda q: q['time'].format('DD/MM HH:mm'), items))\n",
    "\n",
    "  fig = go.Figure()\n",
    "  fig.add_trace(\n",
    "    go.Bar(\n",
    "      x=x,\n",
    "      y=list(map(lambda q: q['run_up'], items)),\n",
    "      name='run up',\n",
    "      marker_color='green'\n",
    "    )\n",
    "  )\n",
    "  fig.add_trace(\n",
    "    go.Bar(\n",
    "      x=x,\n",
    "      y=list(map(lambda q: q['profit'], items)),\n",
    "      name='profit',\n",
    "      marker_color='gray'\n",
    "    )\n",
    "  )\n",
    "  fig.update_layout(\n",
    "    barmode='group',\n",
    "  )\n",
    "\n",
    "  fig.show()\n",
    "\n",
    "for company in companies:\n",
    "  figi = company[\"figi\"]\n",
    "  ticker = company[\"ticker\"]\n",
    "\n",
    "  filtered = list(filter(lambda x: x['time'].hour >= 17 and x['time'].minute >= 30 and x['time'].hour <= 19, trades[figi]))\n",
    "  print(\"Long and Short\")\n",
    "  get_stats(filtered)\n",
    "  \n",
    "  # short = list(filter(lambda x: x['type'] == 'short', filtered))\n",
    "  # print(\"Short\")\n",
    "  # get_stats(short)\n",
    "  \n",
    "  # long = list(filter(lambda x: x['type'] == 'long', filtered))\n",
    "  # print(\"Long\")\n",
    "  # get_stats(long)\n",
    "\n",
    "\n"
   ]
  }
 ],
 "metadata": {
  "interpreter": {
   "hash": "9e9b63d0bf04b8588851f2dcd2cf5c1cca7d58c4ac4d3794a5a37d0563c85fe3"
  },
  "kernelspec": {
   "display_name": "Python 3.9.7 64-bit ('backend-VZWEIILi-py3.9': poetry)",
   "language": "python",
   "name": "python3"
  },
  "language_info": {
   "codemirror_mode": {
    "name": "ipython",
    "version": 3
   },
   "file_extension": ".py",
   "mimetype": "text/x-python",
   "name": "python",
   "nbconvert_exporter": "python",
   "pygments_lexer": "ipython3",
   "version": "3.9.7"
  },
  "orig_nbformat": 4
 },
 "nbformat": 4,
 "nbformat_minor": 2
}
