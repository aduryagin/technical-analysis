{
 "cells": [
  {
   "cell_type": "code",
   "execution_count": 1,
   "metadata": {},
   "outputs": [],
   "source": [
    "%load_ext dotenv\n",
    "%dotenv ../.env"
   ]
  },
  {
   "cell_type": "code",
   "execution_count": 68,
   "metadata": {},
   "outputs": [
    {
     "name": "stdout",
     "output_type": "stream",
     "text": [
      "[Tinkoff] Downloading candles for TSLA 0/20\n",
      "[Tinkoff] Downloading candles for TSLA 1/20\n",
      "[Tinkoff] Downloading candles for TSLA 2/20\n",
      "[Tinkoff] Downloading candles for TSLA 3/20\n",
      "[Tinkoff] Downloading candles for TSLA 4/20\n",
      "[Tinkoff] Downloading candles for TSLA 5/20\n",
      "[Tinkoff] Downloading candles for TSLA 6/20\n",
      "[Tinkoff] Downloading candles for TSLA 7/20\n",
      "[Tinkoff] Downloading candles for TSLA 8/20\n",
      "[Tinkoff] Downloading candles for TSLA 9/20\n",
      "[Tinkoff] Downloading candles for TSLA 10/20\n",
      "[Tinkoff] Downloading candles for TSLA 11/20\n",
      "[Tinkoff] Downloading candles for TSLA 12/20\n",
      "[Tinkoff] Downloading candles for TSLA 13/20\n",
      "[Tinkoff] Downloading candles for TSLA 14/20\n",
      "[Tinkoff] Downloading candles for TSLA 15/20\n",
      "[Tinkoff] Downloading candles for TSLA 16/20\n",
      "[Tinkoff] Downloading candles for TSLA 17/20\n",
      "[Tinkoff] Downloading candles for TSLA 18/20\n",
      "[Tinkoff] Downloading candles for TSLA 19/20\n",
      "[Tinkoff] Candles for TSLA successfully downloaded!\n",
      "[Tinkoff] Downloading candles for NVDA 0/20\n",
      "[Tinkoff] Downloading candles for NVDA 1/20\n",
      "[Tinkoff] Downloading candles for NVDA 2/20\n",
      "[Tinkoff] Downloading candles for NVDA 3/20\n",
      "[Tinkoff] Downloading candles for NVDA 4/20\n",
      "[Tinkoff] Downloading candles for NVDA 5/20\n",
      "[Tinkoff] Downloading candles for NVDA 6/20\n",
      "[Tinkoff] Downloading candles for NVDA 7/20\n",
      "[Tinkoff] Downloading candles for NVDA 8/20\n",
      "[Tinkoff] Downloading candles for NVDA 9/20\n",
      "[Tinkoff] Downloading candles for NVDA 10/20\n",
      "[Tinkoff] Downloading candles for NVDA 11/20\n",
      "[Tinkoff] Downloading candles for NVDA 12/20\n",
      "[Tinkoff] Downloading candles for NVDA 13/20\n",
      "[Tinkoff] Downloading candles for NVDA 14/20\n",
      "[Tinkoff] Downloading candles for NVDA 15/20\n",
      "[Tinkoff] Downloading candles for NVDA 16/20\n",
      "[Tinkoff] Downloading candles for NVDA 17/20\n",
      "[Tinkoff] Downloading candles for NVDA 18/20\n",
      "[Tinkoff] Downloading candles for NVDA 19/20\n",
      "[Tinkoff] Candles for NVDA successfully downloaded!\n",
      "[Tinkoff] Downloading candles for MRNA 0/20\n",
      "[Tinkoff] Downloading candles for MRNA 1/20\n",
      "[Tinkoff] Downloading candles for MRNA 2/20\n",
      "[Tinkoff] Downloading candles for MRNA 3/20\n",
      "[Tinkoff] Downloading candles for MRNA 4/20\n",
      "[Tinkoff] Downloading candles for MRNA 5/20\n",
      "[Tinkoff] Downloading candles for MRNA 6/20\n",
      "[Tinkoff] Downloading candles for MRNA 7/20\n",
      "[Tinkoff] Downloading candles for MRNA 8/20\n",
      "[Tinkoff] Downloading candles for MRNA 9/20\n",
      "[Tinkoff] Downloading candles for MRNA 10/20\n",
      "[Tinkoff] Downloading candles for MRNA 11/20\n",
      "[Tinkoff] Downloading candles for MRNA 12/20\n",
      "[Tinkoff] Downloading candles for MRNA 13/20\n",
      "[Tinkoff] Downloading candles for MRNA 14/20\n",
      "[Tinkoff] Downloading candles for MRNA 15/20\n",
      "[Tinkoff] Downloading candles for MRNA 16/20\n",
      "[Tinkoff] Downloading candles for MRNA 17/20\n",
      "[Tinkoff] Downloading candles for MRNA 18/20\n",
      "[Tinkoff] Downloading candles for MRNA 19/20\n",
      "[Tinkoff] Candles for MRNA successfully downloaded!\n"
     ]
    }
   ],
   "source": [
    "import tinvest\n",
    "from datetime import datetime, timedelta\n",
    "import pandas as pd\n",
    "import os\n",
    "\n",
    "def get_candles(\n",
    "  company,\n",
    "  interval=tinvest.CandleResolution.min1,\n",
    "  periods=3,\n",
    "):\n",
    "  token = os.environ['TINKOFF_SECRET']\n",
    "  client = tinvest.SyncClient(\n",
    "    token,\n",
    "    use_sandbox=False,\n",
    "  )\n",
    "\n",
    "  figi = company[\"figi\"]\n",
    "  ticker = company[\"ticker\"]\n",
    "\n",
    "  end_date = datetime.now()\n",
    "  periods_with_candles = 0\n",
    "  df = pd.DataFrame()\n",
    "  delta = timedelta(days=1)\n",
    "  if interval == tinvest.CandleResolution.hour:\n",
    "      delta = timedelta(weeks=1)\n",
    "  elif interval in [\n",
    "      tinvest.CandleResolution.day,\n",
    "      tinvest.CandleResolution.week,\n",
    "      tinvest.CandleResolution.month,\n",
    "  ]:\n",
    "      delta = timedelta(years=1)\n",
    "\n",
    "  while periods_with_candles < periods:\n",
    "      start_date = end_date - delta\n",
    "\n",
    "      print(\n",
    "          f\"[Tinkoff] Downloading candles for {ticker} {periods_with_candles}/{periods}\"  # noqa\n",
    "      )\n",
    "      response = client.get_market_candles(\n",
    "          figi,\n",
    "          from_=start_date,\n",
    "          to=end_date,\n",
    "          interval=interval,\n",
    "      )\n",
    "\n",
    "      payload = response.payload\n",
    "\n",
    "      if len(payload.candles) > 0:\n",
    "          df = pd.concat(\n",
    "              [\n",
    "                  pd.DataFrame(\n",
    "                      {\n",
    "                          \"Volume\": float(c.dict()[\"v\"]),\n",
    "                          \"High\": float(c.dict()[\"h\"]),\n",
    "                          \"Low\": float(c.dict()[\"l\"]),\n",
    "                          \"Open\": float(c.dict()[\"o\"]),\n",
    "                          \"Close\": float(c.dict()[\"c\"]),\n",
    "                          \"Date\": c.dict()[\"time\"] + timedelta(hours=3),\n",
    "                      }\n",
    "                      for c in payload.candles\n",
    "                  ),\n",
    "                  df,\n",
    "              ],\n",
    "              ignore_index=True,\n",
    "          )\n",
    "          periods_with_candles += 1\n",
    "\n",
    "      end_date = start_date\n",
    "\n",
    "  df.set_index(\"Date\", inplace=True)\n",
    "\n",
    "  # remove duplicates\n",
    "  df = df[~df.index.duplicated(keep=\"last\")]\n",
    "\n",
    "  print(\n",
    "      f\"[Tinkoff] Candles for {ticker} successfully downloaded!\",  # noqa\n",
    "  )\n",
    "\n",
    "  return df, figi\n",
    "\n",
    "\n",
    "periods = 20\n",
    "interval=tinvest.CandleResolution.min1\n",
    "companies = [\n",
    "  { \"figi\": 'BBG000N9MNX3', \"ticker\": \"TSLA\" },\n",
    "  { \"figi\": 'BBG000BBJQV0', \"ticker\": \"NVDA\" },\n",
    "  { \"figi\": 'BBG003PHHZT1', \"ticker\": \"MRNA\"}]\n",
    "\n",
    "def download():\n",
    "  result = {}\n",
    "  for company in companies:\n",
    "    result[company['figi']] = get_candles(company, interval=interval, periods=periods)\n",
    "  \n",
    "  return result\n",
    "\n",
    "result = download()\n"
   ]
  },
  {
   "cell_type": "code",
   "execution_count": 69,
   "metadata": {},
   "outputs": [],
   "source": [
    "from pandas_ta.overlap import ema, hl2\n",
    "from pandas_ta.volatility import atr\n",
    "from pandas import DataFrame\n",
    "from numpy import NaN as npNaN\n",
    "\n",
    "def pmax(high, low, close, multiplier=3):\n",
    "    length = 10\n",
    "\n",
    "    # Calculate Results\n",
    "    hl2_ = hl2(high, low)\n",
    "    mavg = ema(hl2_, length)\n",
    "    matr = multiplier * atr(high, low, close, length)\n",
    "\n",
    "    m = close.size\n",
    "    direction = [1] * m\n",
    "    trend, long, short = [npNaN] * m, [npNaN] * m, [npNaN] * m\n",
    "\n",
    "    long_stop = mavg - matr\n",
    "    short_stop = mavg + matr\n",
    "\n",
    "    for i in range(1, m):\n",
    "        long_stop_prev = long_stop.iloc[i - 1]\n",
    "        long_stop_item = (\n",
    "            long_stop.iloc[i]\n",
    "            if mavg.iloc[i] <= long_stop_prev\n",
    "            else max(long_stop.iloc[i], long_stop_prev)\n",
    "        )\n",
    "        long_stop.iloc[i] = long_stop_item\n",
    "\n",
    "        short_stop_prev = short_stop.iloc[i - 1]\n",
    "        short_stop_item = (\n",
    "            short_stop.iloc[i]\n",
    "            if mavg.iloc[i] >= short_stop_prev\n",
    "            else min(short_stop.iloc[i], short_stop_prev)\n",
    "        )\n",
    "        short_stop.iloc[i] = short_stop_item\n",
    "\n",
    "        direction_item = direction[i - 1]\n",
    "\n",
    "        if direction_item == -1 and mavg.iloc[i] > short_stop_prev:\n",
    "            direction_item = 1\n",
    "        elif direction_item == 1 and mavg.iloc[i] < long_stop_prev:\n",
    "            direction_item = -1\n",
    "\n",
    "        direction[i] = direction_item\n",
    "        trend[i] = long_stop_item if direction_item == 1 else short_stop_item\n",
    "        long[i] = long_stop_item if direction_item == 1 else npNaN\n",
    "        short[i] = short_stop_item if direction_item == -1 else npNaN\n",
    "\n",
    "    # Prepare DataFrame to return\n",
    "    # _props = f\"_{length}_{multiplier}\"\n",
    "    df = DataFrame(\n",
    "        {\n",
    "            f\"PMax\": trend,\n",
    "            f\"Close\": close,\n",
    "            f\"High\": high,\n",
    "            f\"Low\": low,\n",
    "            f\"PMaxMAvg\": mavg,\n",
    "            f\"PMaxLong\": long,\n",
    "            f\"PMaxShort\": short,\n",
    "            f\"PMaxDirection\": direction,\n",
    "        },\n",
    "        index=close.index,\n",
    "    )\n",
    "\n",
    "    df.name = f\"PMax\"\n",
    "    df.category = \"overlap\"\n",
    "\n",
    "    return df"
   ]
  },
  {
   "cell_type": "code",
   "execution_count": 79,
   "metadata": {},
   "outputs": [],
   "source": [
    "# find out previous run ups\n",
    "\n",
    "import arrow\n",
    "\n",
    "trades = {}\n",
    "pmax_multiplier = 3\n",
    "\n",
    "for company in companies:\n",
    "    figi = company[\"figi\"]\n",
    "    ticker = company[\"ticker\"]\n",
    "\n",
    "    (candles, _) = result[figi]\n",
    "    pmax_result = pmax(high=candles['High'], low=candles['Low'], close=candles['Close'], multiplier=pmax_multiplier)\n",
    "\n",
    "    index = 0\n",
    "    trades[figi] = []\n",
    "\n",
    "    for (date, pmax_value, mavg, close, high, low) in zip(pmax_result.index, pmax_result['PMax'], pmax_result['PMaxMAvg'], pmax_result['Close'], pmax_result['High'], pmax_result['Low']):\n",
    "      is_sell = False\n",
    "      is_buy = False\n",
    "\n",
    "      if index == 0:\n",
    "        index += 1\n",
    "        continue\n",
    "\n",
    "      if (\n",
    "          pmax_value >= mavg\n",
    "          and pmax_result['PMax'][index - 1] < pmax_result['PMaxMAvg'][index - 1]\n",
    "      ):\n",
    "          is_sell = True\n",
    "      elif (\n",
    "          pmax_value <= mavg\n",
    "          and pmax_result['PMax'][index - 1] > pmax_result['PMaxMAvg'][index - 1]\n",
    "      ):\n",
    "          is_buy = True\n",
    "\n",
    "      last_trade = trades[figi][-1] if len(trades[figi]) > 0 else False\n",
    "      \n",
    "      if is_sell or is_buy:\n",
    "        local_date = arrow.get(date)\n",
    "\n",
    "        if last_trade:\n",
    "          one_percent = last_trade['price_in'] / 100\n",
    "          last_trade['price_out'] = close\n",
    "          last_trade['time_out'] = local_date\n",
    "          last_trade['profit'] = ((last_trade['price_in'] - last_trade['price_out']) / one_percent) if last_trade['type'] == 'short' else (last_trade['price_out'] - last_trade['price_in']) / one_percent\n",
    "          last_trade['run_up'] = ((last_trade['price_in'] - last_trade['best_price']) / one_percent) if last_trade['type'] == 'short' else (last_trade['best_price'] - last_trade['price_in']) / one_percent\n",
    "\n",
    "        trades[figi].append({\n",
    "          \"run_up\": 0,\n",
    "          \"profit\": 0,\n",
    "          \"time\": local_date,\n",
    "          \"type\": \"short\" if is_sell else \"long\",\n",
    "          \"price_in\": close,\n",
    "          \"best_price\": low if is_sell else high\n",
    "        })\n",
    "      else:\n",
    "        if last_trade:\n",
    "          if (last_trade[\"type\"] == \"short\" and low < last_trade[\"best_price\"]) or (last_trade[\"type\"] == \"long\" and high > last_trade[\"best_price\"]):\n",
    "            last_trade[\"best_price\"] = low if last_trade[\"type\"] == \"short\" else high\n",
    "\n",
    "      index += 1"
   ]
  },
  {
   "cell_type": "code",
   "execution_count": 80,
   "metadata": {},
   "outputs": [
    {
     "name": "stdout",
     "output_type": "stream",
     "text": [
      "TSLA\n"
     ]
    },
    {
     "data": {
      "image/png": "[encoded data removed]",
      "text/plain": [
       "<Figure size 4800x960 with 1 Axes>"
      ]
     },
     "metadata": {
      "needs_background": "light"
     },
     "output_type": "display_data"
    },
    {
     "name": "stdout",
     "output_type": "stream",
     "text": [
      "NVDA\n"
     ]
    },
    {
     "data": {
      "image/png": "[encoded data removed]",
      "text/plain": [
       "<Figure size 4800x960 with 1 Axes>"
      ]
     },
     "metadata": {
      "needs_background": "light"
     },
     "output_type": "display_data"
    },
    {
     "name": "stdout",
     "output_type": "stream",
     "text": [
      "MRNA\n"
     ]
    },
    {
     "data": {
      "image/png": "[encoded data removed]",
      "text/plain": [
       "<Figure size 4800x960 with 1 Axes>"
      ]
     },
     "metadata": {
      "needs_background": "light"
     },
     "output_type": "display_data"
    }
   ],
   "source": [
    "import math\n",
    "import matplotlib.pyplot as plt\n",
    "import matplotlib\n",
    "\n",
    "matplotlib.rcParams.update({'font.size': 22})\n",
    "\n",
    "# distributions\n",
    "\n",
    "def round_decimals_down(number:float, decimals:int=1):\n",
    "    \"\"\"\n",
    "    Returns a value rounded down to a specific number of decimal places.\n",
    "    \"\"\"\n",
    "    if not isinstance(decimals, int):\n",
    "        raise TypeError(\"decimal places must be an integer\")\n",
    "    elif decimals < 0:\n",
    "        raise ValueError(\"decimal places has to be 0 or more\")\n",
    "    elif decimals == 0:\n",
    "        return math.floor(number)\n",
    "\n",
    "    factor = 10 ** decimals\n",
    "    return math.floor(number * factor) / factor\n",
    "\n",
    "profits = {}\n",
    "\n",
    "for company in companies:\n",
    "  figi = company[\"figi\"]\n",
    "  ticker = company[\"ticker\"]\n",
    "\n",
    "  profits[figi] = {}\n",
    "\n",
    "  for trade in trades[figi]:\n",
    "    key = round_decimals_down(trade['run_up'])\n",
    "    if not profits[figi].get(key):\n",
    "      profits[figi][key] = 0\n",
    "\n",
    "    profits[figi][key] += 1\n",
    "\n",
    "  print(company[\"ticker\"])\n",
    "\n",
    "  plt.figure(figsize = (60, 12), dpi = 80)\n",
    "  plt.grid()\n",
    "\n",
    "  sort = sorted(profits[figi].keys())\n",
    "  x=list(sort)\n",
    "  y=list(map(lambda x: profits[figi][x], sort))\n",
    "  plt.plot(x, y)\n",
    "  plt.show()"
   ]
  },
  {
   "cell_type": "code",
   "execution_count": 81,
   "metadata": {},
   "outputs": [
    {
     "name": "stdout",
     "output_type": "stream",
     "text": [
      "\n",
      "periods = 20\n",
      "interval = 1min\n",
      "pmax_multiplier = 3\n",
      "\n",
      "\n",
      "    ticker: TSLA\n",
      "    trades: 51\n",
      "    more 0.4% : 64.7% (if less than 0.4% then average profit is -1.08%. 18 trades)\n",
      "    more 0.6% : 47.05%\n",
      "    more 0.8% : 47.05%\n",
      "    more 1% : 45.09%\n",
      "  \n"
     ]
    },
    {
     "data": {
      "application/vnd.plotly.v1+json": {
       "config": {
        "plotlyServerURL": "https://plot.ly"
       },
       "data": [
        {
         "marker": {
          "color": "green"
         },
         "name": "run up",
         "type": "bar",
         "x": [
          "27/12 17:36",
          "27/12 19:23",
          "27/12 20:00",
          "27/12 21:42",
          "28/12 17:32",
          "28/12 17:37",
          "28/12 19:53",
          "28/12 20:46",
          "29/12 17:34",
          "29/12 18:54",
          "29/12 19:31",
          "29/12 20:18",
          "30/12 18:00",
          "30/12 21:39",
          "31/12 17:15",
          "31/12 17:38",
          "31/12 18:02",
          "31/12 19:23",
          "31/12 20:17",
          "03/01 19:42",
          "03/01 20:40",
          "04/01 19:49",
          "04/01 21:36",
          "05/01 17:35",
          "05/01 17:46",
          "05/01 18:34",
          "05/01 19:15",
          "05/01 19:34",
          "06/01 17:51",
          "06/01 18:39",
          "06/01 19:33",
          "06/01 20:41",
          "06/01 21:27",
          "07/01 17:25",
          "07/01 17:35",
          "07/01 19:49",
          "07/01 20:24",
          "07/01 20:54",
          "07/01 21:26",
          "08/01 17:18",
          "10/01 18:18",
          "10/01 20:09",
          "10/01 20:52",
          "11/01 17:58",
          "11/01 18:42",
          "11/01 19:07",
          "11/01 20:26",
          "12/01 17:45",
          "12/01 18:08",
          "12/01 18:53",
          "12/01 20:38"
         ],
         "y": [
          1.6478299768116957,
          0.22672857868388593,
          0.1910450974060813,
          1.806657818467455,
          0.5952863408351929,
          1.9777143584243717,
          0.5327689388410376,
          0.41050601524474484,
          2.091900096591694,
          0.5650710269310565,
          0.5185095863981596,
          1.7405415430267044,
          1.7951886713559562,
          2.0139782968548916,
          0.21914486874620312,
          0.30437727934969055,
          0.4485858775051474,
          0.20014149538279072,
          0.8478859003874395,
          0.04642166344293691,
          2.4913949932953607,
          1.0224771675649407,
          1.4444569831335428,
          0.5198512696706513,
          1.3105955678670251,
          0.4384588563458832,
          0.1046115539570668,
          6.632741974835324,
          4.001730885009027,
          2.1021021021021076,
          0.35904596358247826,
          0.2723677337512194,
          0.35085078964943306,
          0.3291761324122541,
          3.401797175866503,
          0.19923371647508883,
          0.29206287599456543,
          0.1337039851482864,
          1.8292801461868875,
          1.0542095375300693,
          2.75421197275661,
          0.35780834952226276,
          4.18501771487854,
          1.761676669380327,
          0.20642990940019254,
          1.1469614921781028,
          0.5025410440006742,
          0.13965180150823947,
          1.0362551881476545,
          0.342157061128385,
          1.5290742680205787
         ]
        },
        {
         "marker": {
          "color": "gray"
         },
         "name": "profit",
         "type": "bar",
         "x": [
          "27/12 17:36",
          "27/12 19:23",
          "27/12 20:00",
          "27/12 21:42",
          "28/12 17:32",
          "28/12 17:37",
          "28/12 19:53",
          "28/12 20:46",
          "29/12 17:34",
          "29/12 18:54",
          "29/12 19:31",
          "29/12 20:18",
          "30/12 18:00",
          "30/12 21:39",
          "31/12 17:15",
          "31/12 17:38",
          "31/12 18:02",
          "31/12 19:23",
          "31/12 20:17",
          "03/01 19:42",
          "03/01 20:40",
          "04/01 19:49",
          "04/01 21:36",
          "05/01 17:35",
          "05/01 17:46",
          "05/01 18:34",
          "05/01 19:15",
          "05/01 19:34",
          "06/01 17:51",
          "06/01 18:39",
          "06/01 19:33",
          "06/01 20:41",
          "06/01 21:27",
          "07/01 17:25",
          "07/01 17:35",
          "07/01 19:49",
          "07/01 20:24",
          "07/01 20:54",
          "07/01 21:26",
          "08/01 17:18",
          "10/01 18:18",
          "10/01 20:09",
          "10/01 20:52",
          "11/01 17:58",
          "11/01 18:42",
          "11/01 19:07",
          "11/01 20:26",
          "12/01 17:45",
          "12/01 18:08",
          "12/01 18:53",
          "12/01 20:38"
         ],
         "y": [
          0.6627836915043173,
          -1.1136907784952452,
          -0.6592401248520195,
          0.9796220554908411,
          -0.9122920775583451,
          0.37263919437223103,
          -0.6623120712304764,
          -0.18826338506749513,
          0.5307943516857534,
          -0.29502071618822645,
          -0.028754556669681828,
          0.9486275964391707,
          1.0397598981611447,
          1.6001471399669018,
          -0.4905114934489664,
          -0.9103478995183736,
          -0.6031091964787465,
          -0.530607685433427,
          0.2536170849944819,
          -0.6516226090694113,
          1.9123186115832445,
          -0.17936675736096358,
          0.002604189272473955,
          -1.7851163938181744,
          -0.6925207756232687,
          -0.8246164574616488,
          -0.7798315840437104,
          5.484298211982856,
          0.6989388922336002,
          -0.2671441157245514,
          -1.8322742427264664,
          -0.8348257592716792,
          -1.0882958810305359,
          -1.7627150076498668,
          1.4573737068640087,
          -1.2835249042145682,
          -0.8742480108674551,
          -1.0378892084531666,
          -0.009719873252866043,
          -0.32901461097429163,
          0.46202254351375976,
          -1.2706656622923571,
          3.878677550061648,
          -0.9485223120468211,
          -1.655262051301671,
          -0.47570697954273583,
          -0.3787950350456461,
          -1.6134438134252076,
          -0.3857324794077528,
          -0.9961185408656875,
          0.6921360593780007
         ]
        }
       ],
       "layout": {
        "barmode": "group",
        "template": {
         "data": {
          "bar": [
           {
            "error_x": {
             "color": "#2a3f5f"
            },
            "error_y": {
             "color": "#2a3f5f"
            },
            "marker": {
             "line": {
              "color": "#E5ECF6",
              "width": 0.5
             },
             "pattern": {
              "fillmode": "overlay",
              "size": 10,
              "solidity": 0.2
             }
            },
            "type": "bar"
           }
          ],
          "barpolar": [
           {
            "marker": {
             "line": {
              "color": "#E5ECF6",
              "width": 0.5
             },
             "pattern": {
              "fillmode": "overlay",
              "size": 10,
              "solidity": 0.2
             }
            },
            "type": "barpolar"
           }
          ],
          "carpet": [
           {
            "aaxis": {
             "endlinecolor": "#2a3f5f",
             "gridcolor": "white",
             "linecolor": "white",
             "minorgridcolor": "white",
             "startlinecolor": "#2a3f5f"
            },
            "baxis": {
             "endlinecolor": "#2a3f5f",
             "gridcolor": "white",
             "linecolor": "white",
             "minorgridcolor": "white",
             "startlinecolor": "#2a3f5f"
            },
            "type": "carpet"
           }
          ],
          "choropleth": [
           {
            "colorbar": {
             "outlinewidth": 0,
             "ticks": ""
            },
            "type": "choropleth"
           }
          ],
          "contour": [
           {
            "colorbar": {
             "outlinewidth": 0,
             "ticks": ""
            },
            "colorscale": [
             [
              0,
              "#0d0887"
             ],
             [
              0.1111111111111111,
              "#46039f"
             ],
             [
              0.2222222222222222,
              "#7201a8"
             ],
             [
              0.3333333333333333,
              "#9c179e"
             ],
             [
              0.4444444444444444,
              "#bd3786"
             ],
             [
              0.5555555555555556,
              "#d8576b"
             ],
             [
              0.6666666666666666,
              "#ed7953"
             ],
             [
              0.7777777777777778,
              "#fb9f3a"
             ],
             [
              0.8888888888888888,
              "#fdca26"
             ],
             [
              1,
              "#f0f921"
             ]
            ],
            "type": "contour"
           }
          ],
          "contourcarpet": [
           {
            "colorbar": {
             "outlinewidth": 0,
             "ticks": ""
            },
            "type": "contourcarpet"
           }
          ],
          "heatmap": [
           {
            "colorbar": {
             "outlinewidth": 0,
             "ticks": ""
            },
            "colorscale": [
             [
              0,
              "#0d0887"
             ],
             [
              0.1111111111111111,
              "#46039f"
             ],
             [
              0.2222222222222222,
              "#7201a8"
             ],
             [
              0.3333333333333333,
              "#9c179e"
             ],
             [
              0.4444444444444444,
              "#bd3786"
             ],
             [
              0.5555555555555556,
              "#d8576b"
             ],
             [
              0.6666666666666666,
              "#ed7953"
             ],
             [
              0.7777777777777778,
              "#fb9f3a"
             ],
             [
              0.8888888888888888,
              "#fdca26"
             ],
             [
              1,
              "#f0f921"
             ]
            ],
            "type": "heatmap"
           }
          ],
          "heatmapgl": [
           {
            "colorbar": {
             "outlinewidth": 0,
             "ticks": ""
            },
            "colorscale": [
             [
              0,
              "#0d0887"
             ],
             [
              0.1111111111111111,
              "#46039f"
             ],
             [
              0.2222222222222222,
              "#7201a8"
             ],
             [
              0.3333333333333333,
              "#9c179e"
             ],
             [
              0.4444444444444444,
              "#bd3786"
             ],
             [
              0.5555555555555556,
              "#d8576b"
             ],
             [
              0.6666666666666666,
              "#ed7953"
             ],
             [
              0.7777777777777778,
              "#fb9f3a"
             ],
             [
              0.8888888888888888,
              "#fdca26"
             ],
             [
              1,
              "#f0f921"
             ]
            ],
            "type": "heatmapgl"
           }
          ],
          "histogram": [
           {
            "marker": {
             "pattern": {
              "fillmode": "overlay",
              "size": 10,
              "solidity": 0.2
             }
            },
            "type": "histogram"
           }
          ],
          "histogram2d": [
           {
            "colorbar": {
             "outlinewidth": 0,
             "ticks": ""
            },
            "colorscale": [
             [
              0,
              "#0d0887"
             ],
             [
              0.1111111111111111,
              "#46039f"
             ],
             [
              0.2222222222222222,
              "#7201a8"
             ],
             [
              0.3333333333333333,
              "#9c179e"
             ],
             [
              0.4444444444444444,
              "#bd3786"
             ],
             [
              0.5555555555555556,
              "#d8576b"
             ],
             [
              0.6666666666666666,
              "#ed7953"
             ],
             [
              0.7777777777777778,
              "#fb9f3a"
             ],
             [
              0.8888888888888888,
              "#fdca26"
             ],
             [
              1,
              "#f0f921"
             ]
            ],
            "type": "histogram2d"
           }
          ],
          "histogram2dcontour": [
           {
            "colorbar": {
             "outlinewidth": 0,
             "ticks": ""
            },
            "colorscale": [
             [
              0,
              "#0d0887"
             ],
             [
              0.1111111111111111,
              "#46039f"
             ],
             [
              0.2222222222222222,
              "#7201a8"
             ],
             [
              0.3333333333333333,
              "#9c179e"
             ],
             [
              0.4444444444444444,
              "#bd3786"
             ],
             [
              0.5555555555555556,
              "#d8576b"
             ],
             [
              0.6666666666666666,
              "#ed7953"
             ],
             [
              0.7777777777777778,
              "#fb9f3a"
             ],
             [
              0.8888888888888888,
              "#fdca26"
             ],
             [
              1,
              "#f0f921"
             ]
            ],
            "type": "histogram2dcontour"
           }
          ],
          "mesh3d": [
           {
            "colorbar": {
             "outlinewidth": 0,
             "ticks": ""
            },
            "type": "mesh3d"
           }
          ],
          "parcoords": [
           {
            "line": {
             "colorbar": {
              "outlinewidth": 0,
              "ticks": ""
             }
            },
            "type": "parcoords"
           }
          ],
          "pie": [
           {
            "automargin": true,
            "type": "pie"
           }
          ],
          "scatter": [
           {
            "marker": {
             "colorbar": {
              "outlinewidth": 0,
              "ticks": ""
             }
            },
            "type": "scatter"
           }
          ],
          "scatter3d": [
           {
            "line": {
             "colorbar": {
              "outlinewidth": 0,
              "ticks": ""
             }
            },
            "marker": {
             "colorbar": {
              "outlinewidth": 0,
              "ticks": ""
             }
            },
            "type": "scatter3d"
           }
          ],
          "scattercarpet": [
           {
            "marker": {
             "colorbar": {
              "outlinewidth": 0,
              "ticks": ""
             }
            },
            "type": "scattercarpet"
           }
          ],
          "scattergeo": [
           {
            "marker": {
             "colorbar": {
              "outlinewidth": 0,
              "ticks": ""
             }
            },
            "type": "scattergeo"
           }
          ],
          "scattergl": [
           {
            "marker": {
             "colorbar": {
              "outlinewidth": 0,
              "ticks": ""
             }
            },
            "type": "scattergl"
           }
          ],
          "scattermapbox": [
           {
            "marker": {
             "colorbar": {
              "outlinewidth": 0,
              "ticks": ""
             }
            },
            "type": "scattermapbox"
           }
          ],
          "scatterpolar": [
           {
            "marker": {
             "colorbar": {
              "outlinewidth": 0,
              "ticks": ""
             }
            },
            "type": "scatterpolar"
           }
          ],
          "scatterpolargl": [
           {
            "marker": {
             "colorbar": {
              "outlinewidth": 0,
              "ticks": ""
             }
            },
            "type": "scatterpolargl"
           }
          ],
          "scatterternary": [
           {
            "marker": {
             "colorbar": {
              "outlinewidth": 0,
              "ticks": ""
             }
            },
            "type": "scatterternary"
           }
          ],
          "surface": [
           {
            "colorbar": {
             "outlinewidth": 0,
             "ticks": ""
            },
            "colorscale": [
             [
              0,
              "#0d0887"
             ],
             [
              0.1111111111111111,
              "#46039f"
             ],
             [
              0.2222222222222222,
              "#7201a8"
             ],
             [
              0.3333333333333333,
              "#9c179e"
             ],
             [
              0.4444444444444444,
              "#bd3786"
             ],
             [
              0.5555555555555556,
              "#d8576b"
             ],
             [
              0.6666666666666666,
              "#ed7953"
             ],
             [
              0.7777777777777778,
              "#fb9f3a"
             ],
             [
              0.8888888888888888,
              "#fdca26"
             ],
             [
              1,
              "#f0f921"
             ]
            ],
            "type": "surface"
           }
          ],
          "table": [
           {
            "cells": {
             "fill": {
              "color": "#EBF0F8"
             },
             "line": {
              "color": "white"
             }
            },
            "header": {
             "fill": {
              "color": "#C8D4E3"
             },
             "line": {
              "color": "white"
             }
            },
            "type": "table"
           }
          ]
         },
         "layout": {
          "annotationdefaults": {
           "arrowcolor": "#2a3f5f",
           "arrowhead": 0,
           "arrowwidth": 1
          },
          "autotypenumbers": "strict",
          "coloraxis": {
           "colorbar": {
            "outlinewidth": 0,
            "ticks": ""
           }
          },
          "colorscale": {
           "diverging": [
            [
             0,
             "#8e0152"
            ],
            [
             0.1,
             "#c51b7d"
            ],
            [
             0.2,
             "#de77ae"
            ],
            [
             0.3,
             "#f1b6da"
            ],
            [
             0.4,
             "#fde0ef"
            ],
            [
             0.5,
             "#f7f7f7"
            ],
            [
             0.6,
             "#e6f5d0"
            ],
            [
             0.7,
             "#b8e186"
            ],
            [
             0.8,
             "#7fbc41"
            ],
            [
             0.9,
             "#4d9221"
            ],
            [
             1,
             "#276419"
            ]
           ],
           "sequential": [
            [
             0,
             "#0d0887"
            ],
            [
             0.1111111111111111,
             "#46039f"
            ],
            [
             0.2222222222222222,
             "#7201a8"
            ],
            [
             0.3333333333333333,
             "#9c179e"
            ],
            [
             0.4444444444444444,
             "#bd3786"
            ],
            [
             0.5555555555555556,
             "#d8576b"
            ],
            [
             0.6666666666666666,
             "#ed7953"
            ],
            [
             0.7777777777777778,
             "#fb9f3a"
            ],
            [
             0.8888888888888888,
             "#fdca26"
            ],
            [
             1,
             "#f0f921"
            ]
           ],
           "sequentialminus": [
            [
             0,
             "#0d0887"
            ],
            [
             0.1111111111111111,
             "#46039f"
            ],
            [
             0.2222222222222222,
             "#7201a8"
            ],
            [
             0.3333333333333333,
             "#9c179e"
            ],
            [
             0.4444444444444444,
             "#bd3786"
            ],
            [
             0.5555555555555556,
             "#d8576b"
            ],
            [
             0.6666666666666666,
             "#ed7953"
            ],
            [
             0.7777777777777778,
             "#fb9f3a"
            ],
            [
             0.8888888888888888,
             "#fdca26"
            ],
            [
             1,
             "#f0f921"
            ]
           ]
          },
          "colorway": [
           "#636efa",
           "#EF553B",
           "#00cc96",
           "#ab63fa",
           "#FFA15A",
           "#19d3f3",
           "#FF6692",
           "#B6E880",
           "#FF97FF",
           "#FECB52"
          ],
          "font": {
           "color": "#2a3f5f"
          },
          "geo": {
           "bgcolor": "white",
           "lakecolor": "white",
           "landcolor": "#E5ECF6",
           "showlakes": true,
           "showland": true,
           "subunitcolor": "white"
          },
          "hoverlabel": {
           "align": "left"
          },
          "hovermode": "closest",
          "mapbox": {
           "style": "light"
          },
          "paper_bgcolor": "white",
          "plot_bgcolor": "#E5ECF6",
          "polar": {
           "angularaxis": {
            "gridcolor": "white",
            "linecolor": "white",
            "ticks": ""
           },
           "bgcolor": "#E5ECF6",
           "radialaxis": {
            "gridcolor": "white",
            "linecolor": "white",
            "ticks": ""
           }
          },
          "scene": {
           "xaxis": {
            "backgroundcolor": "#E5ECF6",
            "gridcolor": "white",
            "gridwidth": 2,
            "linecolor": "white",
            "showbackground": true,
            "ticks": "",
            "zerolinecolor": "white"
           },
           "yaxis": {
            "backgroundcolor": "#E5ECF6",
            "gridcolor": "white",
            "gridwidth": 2,
            "linecolor": "white",
            "showbackground": true,
            "ticks": "",
            "zerolinecolor": "white"
           },
           "zaxis": {
            "backgroundcolor": "#E5ECF6",
            "gridcolor": "white",
            "gridwidth": 2,
            "linecolor": "white",
            "showbackground": true,
            "ticks": "",
            "zerolinecolor": "white"
           }
          },
          "shapedefaults": {
           "line": {
            "color": "#2a3f5f"
           }
          },
          "ternary": {
           "aaxis": {
            "gridcolor": "white",
            "linecolor": "white",
            "ticks": ""
           },
           "baxis": {
            "gridcolor": "white",
            "linecolor": "white",
            "ticks": ""
           },
           "bgcolor": "#E5ECF6",
           "caxis": {
            "gridcolor": "white",
            "linecolor": "white",
            "ticks": ""
           }
          },
          "title": {
           "x": 0.05
          },
          "xaxis": {
           "automargin": true,
           "gridcolor": "white",
           "linecolor": "white",
           "ticks": "",
           "title": {
            "standoff": 15
           },
           "zerolinecolor": "white",
           "zerolinewidth": 2
          },
          "yaxis": {
           "automargin": true,
           "gridcolor": "white",
           "linecolor": "white",
           "ticks": "",
           "title": {
            "standoff": 15
           },
           "zerolinecolor": "white",
           "zerolinewidth": 2
          }
         }
        }
       }
      }
     },
     "metadata": {},
     "output_type": "display_data"
    },
    {
     "name": "stdout",
     "output_type": "stream",
     "text": [
      "\n",
      "    ticker: NVDA\n",
      "    trades: 55\n",
      "    more 0.4% : 65.45% (if less than 0.4% then average profit is -0.85%. 19 trades)\n",
      "    more 0.6% : 54.54%\n",
      "    more 0.8% : 45.45%\n",
      "    more 1% : 30.9%\n",
      "  \n"
     ]
    },
    {
     "data": {
      "application/vnd.plotly.v1+json": {
       "config": {
        "plotlyServerURL": "https://plot.ly"
       },
       "data": [
        {
         "marker": {
          "color": "green"
         },
         "name": "run up",
         "type": "bar",
         "x": [
          "27/12 17:21",
          "27/12 17:36",
          "27/12 19:21",
          "27/12 20:03",
          "27/12 21:10",
          "27/12 21:43",
          "28/12 20:01",
          "28/12 20:33",
          "28/12 21:59",
          "29/12 17:03",
          "29/12 17:44",
          "29/12 18:59",
          "29/12 19:36",
          "29/12 21:09",
          "30/12 17:57",
          "30/12 19:04",
          "30/12 21:44",
          "31/12 17:27",
          "31/12 17:35",
          "31/12 18:35",
          "31/12 19:28",
          "31/12 20:15",
          "03/01 17:26",
          "03/01 17:56",
          "03/01 18:56",
          "03/01 19:39",
          "03/01 20:51",
          "03/01 21:28",
          "04/01 17:25",
          "04/01 17:32",
          "04/01 21:44",
          "05/01 17:31",
          "05/01 17:54",
          "05/01 18:32",
          "05/01 21:26",
          "06/01 18:00",
          "06/01 18:28",
          "06/01 19:33",
          "06/01 21:52",
          "07/01 17:20",
          "07/01 17:35",
          "07/01 19:33",
          "07/01 20:32",
          "07/01 20:53",
          "10/01 19:14",
          "10/01 19:49",
          "10/01 20:51",
          "11/01 18:11",
          "11/01 18:43",
          "11/01 19:06",
          "11/01 20:24",
          "11/01 21:23",
          "12/01 18:44",
          "12/01 19:42",
          "12/01 21:17"
         ],
         "y": [
          0.27261712439418495,
          3.4905471307368527,
          0.16288767266093301,
          0.0678952473326801,
          0.06822390435657696,
          0.6084536215936291,
          0.06256791912273116,
          0.2260638297872363,
          1.1414392059553313,
          1.0519351637446268,
          1.6608625770157983,
          0.6288250722980714,
          0.18192844147969156,
          0.9796027911969994,
          1.47597787699074,
          0.8398637701286316,
          0.029869569546306124,
          0.2765412113854017,
          0.37100170460243115,
          0.5205692458506452,
          0.25948641908741044,
          0.8753252898036349,
          2.6095963646083944,
          0.3982741453700593,
          0.3667441632011541,
          0.644734666887085,
          0.09917027536280168,
          0.5551492586929113,
          0.0754667454145809,
          6.113594966053976,
          2.4408103490358797,
          0.9632375870552057,
          0.7535536907004585,
          2.1683895443945627,
          0.8149585464808616,
          1.6604294589979265,
          1.9896566585260813,
          0.4947655241646334,
          1.4302528801226917,
          0.5697098372257455,
          2.9902118963106488,
          0.55294845210813,
          0.1244099674338731,
          0.06890549067962491,
          0.8119494446572212,
          0.8149457984162392,
          3.708395715766428,
          0.39335664335663756,
          0.11119347664937412,
          1.933651360110703,
          1.0951008645533213,
          0.8166805189173529,
          1.9079765500088843,
          0.6917207444911923,
          0.5176722599071922
         ]
        },
        {
         "marker": {
          "color": "gray"
         },
         "name": "profit",
         "type": "bar",
         "x": [
          "27/12 17:21",
          "27/12 17:36",
          "27/12 19:21",
          "27/12 20:03",
          "27/12 21:10",
          "27/12 21:43",
          "28/12 20:01",
          "28/12 20:33",
          "28/12 21:59",
          "29/12 17:03",
          "29/12 17:44",
          "29/12 18:59",
          "29/12 19:36",
          "29/12 21:09",
          "30/12 17:57",
          "30/12 19:04",
          "30/12 21:44",
          "31/12 17:27",
          "31/12 17:35",
          "31/12 18:35",
          "31/12 19:28",
          "31/12 20:15",
          "03/01 17:26",
          "03/01 17:56",
          "03/01 18:56",
          "03/01 19:39",
          "03/01 20:51",
          "03/01 21:28",
          "04/01 17:25",
          "04/01 17:32",
          "04/01 21:44",
          "05/01 17:31",
          "05/01 17:54",
          "05/01 18:32",
          "05/01 21:26",
          "06/01 18:00",
          "06/01 18:28",
          "06/01 19:33",
          "06/01 21:52",
          "07/01 17:20",
          "07/01 17:35",
          "07/01 19:33",
          "07/01 20:32",
          "07/01 20:53",
          "10/01 19:14",
          "10/01 19:49",
          "10/01 20:51",
          "11/01 18:11",
          "11/01 18:43",
          "11/01 19:06",
          "11/01 20:24",
          "11/01 21:23",
          "12/01 18:44",
          "12/01 19:42",
          "12/01 21:17"
         ],
         "y": [
          -0.7606354334948812,
          2.531899258467494,
          -0.7623143080531769,
          -0.4817329453604944,
          -0.38010460998668527,
          0.00970936630201719,
          -0.9451048835907414,
          -0.48204787234042173,
          0.47642679900744345,
          -1.2107178299702366,
          0.42191267077417327,
          -0.1883112515972837,
          -0.4244996967859278,
          0.47638217928073534,
          0.7629772772706139,
          0.37033363092285965,
          -0.5509276160764743,
          -0.90044516390126,
          -1.1230321869046471,
          -0.3076090998208515,
          -0.28644604704455845,
          0.27375038020886217,
          0.6749532210638995,
          -1.3574510454696234,
          -0.9627034284030249,
          -0.019837989750372716,
          -0.5586592178770942,
          -0.06316069410278496,
          -0.9252879220395687,
          5.0206987911905845,
          1.5900135988005168,
          -1.1572710578288952,
          -1.5893132385682434,
          1.3434965716473544,
          -0.9349091550537935,
          -1.1662972786396757,
          0.17238902456544256,
          -0.5198623261150109,
          0.5849413275314714,
          -1.3057324840764324,
          1.4413251586533427,
          -0.582051002219057,
          -0.8964835888616445,
          -0.7615870022485032,
          -0.367675220222151,
          -0.13454293841778378,
          2.2688011056086483,
          -1.7336829836829803,
          -1.782802075611565,
          1.0888168675576304,
          0.3134005763688777,
          -0.1156361796697117,
          0.35174986676141734,
          -0.1283605505241235,
          -0.07854337736521615
         ]
        }
       ],
       "layout": {
        "barmode": "group",
        "template": {
         "data": {
          "bar": [
           {
            "error_x": {
             "color": "#2a3f5f"
            },
            "error_y": {
             "color": "#2a3f5f"
            },
            "marker": {
             "line": {
              "color": "#E5ECF6",
              "width": 0.5
             },
             "pattern": {
              "fillmode": "overlay",
              "size": 10,
              "solidity": 0.2
             }
            },
            "type": "bar"
           }
          ],
          "barpolar": [
           {
            "marker": {
             "line": {
              "color": "#E5ECF6",
              "width": 0.5
             },
             "pattern": {
              "fillmode": "overlay",
              "size": 10,
              "solidity": 0.2
             }
            },
            "type": "barpolar"
           }
          ],
          "carpet": [
           {
            "aaxis": {
             "endlinecolor": "#2a3f5f",
             "gridcolor": "white",
             "linecolor": "white",
             "minorgridcolor": "white",
             "startlinecolor": "#2a3f5f"
            },
            "baxis": {
             "endlinecolor": "#2a3f5f",
             "gridcolor": "white",
             "linecolor": "white",
             "minorgridcolor": "white",
             "startlinecolor": "#2a3f5f"
            },
            "type": "carpet"
           }
          ],
          "choropleth": [
           {
            "colorbar": {
             "outlinewidth": 0,
             "ticks": ""
            },
            "type": "choropleth"
           }
          ],
          "contour": [
           {
            "colorbar": {
             "outlinewidth": 0,
             "ticks": ""
            },
            "colorscale": [
             [
              0,
              "#0d0887"
             ],
             [
              0.1111111111111111,
              "#46039f"
             ],
             [
              0.2222222222222222,
              "#7201a8"
             ],
             [
              0.3333333333333333,
              "#9c179e"
             ],
             [
              0.4444444444444444,
              "#bd3786"
             ],
             [
              0.5555555555555556,
              "#d8576b"
             ],
             [
              0.6666666666666666,
              "#ed7953"
             ],
             [
              0.7777777777777778,
              "#fb9f3a"
             ],
             [
              0.8888888888888888,
              "#fdca26"
             ],
             [
              1,
              "#f0f921"
             ]
            ],
            "type": "contour"
           }
          ],
          "contourcarpet": [
           {
            "colorbar": {
             "outlinewidth": 0,
             "ticks": ""
            },
            "type": "contourcarpet"
           }
          ],
          "heatmap": [
           {
            "colorbar": {
             "outlinewidth": 0,
             "ticks": ""
            },
            "colorscale": [
             [
              0,
              "#0d0887"
             ],
             [
              0.1111111111111111,
              "#46039f"
             ],
             [
              0.2222222222222222,
              "#7201a8"
             ],
             [
              0.3333333333333333,
              "#9c179e"
             ],
             [
              0.4444444444444444,
              "#bd3786"
             ],
             [
              0.5555555555555556,
              "#d8576b"
             ],
             [
              0.6666666666666666,
              "#ed7953"
             ],
             [
              0.7777777777777778,
              "#fb9f3a"
             ],
             [
              0.8888888888888888,
              "#fdca26"
             ],
             [
              1,
              "#f0f921"
             ]
            ],
            "type": "heatmap"
           }
          ],
          "heatmapgl": [
           {
            "colorbar": {
             "outlinewidth": 0,
             "ticks": ""
            },
            "colorscale": [
             [
              0,
              "#0d0887"
             ],
             [
              0.1111111111111111,
              "#46039f"
             ],
             [
              0.2222222222222222,
              "#7201a8"
             ],
             [
              0.3333333333333333,
              "#9c179e"
             ],
             [
              0.4444444444444444,
              "#bd3786"
             ],
             [
              0.5555555555555556,
              "#d8576b"
             ],
             [
              0.6666666666666666,
              "#ed7953"
             ],
             [
              0.7777777777777778,
              "#fb9f3a"
             ],
             [
              0.8888888888888888,
              "#fdca26"
             ],
             [
              1,
              "#f0f921"
             ]
            ],
            "type": "heatmapgl"
           }
          ],
          "histogram": [
           {
            "marker": {
             "pattern": {
              "fillmode": "overlay",
              "size": 10,
              "solidity": 0.2
             }
            },
            "type": "histogram"
           }
          ],
          "histogram2d": [
           {
            "colorbar": {
             "outlinewidth": 0,
             "ticks": ""
            },
            "colorscale": [
             [
              0,
              "#0d0887"
             ],
             [
              0.1111111111111111,
              "#46039f"
             ],
             [
              0.2222222222222222,
              "#7201a8"
             ],
             [
              0.3333333333333333,
              "#9c179e"
             ],
             [
              0.4444444444444444,
              "#bd3786"
             ],
             [
              0.5555555555555556,
              "#d8576b"
             ],
             [
              0.6666666666666666,
              "#ed7953"
             ],
             [
              0.7777777777777778,
              "#fb9f3a"
             ],
             [
              0.8888888888888888,
              "#fdca26"
             ],
             [
              1,
              "#f0f921"
             ]
            ],
            "type": "histogram2d"
           }
          ],
          "histogram2dcontour": [
           {
            "colorbar": {
             "outlinewidth": 0,
             "ticks": ""
            },
            "colorscale": [
             [
              0,
              "#0d0887"
             ],
             [
              0.1111111111111111,
              "#46039f"
             ],
             [
              0.2222222222222222,
              "#7201a8"
             ],
             [
              0.3333333333333333,
              "#9c179e"
             ],
             [
              0.4444444444444444,
              "#bd3786"
             ],
             [
              0.5555555555555556,
              "#d8576b"
             ],
             [
              0.6666666666666666,
              "#ed7953"
             ],
             [
              0.7777777777777778,
              "#fb9f3a"
             ],
             [
              0.8888888888888888,
              "#fdca26"
             ],
             [
              1,
              "#f0f921"
             ]
            ],
            "type": "histogram2dcontour"
           }
          ],
          "mesh3d": [
           {
            "colorbar": {
             "outlinewidth": 0,
             "ticks": ""
            },
            "type": "mesh3d"
           }
          ],
          "parcoords": [
           {
            "line": {
             "colorbar": {
              "outlinewidth": 0,
              "ticks": ""
             }
            },
            "type": "parcoords"
           }
          ],
          "pie": [
           {
            "automargin": true,
            "type": "pie"
           }
          ],
          "scatter": [
           {
            "marker": {
             "colorbar": {
              "outlinewidth": 0,
              "ticks": ""
             }
            },
            "type": "scatter"
           }
          ],
          "scatter3d": [
           {
            "line": {
             "colorbar": {
              "outlinewidth": 0,
              "ticks": ""
             }
            },
            "marker": {
             "colorbar": {
              "outlinewidth": 0,
              "ticks": ""
             }
            },
            "type": "scatter3d"
           }
          ],
          "scattercarpet": [
           {
            "marker": {
             "colorbar": {
              "outlinewidth": 0,
              "ticks": ""
             }
            },
            "type": "scattercarpet"
           }
          ],
          "scattergeo": [
           {
            "marker": {
             "colorbar": {
              "outlinewidth": 0,
              "ticks": ""
             }
            },
            "type": "scattergeo"
           }
          ],
          "scattergl": [
           {
            "marker": {
             "colorbar": {
              "outlinewidth": 0,
              "ticks": ""
             }
            },
            "type": "scattergl"
           }
          ],
          "scattermapbox": [
           {
            "marker": {
             "colorbar": {
              "outlinewidth": 0,
              "ticks": ""
             }
            },
            "type": "scattermapbox"
           }
          ],
          "scatterpolar": [
           {
            "marker": {
             "colorbar": {
              "outlinewidth": 0,
              "ticks": ""
             }
            },
            "type": "scatterpolar"
           }
          ],
          "scatterpolargl": [
           {
            "marker": {
             "colorbar": {
              "outlinewidth": 0,
              "ticks": ""
             }
            },
            "type": "scatterpolargl"
           }
          ],
          "scatterternary": [
           {
            "marker": {
             "colorbar": {
              "outlinewidth": 0,
              "ticks": ""
             }
            },
            "type": "scatterternary"
           }
          ],
          "surface": [
           {
            "colorbar": {
             "outlinewidth": 0,
             "ticks": ""
            },
            "colorscale": [
             [
              0,
              "#0d0887"
             ],
             [
              0.1111111111111111,
              "#46039f"
             ],
             [
              0.2222222222222222,
              "#7201a8"
             ],
             [
              0.3333333333333333,
              "#9c179e"
             ],
             [
              0.4444444444444444,
              "#bd3786"
             ],
             [
              0.5555555555555556,
              "#d8576b"
             ],
             [
              0.6666666666666666,
              "#ed7953"
             ],
             [
              0.7777777777777778,
              "#fb9f3a"
             ],
             [
              0.8888888888888888,
              "#fdca26"
             ],
             [
              1,
              "#f0f921"
             ]
            ],
            "type": "surface"
           }
          ],
          "table": [
           {
            "cells": {
             "fill": {
              "color": "#EBF0F8"
             },
             "line": {
              "color": "white"
             }
            },
            "header": {
             "fill": {
              "color": "#C8D4E3"
             },
             "line": {
              "color": "white"
             }
            },
            "type": "table"
           }
          ]
         },
         "layout": {
          "annotationdefaults": {
           "arrowcolor": "#2a3f5f",
           "arrowhead": 0,
           "arrowwidth": 1
          },
          "autotypenumbers": "strict",
          "coloraxis": {
           "colorbar": {
            "outlinewidth": 0,
            "ticks": ""
           }
          },
          "colorscale": {
           "diverging": [
            [
             0,
             "#8e0152"
            ],
            [
             0.1,
             "#c51b7d"
            ],
            [
             0.2,
             "#de77ae"
            ],
            [
             0.3,
             "#f1b6da"
            ],
            [
             0.4,
             "#fde0ef"
            ],
            [
             0.5,
             "#f7f7f7"
            ],
            [
             0.6,
             "#e6f5d0"
            ],
            [
             0.7,
             "#b8e186"
            ],
            [
             0.8,
             "#7fbc41"
            ],
            [
             0.9,
             "#4d9221"
            ],
            [
             1,
             "#276419"
            ]
           ],
           "sequential": [
            [
             0,
             "#0d0887"
            ],
            [
             0.1111111111111111,
             "#46039f"
            ],
            [
             0.2222222222222222,
             "#7201a8"
            ],
            [
             0.3333333333333333,
             "#9c179e"
            ],
            [
             0.4444444444444444,
             "#bd3786"
            ],
            [
             0.5555555555555556,
             "#d8576b"
            ],
            [
             0.6666666666666666,
             "#ed7953"
            ],
            [
             0.7777777777777778,
             "#fb9f3a"
            ],
            [
             0.8888888888888888,
             "#fdca26"
            ],
            [
             1,
             "#f0f921"
            ]
           ],
           "sequentialminus": [
            [
             0,
             "#0d0887"
            ],
            [
             0.1111111111111111,
             "#46039f"
            ],
            [
             0.2222222222222222,
             "#7201a8"
            ],
            [
             0.3333333333333333,
             "#9c179e"
            ],
            [
             0.4444444444444444,
             "#bd3786"
            ],
            [
             0.5555555555555556,
             "#d8576b"
            ],
            [
             0.6666666666666666,
             "#ed7953"
            ],
            [
             0.7777777777777778,
             "#fb9f3a"
            ],
            [
             0.8888888888888888,
             "#fdca26"
            ],
            [
             1,
             "#f0f921"
            ]
           ]
          },
          "colorway": [
           "#636efa",
           "#EF553B",
           "#00cc96",
           "#ab63fa",
           "#FFA15A",
           "#19d3f3",
           "#FF6692",
           "#B6E880",
           "#FF97FF",
           "#FECB52"
          ],
          "font": {
           "color": "#2a3f5f"
          },
          "geo": {
           "bgcolor": "white",
           "lakecolor": "white",
           "landcolor": "#E5ECF6",
           "showlakes": true,
           "showland": true,
           "subunitcolor": "white"
          },
          "hoverlabel": {
           "align": "left"
          },
          "hovermode": "closest",
          "mapbox": {
           "style": "light"
          },
          "paper_bgcolor": "white",
          "plot_bgcolor": "#E5ECF6",
          "polar": {
           "angularaxis": {
            "gridcolor": "white",
            "linecolor": "white",
            "ticks": ""
           },
           "bgcolor": "#E5ECF6",
           "radialaxis": {
            "gridcolor": "white",
            "linecolor": "white",
            "ticks": ""
           }
          },
          "scene": {
           "xaxis": {
            "backgroundcolor": "#E5ECF6",
            "gridcolor": "white",
            "gridwidth": 2,
            "linecolor": "white",
            "showbackground": true,
            "ticks": "",
            "zerolinecolor": "white"
           },
           "yaxis": {
            "backgroundcolor": "#E5ECF6",
            "gridcolor": "white",
            "gridwidth": 2,
            "linecolor": "white",
            "showbackground": true,
            "ticks": "",
            "zerolinecolor": "white"
           },
           "zaxis": {
            "backgroundcolor": "#E5ECF6",
            "gridcolor": "white",
            "gridwidth": 2,
            "linecolor": "white",
            "showbackground": true,
            "ticks": "",
            "zerolinecolor": "white"
           }
          },
          "shapedefaults": {
           "line": {
            "color": "#2a3f5f"
           }
          },
          "ternary": {
           "aaxis": {
            "gridcolor": "white",
            "linecolor": "white",
            "ticks": ""
           },
           "baxis": {
            "gridcolor": "white",
            "linecolor": "white",
            "ticks": ""
           },
           "bgcolor": "#E5ECF6",
           "caxis": {
            "gridcolor": "white",
            "linecolor": "white",
            "ticks": ""
           }
          },
          "title": {
           "x": 0.05
          },
          "xaxis": {
           "automargin": true,
           "gridcolor": "white",
           "linecolor": "white",
           "ticks": "",
           "title": {
            "standoff": 15
           },
           "zerolinecolor": "white",
           "zerolinewidth": 2
          },
          "yaxis": {
           "automargin": true,
           "gridcolor": "white",
           "linecolor": "white",
           "ticks": "",
           "title": {
            "standoff": 15
           },
           "zerolinecolor": "white",
           "zerolinewidth": 2
          }
         }
        }
       }
      }
     },
     "metadata": {},
     "output_type": "display_data"
    },
    {
     "name": "stdout",
     "output_type": "stream",
     "text": [
      "\n",
      "    ticker: MRNA\n",
      "    trades: 45\n",
      "    more 0.4% : 84.44% (if less than 0.4% then average profit is -0.8%. 7 trades)\n",
      "    more 0.6% : 73.33%\n",
      "    more 0.8% : 68.88%\n",
      "    more 1% : 60.0%\n",
      "  \n"
     ]
    },
    {
     "data": {
      "application/vnd.plotly.v1+json": {
       "config": {
        "plotlyServerURL": "https://plot.ly"
       },
       "data": [
        {
         "marker": {
          "color": "green"
         },
         "name": "run up",
         "type": "bar",
         "x": [
          "27/12 17:36",
          "27/12 18:54",
          "27/12 19:32",
          "28/12 18:32",
          "29/12 17:33",
          "29/12 18:56",
          "29/12 21:00",
          "29/12 21:11",
          "30/12 17:33",
          "30/12 18:30",
          "30/12 20:01",
          "30/12 21:53",
          "31/12 18:50",
          "31/12 20:45",
          "03/01 21:59",
          "04/01 17:51",
          "04/01 19:10",
          "04/01 20:49",
          "05/01 17:32",
          "05/01 17:51",
          "05/01 19:01",
          "05/01 19:12",
          "06/01 17:36",
          "06/01 18:01",
          "06/01 18:50",
          "06/01 20:24",
          "06/01 21:58",
          "07/01 17:44",
          "07/01 18:13",
          "07/01 19:26",
          "07/01 20:16",
          "07/01 21:09",
          "07/01 21:33",
          "10/01 17:10",
          "10/01 17:45",
          "10/01 20:04",
          "10/01 21:25",
          "11/01 19:15",
          "11/01 20:26",
          "11/01 21:26",
          "12/01 17:25",
          "12/01 17:37",
          "12/01 17:57",
          "12/01 18:20",
          "12/01 19:53"
         ],
         "y": [
          2.3390392942414198,
          1.3252816730161345,
          0.2819965354711425,
          4.781563126252507,
          1.3661548872816556,
          4.1293845830707765,
          0.2523607945294711,
          0.47120418848167034,
          1.654676258992812,
          1.7863594396050004,
          2.0927601809954663,
          0.23123230873500478,
          3.667559892812857,
          1.9110764430577136,
          1.1711403658745003,
          1.680635585821557,
          3.348282318108602,
          1.8561286459669846,
          0.8909630886720504,
          1.3081269013472363,
          0.21674108110451254,
          5.761461443878449,
          0.479934180455257,
          2.605105817595145,
          3.976422155688623,
          0.4927015701984589,
          1.084023235603533,
          0.7488087134104859,
          1.1904210477557984,
          0.17939282428702225,
          1.2771688649451978,
          0.10212607928697376,
          0.5186915887850531,
          2.7829835082458763,
          11.418047882136287,
          2.7741879900060304,
          1.6487330787920913,
          0.99839543590657,
          0.8935352723048742,
          0.22361359570661898,
          0.4489999546464733,
          0.7894736842105309,
          0.9239548892612854,
          2.3475650732493976,
          2.302209235400902
         ]
        },
        {
         "marker": {
          "color": "gray"
         },
         "name": "profit",
         "type": "bar",
         "x": [
          "27/12 17:36",
          "27/12 18:54",
          "27/12 19:32",
          "28/12 18:32",
          "29/12 17:33",
          "29/12 18:56",
          "29/12 21:00",
          "29/12 21:11",
          "30/12 17:33",
          "30/12 18:30",
          "30/12 20:01",
          "30/12 21:53",
          "31/12 18:50",
          "31/12 20:45",
          "03/01 21:59",
          "04/01 17:51",
          "04/01 19:10",
          "04/01 20:49",
          "05/01 17:32",
          "05/01 17:51",
          "05/01 19:01",
          "05/01 19:12",
          "06/01 17:36",
          "06/01 18:01",
          "06/01 18:50",
          "06/01 20:24",
          "06/01 21:58",
          "07/01 17:44",
          "07/01 18:13",
          "07/01 19:26",
          "07/01 20:16",
          "07/01 21:09",
          "07/01 21:33",
          "10/01 17:10",
          "10/01 17:45",
          "10/01 20:04",
          "10/01 21:25",
          "11/01 19:15",
          "11/01 20:26",
          "11/01 21:26",
          "12/01 17:25",
          "12/01 17:37",
          "12/01 17:57",
          "12/01 18:20",
          "12/01 19:53"
         ],
         "y": [
          -0.1497308890777405,
          -0.6038745237902167,
          -0.523707851589245,
          3.855711422845693,
          -0.685192234488011,
          3.2052089897080425,
          -1.0664278736567911,
          -0.5195328231977528,
          -0.4356514788169365,
          0.6382722492071788,
          1.3372656755009704,
          -0.5740940078937916,
          2.547694276686788,
          1.0374414976598942,
          0.012822704735852768,
          -0.2575519469180963,
          1.8069403927374084,
          0.7997604995295545,
          -2.3759015697921066,
          -0.2564102564102579,
          -1.287442021760804,
          3.9346565958194306,
          -3.6749245817716387,
          -1.4330454588592492,
          1.5952470059880224,
          -0.6722843855044472,
          -0.16923569500983604,
          -2.0240526435216735,
          -0.6994302654129507,
          -0.9567617295308245,
          -0.046442504179822736,
          -0.6591774208522828,
          -0.29439252336448385,
          -1.7616191904047935,
          6.878453038674033,
          0.7150857241319879,
          0.32540784449843807,
          -0.23622749153146777,
          0.10275655631506865,
          -0.5143112701252263,
          -1.6826159916549408,
          -1.5209634255129334,
          -1.0960641333393795,
          1.1917028806953078,
          1.5584185593483022
         ]
        }
       ],
       "layout": {
        "barmode": "group",
        "template": {
         "data": {
          "bar": [
           {
            "error_x": {
             "color": "#2a3f5f"
            },
            "error_y": {
             "color": "#2a3f5f"
            },
            "marker": {
             "line": {
              "color": "#E5ECF6",
              "width": 0.5
             },
             "pattern": {
              "fillmode": "overlay",
              "size": 10,
              "solidity": 0.2
             }
            },
            "type": "bar"
           }
          ],
          "barpolar": [
           {
            "marker": {
             "line": {
              "color": "#E5ECF6",
              "width": 0.5
             },
             "pattern": {
              "fillmode": "overlay",
              "size": 10,
              "solidity": 0.2
             }
            },
            "type": "barpolar"
           }
          ],
          "carpet": [
           {
            "aaxis": {
             "endlinecolor": "#2a3f5f",
             "gridcolor": "white",
             "linecolor": "white",
             "minorgridcolor": "white",
             "startlinecolor": "#2a3f5f"
            },
            "baxis": {
             "endlinecolor": "#2a3f5f",
             "gridcolor": "white",
             "linecolor": "white",
             "minorgridcolor": "white",
             "startlinecolor": "#2a3f5f"
            },
            "type": "carpet"
           }
          ],
          "choropleth": [
           {
            "colorbar": {
             "outlinewidth": 0,
             "ticks": ""
            },
            "type": "choropleth"
           }
          ],
          "contour": [
           {
            "colorbar": {
             "outlinewidth": 0,
             "ticks": ""
            },
            "colorscale": [
             [
              0,
              "#0d0887"
             ],
             [
              0.1111111111111111,
              "#46039f"
             ],
             [
              0.2222222222222222,
              "#7201a8"
             ],
             [
              0.3333333333333333,
              "#9c179e"
             ],
             [
              0.4444444444444444,
              "#bd3786"
             ],
             [
              0.5555555555555556,
              "#d8576b"
             ],
             [
              0.6666666666666666,
              "#ed7953"
             ],
             [
              0.7777777777777778,
              "#fb9f3a"
             ],
             [
              0.8888888888888888,
              "#fdca26"
             ],
             [
              1,
              "#f0f921"
             ]
            ],
            "type": "contour"
           }
          ],
          "contourcarpet": [
           {
            "colorbar": {
             "outlinewidth": 0,
             "ticks": ""
            },
            "type": "contourcarpet"
           }
          ],
          "heatmap": [
           {
            "colorbar": {
             "outlinewidth": 0,
             "ticks": ""
            },
            "colorscale": [
             [
              0,
              "#0d0887"
             ],
             [
              0.1111111111111111,
              "#46039f"
             ],
             [
              0.2222222222222222,
              "#7201a8"
             ],
             [
              0.3333333333333333,
              "#9c179e"
             ],
             [
              0.4444444444444444,
              "#bd3786"
             ],
             [
              0.5555555555555556,
              "#d8576b"
             ],
             [
              0.6666666666666666,
              "#ed7953"
             ],
             [
              0.7777777777777778,
              "#fb9f3a"
             ],
             [
              0.8888888888888888,
              "#fdca26"
             ],
             [
              1,
              "#f0f921"
             ]
            ],
            "type": "heatmap"
           }
          ],
          "heatmapgl": [
           {
            "colorbar": {
             "outlinewidth": 0,
             "ticks": ""
            },
            "colorscale": [
             [
              0,
              "#0d0887"
             ],
             [
              0.1111111111111111,
              "#46039f"
             ],
             [
              0.2222222222222222,
              "#7201a8"
             ],
             [
              0.3333333333333333,
              "#9c179e"
             ],
             [
              0.4444444444444444,
              "#bd3786"
             ],
             [
              0.5555555555555556,
              "#d8576b"
             ],
             [
              0.6666666666666666,
              "#ed7953"
             ],
             [
              0.7777777777777778,
              "#fb9f3a"
             ],
             [
              0.8888888888888888,
              "#fdca26"
             ],
             [
              1,
              "#f0f921"
             ]
            ],
            "type": "heatmapgl"
           }
          ],
          "histogram": [
           {
            "marker": {
             "pattern": {
              "fillmode": "overlay",
              "size": 10,
              "solidity": 0.2
             }
            },
            "type": "histogram"
           }
          ],
          "histogram2d": [
           {
            "colorbar": {
             "outlinewidth": 0,
             "ticks": ""
            },
            "colorscale": [
             [
              0,
              "#0d0887"
             ],
             [
              0.1111111111111111,
              "#46039f"
             ],
             [
              0.2222222222222222,
              "#7201a8"
             ],
             [
              0.3333333333333333,
              "#9c179e"
             ],
             [
              0.4444444444444444,
              "#bd3786"
             ],
             [
              0.5555555555555556,
              "#d8576b"
             ],
             [
              0.6666666666666666,
              "#ed7953"
             ],
             [
              0.7777777777777778,
              "#fb9f3a"
             ],
             [
              0.8888888888888888,
              "#fdca26"
             ],
             [
              1,
              "#f0f921"
             ]
            ],
            "type": "histogram2d"
           }
          ],
          "histogram2dcontour": [
           {
            "colorbar": {
             "outlinewidth": 0,
             "ticks": ""
            },
            "colorscale": [
             [
              0,
              "#0d0887"
             ],
             [
              0.1111111111111111,
              "#46039f"
             ],
             [
              0.2222222222222222,
              "#7201a8"
             ],
             [
              0.3333333333333333,
              "#9c179e"
             ],
             [
              0.4444444444444444,
              "#bd3786"
             ],
             [
              0.5555555555555556,
              "#d8576b"
             ],
             [
              0.6666666666666666,
              "#ed7953"
             ],
             [
              0.7777777777777778,
              "#fb9f3a"
             ],
             [
              0.8888888888888888,
              "#fdca26"
             ],
             [
              1,
              "#f0f921"
             ]
            ],
            "type": "histogram2dcontour"
           }
          ],
          "mesh3d": [
           {
            "colorbar": {
             "outlinewidth": 0,
             "ticks": ""
            },
            "type": "mesh3d"
           }
          ],
          "parcoords": [
           {
            "line": {
             "colorbar": {
              "outlinewidth": 0,
              "ticks": ""
             }
            },
            "type": "parcoords"
           }
          ],
          "pie": [
           {
            "automargin": true,
            "type": "pie"
           }
          ],
          "scatter": [
           {
            "marker": {
             "colorbar": {
              "outlinewidth": 0,
              "ticks": ""
             }
            },
            "type": "scatter"
           }
          ],
          "scatter3d": [
           {
            "line": {
             "colorbar": {
              "outlinewidth": 0,
              "ticks": ""
             }
            },
            "marker": {
             "colorbar": {
              "outlinewidth": 0,
              "ticks": ""
             }
            },
            "type": "scatter3d"
           }
          ],
          "scattercarpet": [
           {
            "marker": {
             "colorbar": {
              "outlinewidth": 0,
              "ticks": ""
             }
            },
            "type": "scattercarpet"
           }
          ],
          "scattergeo": [
           {
            "marker": {
             "colorbar": {
              "outlinewidth": 0,
              "ticks": ""
             }
            },
            "type": "scattergeo"
           }
          ],
          "scattergl": [
           {
            "marker": {
             "colorbar": {
              "outlinewidth": 0,
              "ticks": ""
             }
            },
            "type": "scattergl"
           }
          ],
          "scattermapbox": [
           {
            "marker": {
             "colorbar": {
              "outlinewidth": 0,
              "ticks": ""
             }
            },
            "type": "scattermapbox"
           }
          ],
          "scatterpolar": [
           {
            "marker": {
             "colorbar": {
              "outlinewidth": 0,
              "ticks": ""
             }
            },
            "type": "scatterpolar"
           }
          ],
          "scatterpolargl": [
           {
            "marker": {
             "colorbar": {
              "outlinewidth": 0,
              "ticks": ""
             }
            },
            "type": "scatterpolargl"
           }
          ],
          "scatterternary": [
           {
            "marker": {
             "colorbar": {
              "outlinewidth": 0,
              "ticks": ""
             }
            },
            "type": "scatterternary"
           }
          ],
          "surface": [
           {
            "colorbar": {
             "outlinewidth": 0,
             "ticks": ""
            },
            "colorscale": [
             [
              0,
              "#0d0887"
             ],
             [
              0.1111111111111111,
              "#46039f"
             ],
             [
              0.2222222222222222,
              "#7201a8"
             ],
             [
              0.3333333333333333,
              "#9c179e"
             ],
             [
              0.4444444444444444,
              "#bd3786"
             ],
             [
              0.5555555555555556,
              "#d8576b"
             ],
             [
              0.6666666666666666,
              "#ed7953"
             ],
             [
              0.7777777777777778,
              "#fb9f3a"
             ],
             [
              0.8888888888888888,
              "#fdca26"
             ],
             [
              1,
              "#f0f921"
             ]
            ],
            "type": "surface"
           }
          ],
          "table": [
           {
            "cells": {
             "fill": {
              "color": "#EBF0F8"
             },
             "line": {
              "color": "white"
             }
            },
            "header": {
             "fill": {
              "color": "#C8D4E3"
             },
             "line": {
              "color": "white"
             }
            },
            "type": "table"
           }
          ]
         },
         "layout": {
          "annotationdefaults": {
           "arrowcolor": "#2a3f5f",
           "arrowhead": 0,
           "arrowwidth": 1
          },
          "autotypenumbers": "strict",
          "coloraxis": {
           "colorbar": {
            "outlinewidth": 0,
            "ticks": ""
           }
          },
          "colorscale": {
           "diverging": [
            [
             0,
             "#8e0152"
            ],
            [
             0.1,
             "#c51b7d"
            ],
            [
             0.2,
             "#de77ae"
            ],
            [
             0.3,
             "#f1b6da"
            ],
            [
             0.4,
             "#fde0ef"
            ],
            [
             0.5,
             "#f7f7f7"
            ],
            [
             0.6,
             "#e6f5d0"
            ],
            [
             0.7,
             "#b8e186"
            ],
            [
             0.8,
             "#7fbc41"
            ],
            [
             0.9,
             "#4d9221"
            ],
            [
             1,
             "#276419"
            ]
           ],
           "sequential": [
            [
             0,
             "#0d0887"
            ],
            [
             0.1111111111111111,
             "#46039f"
            ],
            [
             0.2222222222222222,
             "#7201a8"
            ],
            [
             0.3333333333333333,
             "#9c179e"
            ],
            [
             0.4444444444444444,
             "#bd3786"
            ],
            [
             0.5555555555555556,
             "#d8576b"
            ],
            [
             0.6666666666666666,
             "#ed7953"
            ],
            [
             0.7777777777777778,
             "#fb9f3a"
            ],
            [
             0.8888888888888888,
             "#fdca26"
            ],
            [
             1,
             "#f0f921"
            ]
           ],
           "sequentialminus": [
            [
             0,
             "#0d0887"
            ],
            [
             0.1111111111111111,
             "#46039f"
            ],
            [
             0.2222222222222222,
             "#7201a8"
            ],
            [
             0.3333333333333333,
             "#9c179e"
            ],
            [
             0.4444444444444444,
             "#bd3786"
            ],
            [
             0.5555555555555556,
             "#d8576b"
            ],
            [
             0.6666666666666666,
             "#ed7953"
            ],
            [
             0.7777777777777778,
             "#fb9f3a"
            ],
            [
             0.8888888888888888,
             "#fdca26"
            ],
            [
             1,
             "#f0f921"
            ]
           ]
          },
          "colorway": [
           "#636efa",
           "#EF553B",
           "#00cc96",
           "#ab63fa",
           "#FFA15A",
           "#19d3f3",
           "#FF6692",
           "#B6E880",
           "#FF97FF",
           "#FECB52"
          ],
          "font": {
           "color": "#2a3f5f"
          },
          "geo": {
           "bgcolor": "white",
           "lakecolor": "white",
           "landcolor": "#E5ECF6",
           "showlakes": true,
           "showland": true,
           "subunitcolor": "white"
          },
          "hoverlabel": {
           "align": "left"
          },
          "hovermode": "closest",
          "mapbox": {
           "style": "light"
          },
          "paper_bgcolor": "white",
          "plot_bgcolor": "#E5ECF6",
          "polar": {
           "angularaxis": {
            "gridcolor": "white",
            "linecolor": "white",
            "ticks": ""
           },
           "bgcolor": "#E5ECF6",
           "radialaxis": {
            "gridcolor": "white",
            "linecolor": "white",
            "ticks": ""
           }
          },
          "scene": {
           "xaxis": {
            "backgroundcolor": "#E5ECF6",
            "gridcolor": "white",
            "gridwidth": 2,
            "linecolor": "white",
            "showbackground": true,
            "ticks": "",
            "zerolinecolor": "white"
           },
           "yaxis": {
            "backgroundcolor": "#E5ECF6",
            "gridcolor": "white",
            "gridwidth": 2,
            "linecolor": "white",
            "showbackground": true,
            "ticks": "",
            "zerolinecolor": "white"
           },
           "zaxis": {
            "backgroundcolor": "#E5ECF6",
            "gridcolor": "white",
            "gridwidth": 2,
            "linecolor": "white",
            "showbackground": true,
            "ticks": "",
            "zerolinecolor": "white"
           }
          },
          "shapedefaults": {
           "line": {
            "color": "#2a3f5f"
           }
          },
          "ternary": {
           "aaxis": {
            "gridcolor": "white",
            "linecolor": "white",
            "ticks": ""
           },
           "baxis": {
            "gridcolor": "white",
            "linecolor": "white",
            "ticks": ""
           },
           "bgcolor": "#E5ECF6",
           "caxis": {
            "gridcolor": "white",
            "linecolor": "white",
            "ticks": ""
           }
          },
          "title": {
           "x": 0.05
          },
          "xaxis": {
           "automargin": true,
           "gridcolor": "white",
           "linecolor": "white",
           "ticks": "",
           "title": {
            "standoff": 15
           },
           "zerolinecolor": "white",
           "zerolinewidth": 2
          },
          "yaxis": {
           "automargin": true,
           "gridcolor": "white",
           "linecolor": "white",
           "ticks": "",
           "title": {
            "standoff": 15
           },
           "zerolinecolor": "white",
           "zerolinewidth": 2
          }
         }
        }
       }
      }
     },
     "metadata": {},
     "output_type": "display_data"
    }
   ],
   "source": [
    "import matplotlib.pyplot as plt\n",
    "import matplotlib\n",
    "import plotly.graph_objects as go\n",
    "from functools import reduce\n",
    "\n",
    "matplotlib.rcParams.update({'font.size': 22})\n",
    "\n",
    "def frequences(items, ticker):\n",
    "  more1 = 0\n",
    "  more04 = 0\n",
    "  more06 = 0\n",
    "  more08 = 0\n",
    "\n",
    "  for item in items:\n",
    "    if item['run_up'] >= 1:\n",
    "      more1 += 1\n",
    "    \n",
    "    if item['run_up'] >= 0.4:\n",
    "      more04 += 1\n",
    "\n",
    "    if item['run_up'] >= 0.6:\n",
    "      more06 += 1\n",
    "    \n",
    "    if item['run_up'] >= 0.8:\n",
    "      more08 += 1\n",
    "  \n",
    "  percent1 = more04 / len(items) * 100\n",
    "  percent2 = more06 / len(items) * 100\n",
    "  percent3 = more08 / len(items) * 100\n",
    "  percent4 = more1 / len(items) * 100\n",
    "\n",
    "  less04_list = list(filter(lambda x: x['run_up'] < 0.4, filtered))\n",
    "  less04_profit = reduce(lambda a, b: a + b['profit'], less04_list, 0)\n",
    "\n",
    "  print(f\"\"\"\n",
    "    ticker: {ticker}\n",
    "    trades: {len(items)}\n",
    "    more 0.4% : {round_decimals_down(percent1, 2)}% (if less than 0.4% then average profit is {round_decimals_down(less04_profit / len(less04_list), 2)}%. {len(less04_list)} trades)\n",
    "    more 0.6% : {round_decimals_down(percent2, 2)}%\n",
    "    more 0.8% : {round_decimals_down(percent3, 2)}%\n",
    "    more 1% : {round_decimals_down(percent4, 2)}%\n",
    "  \"\"\")\n",
    "\n",
    "print(f\"\"\"\n",
    "periods = {periods}\n",
    "interval = {interval}\n",
    "pmax_multiplier = {pmax_multiplier}\n",
    "\"\"\")\n",
    "\n",
    "for company in companies:\n",
    "  figi = company[\"figi\"]\n",
    "  ticker = company[\"ticker\"]\n",
    "\n",
    "  filtered = list(filter(lambda x: x['time'].hour >= 17 and x['time'].hour <= 21, trades[figi]))\n",
    "  frequences(filtered, ticker)\n",
    "\n",
    "  x = list(map(lambda q: q['time'].format('DD/MM HH:mm'), filtered))\n",
    "\n",
    "  fig = go.Figure()\n",
    "  fig.add_trace(\n",
    "    go.Bar(\n",
    "      x=x,\n",
    "      y=list(map(lambda q: q['run_up'], filtered)),\n",
    "      name='run up',\n",
    "      marker_color='green'\n",
    "    )\n",
    "  )\n",
    "  fig.add_trace(\n",
    "    go.Bar(\n",
    "      x=x,\n",
    "      y=list(map(lambda q: q['profit'], filtered)),\n",
    "      name='profit',\n",
    "      marker_color='gray'\n",
    "    )\n",
    "  )\n",
    "  fig.update_layout(\n",
    "    barmode='group',\n",
    "  )\n",
    "\n",
    "  fig.show()\n",
    "\n",
    "\n"
   ]
  }
 ],
 "metadata": {
  "interpreter": {
   "hash": "9e9b63d0bf04b8588851f2dcd2cf5c1cca7d58c4ac4d3794a5a37d0563c85fe3"
  },
  "kernelspec": {
   "display_name": "Python 3.9.7 64-bit ('backend-VZWEIILi-py3.9': poetry)",
   "language": "python",
   "name": "python3"
  },
  "language_info": {
   "codemirror_mode": {
    "name": "ipython",
    "version": 3
   },
   "file_extension": ".py",
   "mimetype": "text/x-python",
   "name": "python",
   "nbconvert_exporter": "python",
   "pygments_lexer": "ipython3",
   "version": "3.9.7"
  },
  "orig_nbformat": 4
 },
 "nbformat": 4,
 "nbformat_minor": 2
}
