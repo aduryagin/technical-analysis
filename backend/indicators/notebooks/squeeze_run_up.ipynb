{
 "cells": [
  {
   "cell_type": "code",
   "execution_count": 28,
   "metadata": {},
   "outputs": [
    {
     "name": "stdout",
     "output_type": "stream",
     "text": [
      "The dotenv extension is already loaded. To reload it, use:\n",
      "  %reload_ext dotenv\n"
     ]
    }
   ],
   "source": [
    "%load_ext dotenv\n",
    "%dotenv ../.env"
   ]
  },
  {
   "cell_type": "code",
   "execution_count": 95,
   "metadata": {},
   "outputs": [
    {
     "name": "stdout",
     "output_type": "stream",
     "text": [
      "[Tinkoff] Downloading candles for MRNA 0/40\n",
      "[Tinkoff] Downloading candles for MRNA 1/40\n",
      "[Tinkoff] Downloading candles for MRNA 2/40\n",
      "[Tinkoff] Downloading candles for MRNA 3/40\n",
      "[Tinkoff] Downloading candles for MRNA 4/40\n",
      "[Tinkoff] Downloading candles for MRNA 5/40\n",
      "[Tinkoff] Downloading candles for MRNA 6/40\n",
      "[Tinkoff] Downloading candles for MRNA 7/40\n",
      "[Tinkoff] Downloading candles for MRNA 8/40\n",
      "[Tinkoff] Downloading candles for MRNA 9/40\n",
      "[Tinkoff] Downloading candles for MRNA 10/40\n",
      "[Tinkoff] Downloading candles for MRNA 11/40\n",
      "[Tinkoff] Downloading candles for MRNA 12/40\n",
      "[Tinkoff] Downloading candles for MRNA 13/40\n",
      "[Tinkoff] Downloading candles for MRNA 14/40\n",
      "[Tinkoff] Downloading candles for MRNA 15/40\n",
      "[Tinkoff] Downloading candles for MRNA 16/40\n",
      "[Tinkoff] Downloading candles for MRNA 17/40\n",
      "[Tinkoff] Downloading candles for MRNA 18/40\n",
      "[Tinkoff] Downloading candles for MRNA 19/40\n",
      "[Tinkoff] Downloading candles for MRNA 20/40\n",
      "[Tinkoff] Downloading candles for MRNA 21/40\n",
      "[Tinkoff] Downloading candles for MRNA 22/40\n",
      "[Tinkoff] Downloading candles for MRNA 23/40\n",
      "[Tinkoff] Downloading candles for MRNA 24/40\n",
      "[Tinkoff] Downloading candles for MRNA 25/40\n",
      "[Tinkoff] Downloading candles for MRNA 25/40\n",
      "[Tinkoff] Downloading candles for MRNA 26/40\n",
      "[Tinkoff] Downloading candles for MRNA 27/40\n",
      "[Tinkoff] Downloading candles for MRNA 28/40\n",
      "[Tinkoff] Downloading candles for MRNA 29/40\n",
      "[Tinkoff] Downloading candles for MRNA 30/40\n",
      "[Tinkoff] Downloading candles for MRNA 31/40\n",
      "[Tinkoff] Downloading candles for MRNA 31/40\n",
      "[Tinkoff] Downloading candles for MRNA 32/40\n",
      "[Tinkoff] Downloading candles for MRNA 33/40\n",
      "[Tinkoff] Downloading candles for MRNA 34/40\n",
      "[Tinkoff] Downloading candles for MRNA 35/40\n",
      "[Tinkoff] Downloading candles for MRNA 36/40\n",
      "[Tinkoff] Downloading candles for MRNA 37/40\n",
      "[Tinkoff] Downloading candles for MRNA 37/40\n",
      "[Tinkoff] Downloading candles for MRNA 38/40\n",
      "[Tinkoff] Downloading candles for MRNA 39/40\n",
      "[Tinkoff] Candles for MRNA successfully downloaded!\n",
      "[Tinkoff] Downloading candles for TSLA 0/40\n",
      "[Tinkoff] Downloading candles for TSLA 1/40\n",
      "[Tinkoff] Downloading candles for TSLA 2/40\n",
      "[Tinkoff] Downloading candles for TSLA 3/40\n",
      "[Tinkoff] Downloading candles for TSLA 4/40\n",
      "[Tinkoff] Downloading candles for TSLA 5/40\n",
      "[Tinkoff] Downloading candles for TSLA 6/40\n",
      "[Tinkoff] Downloading candles for TSLA 7/40\n",
      "[Tinkoff] Downloading candles for TSLA 8/40\n",
      "[Tinkoff] Downloading candles for TSLA 9/40\n",
      "[Tinkoff] Downloading candles for TSLA 10/40\n",
      "[Tinkoff] Downloading candles for TSLA 11/40\n",
      "[Tinkoff] Downloading candles for TSLA 12/40\n",
      "[Tinkoff] Downloading candles for TSLA 13/40\n",
      "[Tinkoff] Downloading candles for TSLA 14/40\n",
      "[Tinkoff] Downloading candles for TSLA 15/40\n",
      "[Tinkoff] Downloading candles for TSLA 16/40\n",
      "[Tinkoff] Downloading candles for TSLA 17/40\n",
      "[Tinkoff] Downloading candles for TSLA 18/40\n",
      "[Tinkoff] Downloading candles for TSLA 19/40\n",
      "[Tinkoff] Downloading candles for TSLA 20/40\n",
      "[Tinkoff] Downloading candles for TSLA 21/40\n",
      "[Tinkoff] Downloading candles for TSLA 22/40\n",
      "[Tinkoff] Downloading candles for TSLA 23/40\n",
      "[Tinkoff] Downloading candles for TSLA 24/40\n",
      "[Tinkoff] Downloading candles for TSLA 25/40\n",
      "[Tinkoff] Downloading candles for TSLA 25/40\n",
      "[Tinkoff] Downloading candles for TSLA 26/40\n",
      "[Tinkoff] Downloading candles for TSLA 27/40\n",
      "[Tinkoff] Downloading candles for TSLA 28/40\n",
      "[Tinkoff] Downloading candles for TSLA 29/40\n",
      "[Tinkoff] Downloading candles for TSLA 30/40\n",
      "[Tinkoff] Downloading candles for TSLA 31/40\n",
      "[Tinkoff] Downloading candles for TSLA 31/40\n",
      "[Tinkoff] Downloading candles for TSLA 32/40\n",
      "[Tinkoff] Downloading candles for TSLA 33/40\n",
      "[Tinkoff] Downloading candles for TSLA 34/40\n",
      "[Tinkoff] Downloading candles for TSLA 35/40\n",
      "[Tinkoff] Downloading candles for TSLA 36/40\n",
      "[Tinkoff] Downloading candles for TSLA 37/40\n",
      "[Tinkoff] Downloading candles for TSLA 37/40\n",
      "[Tinkoff] Downloading candles for TSLA 38/40\n",
      "[Tinkoff] Downloading candles for TSLA 39/40\n",
      "[Tinkoff] Candles for TSLA successfully downloaded!\n",
      "[Tinkoff] Downloading candles for NVDA 0/40\n",
      "[Tinkoff] Downloading candles for NVDA 1/40\n",
      "[Tinkoff] Downloading candles for NVDA 2/40\n",
      "[Tinkoff] Downloading candles for NVDA 3/40\n",
      "[Tinkoff] Downloading candles for NVDA 4/40\n",
      "[Tinkoff] Downloading candles for NVDA 5/40\n",
      "[Tinkoff] Downloading candles for NVDA 6/40\n",
      "[Tinkoff] Downloading candles for NVDA 7/40\n",
      "[Tinkoff] Downloading candles for NVDA 8/40\n",
      "[Tinkoff] Downloading candles for NVDA 9/40\n",
      "[Tinkoff] Downloading candles for NVDA 10/40\n",
      "[Tinkoff] Downloading candles for NVDA 11/40\n",
      "[Tinkoff] Downloading candles for NVDA 12/40\n",
      "[Tinkoff] Downloading candles for NVDA 13/40\n",
      "[Tinkoff] Downloading candles for NVDA 14/40\n",
      "[Tinkoff] Downloading candles for NVDA 15/40\n",
      "[Tinkoff] Downloading candles for NVDA 16/40\n",
      "[Tinkoff] Downloading candles for NVDA 17/40\n",
      "[Tinkoff] Downloading candles for NVDA 18/40\n",
      "[Tinkoff] Downloading candles for NVDA 19/40\n",
      "[Tinkoff] Downloading candles for NVDA 20/40\n",
      "[Tinkoff] Downloading candles for NVDA 21/40\n",
      "[Tinkoff] Downloading candles for NVDA 22/40\n",
      "[Tinkoff] Downloading candles for NVDA 23/40\n",
      "[Tinkoff] Downloading candles for NVDA 24/40\n",
      "[Tinkoff] Downloading candles for NVDA 25/40\n",
      "[Tinkoff] Downloading candles for NVDA 26/40\n",
      "[Tinkoff] Downloading candles for NVDA 27/40\n",
      "[Tinkoff] Downloading candles for NVDA 28/40\n",
      "[Tinkoff] Downloading candles for NVDA 29/40\n",
      "[Tinkoff] Downloading candles for NVDA 30/40\n",
      "[Tinkoff] Downloading candles for NVDA 31/40\n",
      "[Tinkoff] Downloading candles for NVDA 32/40\n",
      "[Tinkoff] Downloading candles for NVDA 32/40\n",
      "[Tinkoff] Downloading candles for NVDA 33/40\n",
      "[Tinkoff] Downloading candles for NVDA 34/40\n",
      "[Tinkoff] Downloading candles for NVDA 35/40\n",
      "[Tinkoff] Downloading candles for NVDA 36/40\n",
      "[Tinkoff] Downloading candles for NVDA 37/40\n",
      "[Tinkoff] Downloading candles for NVDA 38/40\n",
      "[Tinkoff] Downloading candles for NVDA 38/40\n",
      "[Tinkoff] Downloading candles for NVDA 39/40\n",
      "[Tinkoff] Candles for NVDA successfully downloaded!\n"
     ]
    }
   ],
   "source": [
    "import tinvest\n",
    "from datetime import datetime, timedelta\n",
    "import pandas as pd\n",
    "import os\n",
    "\n",
    "def get_candles(\n",
    "  company,\n",
    "  interval=tinvest.CandleResolution.min1,\n",
    "  periods=3,\n",
    "):\n",
    "  token = os.environ['TINKOFF_SECRET']\n",
    "  client = tinvest.SyncClient(\n",
    "    token,\n",
    "    use_sandbox=False,\n",
    "  )\n",
    "\n",
    "  figi = company[\"figi\"]\n",
    "  ticker = company[\"ticker\"]\n",
    "\n",
    "  end_date = datetime.now()\n",
    "  periods_with_candles = 0\n",
    "  df = pd.DataFrame()\n",
    "  delta = timedelta(days=1)\n",
    "  if interval == tinvest.CandleResolution.hour:\n",
    "      delta = timedelta(weeks=1)\n",
    "  elif interval in [\n",
    "      tinvest.CandleResolution.day,\n",
    "      tinvest.CandleResolution.week,\n",
    "      tinvest.CandleResolution.month,\n",
    "  ]:\n",
    "      delta = timedelta(years=1)\n",
    "\n",
    "  while periods_with_candles < periods:\n",
    "      start_date = end_date - delta\n",
    "\n",
    "      print(\n",
    "          f\"[Tinkoff] Downloading candles for {ticker} {periods_with_candles}/{periods}\"  # noqa\n",
    "      )\n",
    "      response = client.get_market_candles(\n",
    "          figi,\n",
    "          from_=start_date,\n",
    "          to=end_date,\n",
    "          interval=interval,\n",
    "      )\n",
    "\n",
    "      payload = response.payload\n",
    "\n",
    "      if len(payload.candles) > 0:\n",
    "          df = pd.concat(\n",
    "              [\n",
    "                  pd.DataFrame(\n",
    "                      {\n",
    "                          \"Volume\": float(c.dict()[\"v\"]),\n",
    "                          \"High\": float(c.dict()[\"h\"]),\n",
    "                          \"Low\": float(c.dict()[\"l\"]),\n",
    "                          \"Open\": float(c.dict()[\"o\"]),\n",
    "                          \"Close\": float(c.dict()[\"c\"]),\n",
    "                          \"Date\": c.dict()[\"time\"] + timedelta(hours=3),\n",
    "                      }\n",
    "                      for c in payload.candles\n",
    "                  ),\n",
    "                  df,\n",
    "              ],\n",
    "              ignore_index=True,\n",
    "          )\n",
    "          periods_with_candles += 1\n",
    "\n",
    "      end_date = start_date\n",
    "\n",
    "  df.set_index(\"Date\", inplace=True)\n",
    "\n",
    "  # remove duplicates\n",
    "  df = df[~df.index.duplicated(keep=\"last\")]\n",
    "\n",
    "  print(\n",
    "      f\"[Tinkoff] Candles for {ticker} successfully downloaded!\",  # noqa\n",
    "  )\n",
    "\n",
    "  return df, figi\n",
    "\n",
    "\n",
    "periods = 40\n",
    "interval=tinvest.CandleResolution.min15\n",
    "companies = [\n",
    "  { \"figi\": 'BBG003PHHZT1', \"ticker\": \"MRNA\"},\n",
    "  { \"figi\": 'BBG000N9MNX3', \"ticker\": \"TSLA\" },\n",
    "  { \"figi\": 'BBG000BBJQV0', \"ticker\": \"NVDA\" },\n",
    "]\n",
    "\n",
    "def download():\n",
    "  result = {}\n",
    "  for company in companies:\n",
    "    result[company['figi']] = get_candles(company, interval=interval, periods=periods)\n",
    "  \n",
    "  return result\n",
    "\n",
    "result = download()\n"
   ]
  },
  {
   "cell_type": "code",
   "execution_count": 96,
   "metadata": {},
   "outputs": [],
   "source": [
    "# find out previous run ups\n",
    "\n",
    "import arrow\n",
    "import pandas_ta\n",
    "\n",
    "trades = {}\n",
    "\n",
    "for company in companies:\n",
    "    figi = company[\"figi\"]\n",
    "    ticker = company[\"ticker\"] \n",
    "\n",
    "    (candles, _) = result[figi]\n",
    "    indicator_result = candles.ta.squeeze(lazybear=True)\n",
    "\n",
    "    index = 0\n",
    "    trades[figi] = []\n",
    "\n",
    "    for (date, indicator_value) in zip(indicator_result.index, indicator_result['SQZ_20_2.0_20_1.5_LB']):\n",
    "      close = candles.at[date, 'Close']\n",
    "      high = candles.at[date, 'High']\n",
    "      low = candles.at[date, 'Low']\n",
    "\n",
    "      is_sell = False\n",
    "      is_buy = False\n",
    "\n",
    "      if index == 0:\n",
    "        index += 1\n",
    "        continue\n",
    "\n",
    "      # without squeeze\n",
    "      # if (\n",
    "      #     indicator_value > 0\n",
    "      #     and indicator_result['SQZ_20_2.0_20_1.5_LB'][index - 1] <= 0\n",
    "      # ):\n",
    "      #     is_buy = True\n",
    "      # elif (\n",
    "      #     indicator_value < 0\n",
    "      #     and indicator_result['SQZ_20_2.0_20_1.5_LB'][index - 1] >= 0\n",
    "      # ):\n",
    "      #     is_sell = True\n",
    "      \n",
    "      # squeeze\n",
    "\n",
    "      is_buy_stop = False\n",
    "      is_sell_stop = False\n",
    "\n",
    "      if (\n",
    "          indicator_result['SQZ_ON'][index] == 0 and\n",
    "          indicator_result['SQZ_ON'][index - 1] == 1 and\n",
    "          indicator_value > 0 and\n",
    "          indicator_value > indicator_result['SQZ_20_2.0_20_1.5_LB'][index - 1]\n",
    "      ):\n",
    "          is_buy = True\n",
    "      elif (\n",
    "          indicator_result['SQZ_ON'][index] == 0 and\n",
    "          indicator_result['SQZ_ON'][index - 1] == 1 and\n",
    "          indicator_value < 0 and\n",
    "          indicator_value < indicator_result['SQZ_20_2.0_20_1.5_LB'][index - 1]\n",
    "      ):\n",
    "          is_sell = True\n",
    "\n",
    "      if (\n",
    "          indicator_value > 0\n",
    "          and indicator_result['SQZ_20_2.0_20_1.5_LB'][index - 1] <= 0\n",
    "      ):\n",
    "          is_sell_stop = True\n",
    "      elif (\n",
    "          indicator_value < 0\n",
    "          and indicator_result['SQZ_20_2.0_20_1.5_LB'][index - 1] >= 0\n",
    "      ):\n",
    "          is_buy_stop = True\n",
    "\n",
    "      last_trade = trades[figi][-1] if len(trades[figi]) > 0 else False\n",
    "      local_date = arrow.get(date)\n",
    "\n",
    "      # squeeze stop\n",
    "\n",
    "      if is_sell_stop or is_buy_stop:\n",
    "        if last_trade:\n",
    "          one_percent = last_trade['price_in'] / 100\n",
    "          last_trade['price_out'] = close\n",
    "          last_trade['time_out'] = local_date\n",
    "          last_trade['profit'] = ((last_trade['price_in'] - last_trade['price_out']) / one_percent) if last_trade['type'] == 'short' else (last_trade['price_out'] - last_trade['price_in']) / one_percent\n",
    "          last_trade['run_up'] = ((last_trade['price_in'] - last_trade['best_price']) / one_percent) if last_trade['type'] == 'short' else (last_trade['best_price'] - last_trade['price_in']) / one_percent\n",
    "\n",
    "      if is_sell or is_buy:\n",
    "        if last_trade and last_trade['run_up'] == 0:\n",
    "          one_percent = last_trade['price_in'] / 100\n",
    "          last_trade['price_out'] = close\n",
    "          last_trade['time_out'] = local_date\n",
    "          last_trade['profit'] = ((last_trade['price_in'] - last_trade['price_out']) / one_percent) if last_trade['type'] == 'short' else (last_trade['price_out'] - last_trade['price_in']) / one_percent\n",
    "          last_trade['run_up'] = ((last_trade['price_in'] - last_trade['best_price']) / one_percent) if last_trade['type'] == 'short' else (last_trade['best_price'] - last_trade['price_in']) / one_percent\n",
    "\n",
    "        trades[figi].append({\n",
    "          \"run_up\": 0,\n",
    "          \"profit\": 0,\n",
    "          \"time\": local_date,\n",
    "          \"type\": \"short\" if is_sell else \"long\",\n",
    "          \"price_in\": close,\n",
    "          \"best_price\": low if is_sell else high\n",
    "        })\n",
    "      else:\n",
    "        if last_trade:\n",
    "          if (last_trade[\"type\"] == \"short\" and low < last_trade[\"best_price\"]) or (last_trade[\"type\"] == \"long\" and high > last_trade[\"best_price\"]):\n",
    "            last_trade[\"best_price\"] = low if last_trade[\"type\"] == \"short\" else high\n",
    "\n",
    "      index += 1"
   ]
  },
  {
   "cell_type": "code",
   "execution_count": 97,
   "metadata": {},
   "outputs": [
    {
     "name": "stdout",
     "output_type": "stream",
     "text": [
      "MRNA\n"
     ]
    },
    {
     "data": {
      "image/png": "[encoded data removed]",
      "text/plain": [
       "<Figure size 4800x960 with 1 Axes>"
      ]
     },
     "metadata": {
      "needs_background": "light"
     },
     "output_type": "display_data"
    },
    {
     "name": "stdout",
     "output_type": "stream",
     "text": [
      "TSLA\n"
     ]
    },
    {
     "data": {
      "image/png": "[encoded data removed]",
      "text/plain": [
       "<Figure size 4800x960 with 1 Axes>"
      ]
     },
     "metadata": {
      "needs_background": "light"
     },
     "output_type": "display_data"
    },
    {
     "name": "stdout",
     "output_type": "stream",
     "text": [
      "NVDA\n"
     ]
    },
    {
     "data": {
      "image/png": "[encoded data removed]",
      "text/plain": [
       "<Figure size 4800x960 with 1 Axes>"
      ]
     },
     "metadata": {
      "needs_background": "light"
     },
     "output_type": "display_data"
    }
   ],
   "source": [
    "import math\n",
    "import matplotlib.pyplot as plt\n",
    "import matplotlib\n",
    "\n",
    "matplotlib.rcParams.update({'font.size': 22})\n",
    "\n",
    "# distributions\n",
    "\n",
    "def round_decimals_down(number:float, decimals:int=1):\n",
    "    \"\"\"\n",
    "    Returns a value rounded down to a specific number of decimal places.\n",
    "    \"\"\"\n",
    "    if not isinstance(decimals, int):\n",
    "        raise TypeError(\"decimal places must be an integer\")\n",
    "    elif decimals < 0:\n",
    "        raise ValueError(\"decimal places has to be 0 or more\")\n",
    "    elif decimals == 0:\n",
    "        return math.floor(number)\n",
    "\n",
    "    factor = 10 ** decimals\n",
    "    return math.floor(number * factor) / factor\n",
    "\n",
    "profits = {}\n",
    "\n",
    "for company in companies:\n",
    "  figi = company[\"figi\"]\n",
    "  ticker = company[\"ticker\"]\n",
    "\n",
    "  profits[figi] = {}\n",
    "\n",
    "  for trade in trades[figi]:\n",
    "    key = round_decimals_down(trade['run_up'])\n",
    "    if not profits[figi].get(key):\n",
    "      profits[figi][key] = 0\n",
    "\n",
    "    profits[figi][key] += 1\n",
    "\n",
    "  print(company[\"ticker\"])\n",
    "\n",
    "  plt.figure(figsize = (60, 12), dpi = 80)\n",
    "  plt.grid()\n",
    "\n",
    "  sort = sorted(profits[figi].keys())\n",
    "  x=list(sort)\n",
    "  y=list(map(lambda x: profits[figi][x], sort))\n",
    "  plt.plot(x, y)\n",
    "  plt.show()"
   ]
  },
  {
   "cell_type": "code",
   "execution_count": 101,
   "metadata": {},
   "outputs": [
    {
     "name": "stdout",
     "output_type": "stream",
     "text": [
      "\n",
      "periods = 40\n",
      "interval = 15min\n",
      "\n",
      "\n",
      "    ticker: MRNA\n",
      "    trades: 28\n",
      "    more 0.4% : 100.0%\n",
      "    if less than 0.4% then average profit is 0%. 0 trades\n",
      "    profit: 11.2% loss: 0.0%\n",
      "\n",
      "    more 0.6% : 85.71%\n",
      "    if less than 0.6% then average profit is -0.32%. 4 trades\n",
      "    profit: 14.39% loss: -1.28%\n",
      "\n",
      "    more 0.8% : 82.14%\n",
      "    if less than 0.8% then average profit is -0.51%. 5 trades\n",
      "    profit: 18.4% loss: -2.55%\n",
      "\n",
      "    more 1% : 75.0%\n",
      "    if less than 1% then average profit is -0.26%. 7 trades\n",
      "    profit: 21.0% loss: -1.82%\n",
      "  \n"
     ]
    },
    {
     "data": {
      "application/vnd.plotly.v1+json": {
       "config": {
        "plotlyServerURL": "https://plot.ly"
       },
       "data": [
        {
         "marker": {
          "color": "green"
         },
         "name": "run up",
         "type": "bar",
         "x": [
          "02/12 17:30",
          "02/12 23:30",
          "07/12 23:15",
          "08/12 21:15",
          "09/12 16:15",
          "09/12 17:45",
          "14/12 20:00",
          "15/12 17:30",
          "16/12 17:30",
          "17/12 17:00",
          "17/12 18:15",
          "22/12 16:45",
          "23/12 17:30",
          "28/12 17:15",
          "29/12 19:00",
          "30/12 22:30",
          "04/01 20:15",
          "04/01 21:15",
          "04/01 22:15",
          "05/01 18:15",
          "05/01 19:00",
          "06/01 16:30",
          "06/01 17:45",
          "07/01 22:15",
          "10/01 18:15",
          "11/01 23:15",
          "12/01 19:45",
          "12/01 22:45"
         ],
         "y": [
          4.122396940076503,
          0.5177587969528058,
          2.209475249628216,
          1.286286638082508,
          1.5273368606701885,
          3.7187118984436647,
          2.0206441259072703,
          2.986980737166986,
          1.6679679182340794,
          2.3840627041149554,
          14.286725663716819,
          7.564006024096397,
          1.1602850986242264,
          3.5506568511815146,
          2.9591415600495203,
          1.0423297262889784,
          1.0042553191489418,
          0.4127079661235456,
          1.1201937632455359,
          0.8340611353711775,
          5.871446229913478,
          1.9417475728155416,
          3.6158722704860247,
          0.496696499695423,
          8.607844897226466,
          0.5148586396892721,
          0.620649909119123,
          0.8581184293287919
         ]
        },
        {
         "marker": {
          "color": "gray"
         },
         "name": "profit",
         "type": "bar",
         "x": [
          "02/12 17:30",
          "02/12 23:30",
          "07/12 23:15",
          "08/12 21:15",
          "09/12 16:15",
          "09/12 17:45",
          "14/12 20:00",
          "15/12 17:30",
          "16/12 17:30",
          "17/12 17:00",
          "17/12 18:15",
          "22/12 16:45",
          "23/12 17:30",
          "28/12 17:15",
          "29/12 19:00",
          "30/12 22:30",
          "04/01 20:15",
          "04/01 21:15",
          "04/01 22:15",
          "05/01 18:15",
          "05/01 19:00",
          "06/01 16:30",
          "06/01 17:45",
          "07/01 22:15",
          "10/01 18:15",
          "11/01 23:15",
          "12/01 19:45",
          "12/01 22:45"
         ],
         "y": [
          -0.8695936447742548,
          -0.6859479602941796,
          -1.9545357977480484,
          0.42876221269416265,
          1.6366843033509653,
          2.1014128953596836,
          2.3963234489550254,
          0.074497144276149,
          0.27326282915749234,
          -2.511067566586841,
          -5.943362831858414,
          5.963855421686759,
          -3.8620918282778027,
          -2.46064993695856,
          2.356582748658679,
          0,
          -1.017021276595739,
          -0.601865783930186,
          0.8087885472081677,
          1.082969432314406,
          4.9885219848137075,
          1.5487748497457339,
          -1.371213899976528,
          0.5435546600440451,
          4.878377165425009,
          -0.5193749435462044,
          -1.2856319546038948,
          -0.3189864318447208
         ]
        }
       ],
       "layout": {
        "barmode": "group",
        "template": {
         "data": {
          "bar": [
           {
            "error_x": {
             "color": "#2a3f5f"
            },
            "error_y": {
             "color": "#2a3f5f"
            },
            "marker": {
             "line": {
              "color": "#E5ECF6",
              "width": 0.5
             },
             "pattern": {
              "fillmode": "overlay",
              "size": 10,
              "solidity": 0.2
             }
            },
            "type": "bar"
           }
          ],
          "barpolar": [
           {
            "marker": {
             "line": {
              "color": "#E5ECF6",
              "width": 0.5
             },
             "pattern": {
              "fillmode": "overlay",
              "size": 10,
              "solidity": 0.2
             }
            },
            "type": "barpolar"
           }
          ],
          "carpet": [
           {
            "aaxis": {
             "endlinecolor": "#2a3f5f",
             "gridcolor": "white",
             "linecolor": "white",
             "minorgridcolor": "white",
             "startlinecolor": "#2a3f5f"
            },
            "baxis": {
             "endlinecolor": "#2a3f5f",
             "gridcolor": "white",
             "linecolor": "white",
             "minorgridcolor": "white",
             "startlinecolor": "#2a3f5f"
            },
            "type": "carpet"
           }
          ],
          "choropleth": [
           {
            "colorbar": {
             "outlinewidth": 0,
             "ticks": ""
            },
            "type": "choropleth"
           }
          ],
          "contour": [
           {
            "colorbar": {
             "outlinewidth": 0,
             "ticks": ""
            },
            "colorscale": [
             [
              0,
              "#0d0887"
             ],
             [
              0.1111111111111111,
              "#46039f"
             ],
             [
              0.2222222222222222,
              "#7201a8"
             ],
             [
              0.3333333333333333,
              "#9c179e"
             ],
             [
              0.4444444444444444,
              "#bd3786"
             ],
             [
              0.5555555555555556,
              "#d8576b"
             ],
             [
              0.6666666666666666,
              "#ed7953"
             ],
             [
              0.7777777777777778,
              "#fb9f3a"
             ],
             [
              0.8888888888888888,
              "#fdca26"
             ],
             [
              1,
              "#f0f921"
             ]
            ],
            "type": "contour"
           }
          ],
          "contourcarpet": [
           {
            "colorbar": {
             "outlinewidth": 0,
             "ticks": ""
            },
            "type": "contourcarpet"
           }
          ],
          "heatmap": [
           {
            "colorbar": {
             "outlinewidth": 0,
             "ticks": ""
            },
            "colorscale": [
             [
              0,
              "#0d0887"
             ],
             [
              0.1111111111111111,
              "#46039f"
             ],
             [
              0.2222222222222222,
              "#7201a8"
             ],
             [
              0.3333333333333333,
              "#9c179e"
             ],
             [
              0.4444444444444444,
              "#bd3786"
             ],
             [
              0.5555555555555556,
              "#d8576b"
             ],
             [
              0.6666666666666666,
              "#ed7953"
             ],
             [
              0.7777777777777778,
              "#fb9f3a"
             ],
             [
              0.8888888888888888,
              "#fdca26"
             ],
             [
              1,
              "#f0f921"
             ]
            ],
            "type": "heatmap"
           }
          ],
          "heatmapgl": [
           {
            "colorbar": {
             "outlinewidth": 0,
             "ticks": ""
            },
            "colorscale": [
             [
              0,
              "#0d0887"
             ],
             [
              0.1111111111111111,
              "#46039f"
             ],
             [
              0.2222222222222222,
              "#7201a8"
             ],
             [
              0.3333333333333333,
              "#9c179e"
             ],
             [
              0.4444444444444444,
              "#bd3786"
             ],
             [
              0.5555555555555556,
              "#d8576b"
             ],
             [
              0.6666666666666666,
              "#ed7953"
             ],
             [
              0.7777777777777778,
              "#fb9f3a"
             ],
             [
              0.8888888888888888,
              "#fdca26"
             ],
             [
              1,
              "#f0f921"
             ]
            ],
            "type": "heatmapgl"
           }
          ],
          "histogram": [
           {
            "marker": {
             "pattern": {
              "fillmode": "overlay",
              "size": 10,
              "solidity": 0.2
             }
            },
            "type": "histogram"
           }
          ],
          "histogram2d": [
           {
            "colorbar": {
             "outlinewidth": 0,
             "ticks": ""
            },
            "colorscale": [
             [
              0,
              "#0d0887"
             ],
             [
              0.1111111111111111,
              "#46039f"
             ],
             [
              0.2222222222222222,
              "#7201a8"
             ],
             [
              0.3333333333333333,
              "#9c179e"
             ],
             [
              0.4444444444444444,
              "#bd3786"
             ],
             [
              0.5555555555555556,
              "#d8576b"
             ],
             [
              0.6666666666666666,
              "#ed7953"
             ],
             [
              0.7777777777777778,
              "#fb9f3a"
             ],
             [
              0.8888888888888888,
              "#fdca26"
             ],
             [
              1,
              "#f0f921"
             ]
            ],
            "type": "histogram2d"
           }
          ],
          "histogram2dcontour": [
           {
            "colorbar": {
             "outlinewidth": 0,
             "ticks": ""
            },
            "colorscale": [
             [
              0,
              "#0d0887"
             ],
             [
              0.1111111111111111,
              "#46039f"
             ],
             [
              0.2222222222222222,
              "#7201a8"
             ],
             [
              0.3333333333333333,
              "#9c179e"
             ],
             [
              0.4444444444444444,
              "#bd3786"
             ],
             [
              0.5555555555555556,
              "#d8576b"
             ],
             [
              0.6666666666666666,
              "#ed7953"
             ],
             [
              0.7777777777777778,
              "#fb9f3a"
             ],
             [
              0.8888888888888888,
              "#fdca26"
             ],
             [
              1,
              "#f0f921"
             ]
            ],
            "type": "histogram2dcontour"
           }
          ],
          "mesh3d": [
           {
            "colorbar": {
             "outlinewidth": 0,
             "ticks": ""
            },
            "type": "mesh3d"
           }
          ],
          "parcoords": [
           {
            "line": {
             "colorbar": {
              "outlinewidth": 0,
              "ticks": ""
             }
            },
            "type": "parcoords"
           }
          ],
          "pie": [
           {
            "automargin": true,
            "type": "pie"
           }
          ],
          "scatter": [
           {
            "marker": {
             "colorbar": {
              "outlinewidth": 0,
              "ticks": ""
             }
            },
            "type": "scatter"
           }
          ],
          "scatter3d": [
           {
            "line": {
             "colorbar": {
              "outlinewidth": 0,
              "ticks": ""
             }
            },
            "marker": {
             "colorbar": {
              "outlinewidth": 0,
              "ticks": ""
             }
            },
            "type": "scatter3d"
           }
          ],
          "scattercarpet": [
           {
            "marker": {
             "colorbar": {
              "outlinewidth": 0,
              "ticks": ""
             }
            },
            "type": "scattercarpet"
           }
          ],
          "scattergeo": [
           {
            "marker": {
             "colorbar": {
              "outlinewidth": 0,
              "ticks": ""
             }
            },
            "type": "scattergeo"
           }
          ],
          "scattergl": [
           {
            "marker": {
             "colorbar": {
              "outlinewidth": 0,
              "ticks": ""
             }
            },
            "type": "scattergl"
           }
          ],
          "scattermapbox": [
           {
            "marker": {
             "colorbar": {
              "outlinewidth": 0,
              "ticks": ""
             }
            },
            "type": "scattermapbox"
           }
          ],
          "scatterpolar": [
           {
            "marker": {
             "colorbar": {
              "outlinewidth": 0,
              "ticks": ""
             }
            },
            "type": "scatterpolar"
           }
          ],
          "scatterpolargl": [
           {
            "marker": {
             "colorbar": {
              "outlinewidth": 0,
              "ticks": ""
             }
            },
            "type": "scatterpolargl"
           }
          ],
          "scatterternary": [
           {
            "marker": {
             "colorbar": {
              "outlinewidth": 0,
              "ticks": ""
             }
            },
            "type": "scatterternary"
           }
          ],
          "surface": [
           {
            "colorbar": {
             "outlinewidth": 0,
             "ticks": ""
            },
            "colorscale": [
             [
              0,
              "#0d0887"
             ],
             [
              0.1111111111111111,
              "#46039f"
             ],
             [
              0.2222222222222222,
              "#7201a8"
             ],
             [
              0.3333333333333333,
              "#9c179e"
             ],
             [
              0.4444444444444444,
              "#bd3786"
             ],
             [
              0.5555555555555556,
              "#d8576b"
             ],
             [
              0.6666666666666666,
              "#ed7953"
             ],
             [
              0.7777777777777778,
              "#fb9f3a"
             ],
             [
              0.8888888888888888,
              "#fdca26"
             ],
             [
              1,
              "#f0f921"
             ]
            ],
            "type": "surface"
           }
          ],
          "table": [
           {
            "cells": {
             "fill": {
              "color": "#EBF0F8"
             },
             "line": {
              "color": "white"
             }
            },
            "header": {
             "fill": {
              "color": "#C8D4E3"
             },
             "line": {
              "color": "white"
             }
            },
            "type": "table"
           }
          ]
         },
         "layout": {
          "annotationdefaults": {
           "arrowcolor": "#2a3f5f",
           "arrowhead": 0,
           "arrowwidth": 1
          },
          "autotypenumbers": "strict",
          "coloraxis": {
           "colorbar": {
            "outlinewidth": 0,
            "ticks": ""
           }
          },
          "colorscale": {
           "diverging": [
            [
             0,
             "#8e0152"
            ],
            [
             0.1,
             "#c51b7d"
            ],
            [
             0.2,
             "#de77ae"
            ],
            [
             0.3,
             "#f1b6da"
            ],
            [
             0.4,
             "#fde0ef"
            ],
            [
             0.5,
             "#f7f7f7"
            ],
            [
             0.6,
             "#e6f5d0"
            ],
            [
             0.7,
             "#b8e186"
            ],
            [
             0.8,
             "#7fbc41"
            ],
            [
             0.9,
             "#4d9221"
            ],
            [
             1,
             "#276419"
            ]
           ],
           "sequential": [
            [
             0,
             "#0d0887"
            ],
            [
             0.1111111111111111,
             "#46039f"
            ],
            [
             0.2222222222222222,
             "#7201a8"
            ],
            [
             0.3333333333333333,
             "#9c179e"
            ],
            [
             0.4444444444444444,
             "#bd3786"
            ],
            [
             0.5555555555555556,
             "#d8576b"
            ],
            [
             0.6666666666666666,
             "#ed7953"
            ],
            [
             0.7777777777777778,
             "#fb9f3a"
            ],
            [
             0.8888888888888888,
             "#fdca26"
            ],
            [
             1,
             "#f0f921"
            ]
           ],
           "sequentialminus": [
            [
             0,
             "#0d0887"
            ],
            [
             0.1111111111111111,
             "#46039f"
            ],
            [
             0.2222222222222222,
             "#7201a8"
            ],
            [
             0.3333333333333333,
             "#9c179e"
            ],
            [
             0.4444444444444444,
             "#bd3786"
            ],
            [
             0.5555555555555556,
             "#d8576b"
            ],
            [
             0.6666666666666666,
             "#ed7953"
            ],
            [
             0.7777777777777778,
             "#fb9f3a"
            ],
            [
             0.8888888888888888,
             "#fdca26"
            ],
            [
             1,
             "#f0f921"
            ]
           ]
          },
          "colorway": [
           "#636efa",
           "#EF553B",
           "#00cc96",
           "#ab63fa",
           "#FFA15A",
           "#19d3f3",
           "#FF6692",
           "#B6E880",
           "#FF97FF",
           "#FECB52"
          ],
          "font": {
           "color": "#2a3f5f"
          },
          "geo": {
           "bgcolor": "white",
           "lakecolor": "white",
           "landcolor": "#E5ECF6",
           "showlakes": true,
           "showland": true,
           "subunitcolor": "white"
          },
          "hoverlabel": {
           "align": "left"
          },
          "hovermode": "closest",
          "mapbox": {
           "style": "light"
          },
          "paper_bgcolor": "white",
          "plot_bgcolor": "#E5ECF6",
          "polar": {
           "angularaxis": {
            "gridcolor": "white",
            "linecolor": "white",
            "ticks": ""
           },
           "bgcolor": "#E5ECF6",
           "radialaxis": {
            "gridcolor": "white",
            "linecolor": "white",
            "ticks": ""
           }
          },
          "scene": {
           "xaxis": {
            "backgroundcolor": "#E5ECF6",
            "gridcolor": "white",
            "gridwidth": 2,
            "linecolor": "white",
            "showbackground": true,
            "ticks": "",
            "zerolinecolor": "white"
           },
           "yaxis": {
            "backgroundcolor": "#E5ECF6",
            "gridcolor": "white",
            "gridwidth": 2,
            "linecolor": "white",
            "showbackground": true,
            "ticks": "",
            "zerolinecolor": "white"
           },
           "zaxis": {
            "backgroundcolor": "#E5ECF6",
            "gridcolor": "white",
            "gridwidth": 2,
            "linecolor": "white",
            "showbackground": true,
            "ticks": "",
            "zerolinecolor": "white"
           }
          },
          "shapedefaults": {
           "line": {
            "color": "#2a3f5f"
           }
          },
          "ternary": {
           "aaxis": {
            "gridcolor": "white",
            "linecolor": "white",
            "ticks": ""
           },
           "baxis": {
            "gridcolor": "white",
            "linecolor": "white",
            "ticks": ""
           },
           "bgcolor": "#E5ECF6",
           "caxis": {
            "gridcolor": "white",
            "linecolor": "white",
            "ticks": ""
           }
          },
          "title": {
           "x": 0.05
          },
          "xaxis": {
           "automargin": true,
           "gridcolor": "white",
           "linecolor": "white",
           "ticks": "",
           "title": {
            "standoff": 15
           },
           "zerolinecolor": "white",
           "zerolinewidth": 2
          },
          "yaxis": {
           "automargin": true,
           "gridcolor": "white",
           "linecolor": "white",
           "ticks": "",
           "title": {
            "standoff": 15
           },
           "zerolinecolor": "white",
           "zerolinewidth": 2
          }
         }
        }
       }
      }
     },
     "metadata": {},
     "output_type": "display_data"
    },
    {
     "name": "stdout",
     "output_type": "stream",
     "text": [
      "\n",
      "    ticker: TSLA\n",
      "    trades: 26\n",
      "    more 0.4% : 84.61%\n",
      "    if less than 0.4% then average profit is -1.12%. 4 trades\n",
      "    profit: 8.8% loss: -4.49%\n",
      "\n",
      "    more 0.6% : 76.92%\n",
      "    if less than 0.6% then average profit is -0.74%. 6 trades\n",
      "    profit: 12.0% loss: -4.44%\n",
      "\n",
      "    more 0.8% : 73.07%\n",
      "    if less than 0.8% then average profit is -0.66%. 7 trades\n",
      "    profit: 15.2% loss: -4.62%\n",
      "\n",
      "    more 1% : 69.23%\n",
      "    if less than 1% then average profit is -1.47%. 8 trades\n",
      "    profit: 18.0% loss: -11.76%\n",
      "  \n"
     ]
    },
    {
     "data": {
      "application/vnd.plotly.v1+json": {
       "config": {
        "plotlyServerURL": "https://plot.ly"
       },
       "data": [
        {
         "marker": {
          "color": "green"
         },
         "name": "run up",
         "type": "bar",
         "x": [
          "02/12 18:00",
          "03/12 17:30",
          "06/12 21:15",
          "07/12 19:00",
          "07/12 22:15",
          "09/12 17:30",
          "13/12 17:00",
          "14/12 17:00",
          "14/12 20:45",
          "14/12 21:30",
          "15/12 19:00",
          "15/12 23:00",
          "17/12 17:45",
          "17/12 23:45",
          "20/12 19:15",
          "21/12 17:45",
          "22/12 23:45",
          "30/12 19:15",
          "31/12 23:00",
          "05/01 17:00",
          "06/01 17:45",
          "06/01 22:45",
          "07/01 18:15",
          "11/01 16:15",
          "12/01 22:45",
          "13/01 18:15"
         ],
         "y": [
          1.9587829750118424,
          6.434985968194571,
          4.1384150078083195,
          0.3918753758705612,
          2.2994611823632094,
          7.276447913196597,
          5.948932889156895,
          0.7530184734843579,
          0.4346615849088865,
          0.15961777434974603,
          1.3894790515849451,
          5.508105642854179,
          2.2893041580152262,
          2.916791958417454,
          0.5956540547735522,
          1.9723233150075816,
          1.0877325189386455,
          1.3338143204669344,
          0.8518079765329672,
          2.049108855638101,
          2.660269556176623,
          1.3827711179258535,
          3.807691575077622,
          2.4518043439475012,
          0.13472973215729248,
          0
         ]
        },
        {
         "marker": {
          "color": "gray"
         },
         "name": "profit",
         "type": "bar",
         "x": [
          "02/12 18:00",
          "03/12 17:30",
          "06/12 21:15",
          "07/12 19:00",
          "07/12 22:15",
          "09/12 17:30",
          "13/12 17:00",
          "14/12 17:00",
          "14/12 20:45",
          "14/12 21:30",
          "15/12 19:00",
          "15/12 23:00",
          "17/12 17:45",
          "17/12 23:45",
          "20/12 19:15",
          "21/12 17:45",
          "22/12 23:45",
          "30/12 19:15",
          "31/12 23:00",
          "05/01 17:00",
          "06/01 17:45",
          "06/01 22:45",
          "07/01 18:15",
          "11/01 16:15",
          "12/01 22:45",
          "13/01 18:15"
         ],
         "y": [
          -0.10114038099302392,
          5.7165575304022465,
          2.1645877399331934,
          -1.4142433119289122,
          0.17359793579721552,
          3.486413172797802,
          4.533367602139166,
          -0.14505738299415652,
          0.062094512129833974,
          -1.9089857308137226,
          -2.485765275771222,
          3.5801650151332933,
          -0.3918436884416706,
          1.9287770093216978,
          -0.01220147970672231,
          -3.4280594241214155,
          -5.912624439773143,
          -1.055396768136439,
          -7.181136120042884,
          -5.275365351749155,
          -1.750302845315189,
          -0.5919524207787279,
          2.2390902683860636,
          -0.0535246448123291,
          -1.1514901108376538,
          0
         ]
        }
       ],
       "layout": {
        "barmode": "group",
        "template": {
         "data": {
          "bar": [
           {
            "error_x": {
             "color": "#2a3f5f"
            },
            "error_y": {
             "color": "#2a3f5f"
            },
            "marker": {
             "line": {
              "color": "#E5ECF6",
              "width": 0.5
             },
             "pattern": {
              "fillmode": "overlay",
              "size": 10,
              "solidity": 0.2
             }
            },
            "type": "bar"
           }
          ],
          "barpolar": [
           {
            "marker": {
             "line": {
              "color": "#E5ECF6",
              "width": 0.5
             },
             "pattern": {
              "fillmode": "overlay",
              "size": 10,
              "solidity": 0.2
             }
            },
            "type": "barpolar"
           }
          ],
          "carpet": [
           {
            "aaxis": {
             "endlinecolor": "#2a3f5f",
             "gridcolor": "white",
             "linecolor": "white",
             "minorgridcolor": "white",
             "startlinecolor": "#2a3f5f"
            },
            "baxis": {
             "endlinecolor": "#2a3f5f",
             "gridcolor": "white",
             "linecolor": "white",
             "minorgridcolor": "white",
             "startlinecolor": "#2a3f5f"
            },
            "type": "carpet"
           }
          ],
          "choropleth": [
           {
            "colorbar": {
             "outlinewidth": 0,
             "ticks": ""
            },
            "type": "choropleth"
           }
          ],
          "contour": [
           {
            "colorbar": {
             "outlinewidth": 0,
             "ticks": ""
            },
            "colorscale": [
             [
              0,
              "#0d0887"
             ],
             [
              0.1111111111111111,
              "#46039f"
             ],
             [
              0.2222222222222222,
              "#7201a8"
             ],
             [
              0.3333333333333333,
              "#9c179e"
             ],
             [
              0.4444444444444444,
              "#bd3786"
             ],
             [
              0.5555555555555556,
              "#d8576b"
             ],
             [
              0.6666666666666666,
              "#ed7953"
             ],
             [
              0.7777777777777778,
              "#fb9f3a"
             ],
             [
              0.8888888888888888,
              "#fdca26"
             ],
             [
              1,
              "#f0f921"
             ]
            ],
            "type": "contour"
           }
          ],
          "contourcarpet": [
           {
            "colorbar": {
             "outlinewidth": 0,
             "ticks": ""
            },
            "type": "contourcarpet"
           }
          ],
          "heatmap": [
           {
            "colorbar": {
             "outlinewidth": 0,
             "ticks": ""
            },
            "colorscale": [
             [
              0,
              "#0d0887"
             ],
             [
              0.1111111111111111,
              "#46039f"
             ],
             [
              0.2222222222222222,
              "#7201a8"
             ],
             [
              0.3333333333333333,
              "#9c179e"
             ],
             [
              0.4444444444444444,
              "#bd3786"
             ],
             [
              0.5555555555555556,
              "#d8576b"
             ],
             [
              0.6666666666666666,
              "#ed7953"
             ],
             [
              0.7777777777777778,
              "#fb9f3a"
             ],
             [
              0.8888888888888888,
              "#fdca26"
             ],
             [
              1,
              "#f0f921"
             ]
            ],
            "type": "heatmap"
           }
          ],
          "heatmapgl": [
           {
            "colorbar": {
             "outlinewidth": 0,
             "ticks": ""
            },
            "colorscale": [
             [
              0,
              "#0d0887"
             ],
             [
              0.1111111111111111,
              "#46039f"
             ],
             [
              0.2222222222222222,
              "#7201a8"
             ],
             [
              0.3333333333333333,
              "#9c179e"
             ],
             [
              0.4444444444444444,
              "#bd3786"
             ],
             [
              0.5555555555555556,
              "#d8576b"
             ],
             [
              0.6666666666666666,
              "#ed7953"
             ],
             [
              0.7777777777777778,
              "#fb9f3a"
             ],
             [
              0.8888888888888888,
              "#fdca26"
             ],
             [
              1,
              "#f0f921"
             ]
            ],
            "type": "heatmapgl"
           }
          ],
          "histogram": [
           {
            "marker": {
             "pattern": {
              "fillmode": "overlay",
              "size": 10,
              "solidity": 0.2
             }
            },
            "type": "histogram"
           }
          ],
          "histogram2d": [
           {
            "colorbar": {
             "outlinewidth": 0,
             "ticks": ""
            },
            "colorscale": [
             [
              0,
              "#0d0887"
             ],
             [
              0.1111111111111111,
              "#46039f"
             ],
             [
              0.2222222222222222,
              "#7201a8"
             ],
             [
              0.3333333333333333,
              "#9c179e"
             ],
             [
              0.4444444444444444,
              "#bd3786"
             ],
             [
              0.5555555555555556,
              "#d8576b"
             ],
             [
              0.6666666666666666,
              "#ed7953"
             ],
             [
              0.7777777777777778,
              "#fb9f3a"
             ],
             [
              0.8888888888888888,
              "#fdca26"
             ],
             [
              1,
              "#f0f921"
             ]
            ],
            "type": "histogram2d"
           }
          ],
          "histogram2dcontour": [
           {
            "colorbar": {
             "outlinewidth": 0,
             "ticks": ""
            },
            "colorscale": [
             [
              0,
              "#0d0887"
             ],
             [
              0.1111111111111111,
              "#46039f"
             ],
             [
              0.2222222222222222,
              "#7201a8"
             ],
             [
              0.3333333333333333,
              "#9c179e"
             ],
             [
              0.4444444444444444,
              "#bd3786"
             ],
             [
              0.5555555555555556,
              "#d8576b"
             ],
             [
              0.6666666666666666,
              "#ed7953"
             ],
             [
              0.7777777777777778,
              "#fb9f3a"
             ],
             [
              0.8888888888888888,
              "#fdca26"
             ],
             [
              1,
              "#f0f921"
             ]
            ],
            "type": "histogram2dcontour"
           }
          ],
          "mesh3d": [
           {
            "colorbar": {
             "outlinewidth": 0,
             "ticks": ""
            },
            "type": "mesh3d"
           }
          ],
          "parcoords": [
           {
            "line": {
             "colorbar": {
              "outlinewidth": 0,
              "ticks": ""
             }
            },
            "type": "parcoords"
           }
          ],
          "pie": [
           {
            "automargin": true,
            "type": "pie"
           }
          ],
          "scatter": [
           {
            "marker": {
             "colorbar": {
              "outlinewidth": 0,
              "ticks": ""
             }
            },
            "type": "scatter"
           }
          ],
          "scatter3d": [
           {
            "line": {
             "colorbar": {
              "outlinewidth": 0,
              "ticks": ""
             }
            },
            "marker": {
             "colorbar": {
              "outlinewidth": 0,
              "ticks": ""
             }
            },
            "type": "scatter3d"
           }
          ],
          "scattercarpet": [
           {
            "marker": {
             "colorbar": {
              "outlinewidth": 0,
              "ticks": ""
             }
            },
            "type": "scattercarpet"
           }
          ],
          "scattergeo": [
           {
            "marker": {
             "colorbar": {
              "outlinewidth": 0,
              "ticks": ""
             }
            },
            "type": "scattergeo"
           }
          ],
          "scattergl": [
           {
            "marker": {
             "colorbar": {
              "outlinewidth": 0,
              "ticks": ""
             }
            },
            "type": "scattergl"
           }
          ],
          "scattermapbox": [
           {
            "marker": {
             "colorbar": {
              "outlinewidth": 0,
              "ticks": ""
             }
            },
            "type": "scattermapbox"
           }
          ],
          "scatterpolar": [
           {
            "marker": {
             "colorbar": {
              "outlinewidth": 0,
              "ticks": ""
             }
            },
            "type": "scatterpolar"
           }
          ],
          "scatterpolargl": [
           {
            "marker": {
             "colorbar": {
              "outlinewidth": 0,
              "ticks": ""
             }
            },
            "type": "scatterpolargl"
           }
          ],
          "scatterternary": [
           {
            "marker": {
             "colorbar": {
              "outlinewidth": 0,
              "ticks": ""
             }
            },
            "type": "scatterternary"
           }
          ],
          "surface": [
           {
            "colorbar": {
             "outlinewidth": 0,
             "ticks": ""
            },
            "colorscale": [
             [
              0,
              "#0d0887"
             ],
             [
              0.1111111111111111,
              "#46039f"
             ],
             [
              0.2222222222222222,
              "#7201a8"
             ],
             [
              0.3333333333333333,
              "#9c179e"
             ],
             [
              0.4444444444444444,
              "#bd3786"
             ],
             [
              0.5555555555555556,
              "#d8576b"
             ],
             [
              0.6666666666666666,
              "#ed7953"
             ],
             [
              0.7777777777777778,
              "#fb9f3a"
             ],
             [
              0.8888888888888888,
              "#fdca26"
             ],
             [
              1,
              "#f0f921"
             ]
            ],
            "type": "surface"
           }
          ],
          "table": [
           {
            "cells": {
             "fill": {
              "color": "#EBF0F8"
             },
             "line": {
              "color": "white"
             }
            },
            "header": {
             "fill": {
              "color": "#C8D4E3"
             },
             "line": {
              "color": "white"
             }
            },
            "type": "table"
           }
          ]
         },
         "layout": {
          "annotationdefaults": {
           "arrowcolor": "#2a3f5f",
           "arrowhead": 0,
           "arrowwidth": 1
          },
          "autotypenumbers": "strict",
          "coloraxis": {
           "colorbar": {
            "outlinewidth": 0,
            "ticks": ""
           }
          },
          "colorscale": {
           "diverging": [
            [
             0,
             "#8e0152"
            ],
            [
             0.1,
             "#c51b7d"
            ],
            [
             0.2,
             "#de77ae"
            ],
            [
             0.3,
             "#f1b6da"
            ],
            [
             0.4,
             "#fde0ef"
            ],
            [
             0.5,
             "#f7f7f7"
            ],
            [
             0.6,
             "#e6f5d0"
            ],
            [
             0.7,
             "#b8e186"
            ],
            [
             0.8,
             "#7fbc41"
            ],
            [
             0.9,
             "#4d9221"
            ],
            [
             1,
             "#276419"
            ]
           ],
           "sequential": [
            [
             0,
             "#0d0887"
            ],
            [
             0.1111111111111111,
             "#46039f"
            ],
            [
             0.2222222222222222,
             "#7201a8"
            ],
            [
             0.3333333333333333,
             "#9c179e"
            ],
            [
             0.4444444444444444,
             "#bd3786"
            ],
            [
             0.5555555555555556,
             "#d8576b"
            ],
            [
             0.6666666666666666,
             "#ed7953"
            ],
            [
             0.7777777777777778,
             "#fb9f3a"
            ],
            [
             0.8888888888888888,
             "#fdca26"
            ],
            [
             1,
             "#f0f921"
            ]
           ],
           "sequentialminus": [
            [
             0,
             "#0d0887"
            ],
            [
             0.1111111111111111,
             "#46039f"
            ],
            [
             0.2222222222222222,
             "#7201a8"
            ],
            [
             0.3333333333333333,
             "#9c179e"
            ],
            [
             0.4444444444444444,
             "#bd3786"
            ],
            [
             0.5555555555555556,
             "#d8576b"
            ],
            [
             0.6666666666666666,
             "#ed7953"
            ],
            [
             0.7777777777777778,
             "#fb9f3a"
            ],
            [
             0.8888888888888888,
             "#fdca26"
            ],
            [
             1,
             "#f0f921"
            ]
           ]
          },
          "colorway": [
           "#636efa",
           "#EF553B",
           "#00cc96",
           "#ab63fa",
           "#FFA15A",
           "#19d3f3",
           "#FF6692",
           "#B6E880",
           "#FF97FF",
           "#FECB52"
          ],
          "font": {
           "color": "#2a3f5f"
          },
          "geo": {
           "bgcolor": "white",
           "lakecolor": "white",
           "landcolor": "#E5ECF6",
           "showlakes": true,
           "showland": true,
           "subunitcolor": "white"
          },
          "hoverlabel": {
           "align": "left"
          },
          "hovermode": "closest",
          "mapbox": {
           "style": "light"
          },
          "paper_bgcolor": "white",
          "plot_bgcolor": "#E5ECF6",
          "polar": {
           "angularaxis": {
            "gridcolor": "white",
            "linecolor": "white",
            "ticks": ""
           },
           "bgcolor": "#E5ECF6",
           "radialaxis": {
            "gridcolor": "white",
            "linecolor": "white",
            "ticks": ""
           }
          },
          "scene": {
           "xaxis": {
            "backgroundcolor": "#E5ECF6",
            "gridcolor": "white",
            "gridwidth": 2,
            "linecolor": "white",
            "showbackground": true,
            "ticks": "",
            "zerolinecolor": "white"
           },
           "yaxis": {
            "backgroundcolor": "#E5ECF6",
            "gridcolor": "white",
            "gridwidth": 2,
            "linecolor": "white",
            "showbackground": true,
            "ticks": "",
            "zerolinecolor": "white"
           },
           "zaxis": {
            "backgroundcolor": "#E5ECF6",
            "gridcolor": "white",
            "gridwidth": 2,
            "linecolor": "white",
            "showbackground": true,
            "ticks": "",
            "zerolinecolor": "white"
           }
          },
          "shapedefaults": {
           "line": {
            "color": "#2a3f5f"
           }
          },
          "ternary": {
           "aaxis": {
            "gridcolor": "white",
            "linecolor": "white",
            "ticks": ""
           },
           "baxis": {
            "gridcolor": "white",
            "linecolor": "white",
            "ticks": ""
           },
           "bgcolor": "#E5ECF6",
           "caxis": {
            "gridcolor": "white",
            "linecolor": "white",
            "ticks": ""
           }
          },
          "title": {
           "x": 0.05
          },
          "xaxis": {
           "automargin": true,
           "gridcolor": "white",
           "linecolor": "white",
           "ticks": "",
           "title": {
            "standoff": 15
           },
           "zerolinecolor": "white",
           "zerolinewidth": 2
          },
          "yaxis": {
           "automargin": true,
           "gridcolor": "white",
           "linecolor": "white",
           "ticks": "",
           "title": {
            "standoff": 15
           },
           "zerolinecolor": "white",
           "zerolinewidth": 2
          }
         }
        }
       }
      }
     },
     "metadata": {},
     "output_type": "display_data"
    },
    {
     "name": "stdout",
     "output_type": "stream",
     "text": [
      "\n",
      "    ticker: NVDA\n",
      "    trades: 24\n",
      "    more 0.4% : 66.66%\n",
      "    if less than 0.4% then average profit is -1.16%. 8 trades\n",
      "    profit: 6.4% loss: -9.28%\n",
      "\n",
      "    more 0.6% : 54.16%\n",
      "    if less than 0.6% then average profit is -1.11%. 11 trades\n",
      "    profit: 7.8% loss: -12.21%\n",
      "\n",
      "    more 0.8% : 54.16%\n",
      "    if less than 0.8% then average profit is -1.11%. 11 trades\n",
      "    profit: 10.4% loss: -12.21%\n",
      "\n",
      "    more 1% : 54.16%\n",
      "    if less than 1% then average profit is -1.11%. 11 trades\n",
      "    profit: 13.0% loss: -12.21%\n",
      "  \n"
     ]
    },
    {
     "data": {
      "application/vnd.plotly.v1+json": {
       "config": {
        "plotlyServerURL": "https://plot.ly"
       },
       "data": [
        {
         "marker": {
          "color": "green"
         },
         "name": "run up",
         "type": "bar",
         "x": [
          "03/12 17:00",
          "06/12 17:30",
          "07/12 17:30",
          "09/12 17:30",
          "09/12 20:30",
          "15/12 18:30",
          "15/12 22:45",
          "17/12 17:45",
          "17/12 23:30",
          "22/12 19:30",
          "23/12 19:45",
          "28/12 17:30",
          "29/12 22:45",
          "30/12 16:15",
          "03/01 22:45",
          "04/01 17:30",
          "04/01 23:30",
          "05/01 19:30",
          "06/01 19:00",
          "06/01 22:30",
          "07/01 18:00",
          "09/01 17:45",
          "11/01 16:45",
          "13/01 18:00"
         ],
         "y": [
          0.23676750054518547,
          1.9307450157397628,
          0.09126764236123391,
          0.5118761509410363,
          2.9262208577185,
          1.6549283558269372,
          7.608211384900095,
          1.6695310581880645,
          1.2169519268405364,
          0.3567181926278085,
          0.08675342008675038,
          4.276401564537159,
          0.13306719893545482,
          2.247492536312096,
          0.44158172582090516,
          6.129139072847679,
          0.544147843942516,
          4.971560985885811,
          0.37111653059060945,
          1.0092782774984146,
          2.7076591154261163,
          0.2379644883763417,
          1.8072729933416252,
          0
         ]
        },
        {
         "marker": {
          "color": "gray"
         },
         "name": "profit",
         "type": "bar",
         "x": [
          "03/12 17:00",
          "06/12 17:30",
          "07/12 17:30",
          "09/12 17:30",
          "09/12 20:30",
          "15/12 18:30",
          "15/12 22:45",
          "17/12 17:45",
          "17/12 23:30",
          "22/12 19:30",
          "23/12 19:45",
          "28/12 17:30",
          "29/12 22:45",
          "30/12 16:15",
          "03/01 22:45",
          "04/01 17:30",
          "04/01 23:30",
          "05/01 19:30",
          "06/01 19:00",
          "06/01 22:30",
          "07/01 18:00",
          "09/01 17:45",
          "11/01 16:45",
          "13/01 18:00"
         ],
         "y": [
          -4.367737312688863,
          -7.306750612102149,
          -3.3214902702174114,
          -1.913293173944254,
          2.238638907544213,
          0.6002151059917292,
          -2.7142808183967975,
          -1.2556557118305358,
          0.6689677258655644,
          -0.03737047732291953,
          -1.2078745412078762,
          2.4087353324641416,
          -0.5422488356620078,
          1.0231122739928251,
          -0.5976294033666495,
          3.245033112582785,
          -0.34565366187542473,
          2.1733024366266407,
          -0.19439437316651165,
          -0.07082654578935783,
          2.074793239841797,
          0.4210140948196879,
          -2.1914099656105983,
          0
         ]
        }
       ],
       "layout": {
        "barmode": "group",
        "template": {
         "data": {
          "bar": [
           {
            "error_x": {
             "color": "#2a3f5f"
            },
            "error_y": {
             "color": "#2a3f5f"
            },
            "marker": {
             "line": {
              "color": "#E5ECF6",
              "width": 0.5
             },
             "pattern": {
              "fillmode": "overlay",
              "size": 10,
              "solidity": 0.2
             }
            },
            "type": "bar"
           }
          ],
          "barpolar": [
           {
            "marker": {
             "line": {
              "color": "#E5ECF6",
              "width": 0.5
             },
             "pattern": {
              "fillmode": "overlay",
              "size": 10,
              "solidity": 0.2
             }
            },
            "type": "barpolar"
           }
          ],
          "carpet": [
           {
            "aaxis": {
             "endlinecolor": "#2a3f5f",
             "gridcolor": "white",
             "linecolor": "white",
             "minorgridcolor": "white",
             "startlinecolor": "#2a3f5f"
            },
            "baxis": {
             "endlinecolor": "#2a3f5f",
             "gridcolor": "white",
             "linecolor": "white",
             "minorgridcolor": "white",
             "startlinecolor": "#2a3f5f"
            },
            "type": "carpet"
           }
          ],
          "choropleth": [
           {
            "colorbar": {
             "outlinewidth": 0,
             "ticks": ""
            },
            "type": "choropleth"
           }
          ],
          "contour": [
           {
            "colorbar": {
             "outlinewidth": 0,
             "ticks": ""
            },
            "colorscale": [
             [
              0,
              "#0d0887"
             ],
             [
              0.1111111111111111,
              "#46039f"
             ],
             [
              0.2222222222222222,
              "#7201a8"
             ],
             [
              0.3333333333333333,
              "#9c179e"
             ],
             [
              0.4444444444444444,
              "#bd3786"
             ],
             [
              0.5555555555555556,
              "#d8576b"
             ],
             [
              0.6666666666666666,
              "#ed7953"
             ],
             [
              0.7777777777777778,
              "#fb9f3a"
             ],
             [
              0.8888888888888888,
              "#fdca26"
             ],
             [
              1,
              "#f0f921"
             ]
            ],
            "type": "contour"
           }
          ],
          "contourcarpet": [
           {
            "colorbar": {
             "outlinewidth": 0,
             "ticks": ""
            },
            "type": "contourcarpet"
           }
          ],
          "heatmap": [
           {
            "colorbar": {
             "outlinewidth": 0,
             "ticks": ""
            },
            "colorscale": [
             [
              0,
              "#0d0887"
             ],
             [
              0.1111111111111111,
              "#46039f"
             ],
             [
              0.2222222222222222,
              "#7201a8"
             ],
             [
              0.3333333333333333,
              "#9c179e"
             ],
             [
              0.4444444444444444,
              "#bd3786"
             ],
             [
              0.5555555555555556,
              "#d8576b"
             ],
             [
              0.6666666666666666,
              "#ed7953"
             ],
             [
              0.7777777777777778,
              "#fb9f3a"
             ],
             [
              0.8888888888888888,
              "#fdca26"
             ],
             [
              1,
              "#f0f921"
             ]
            ],
            "type": "heatmap"
           }
          ],
          "heatmapgl": [
           {
            "colorbar": {
             "outlinewidth": 0,
             "ticks": ""
            },
            "colorscale": [
             [
              0,
              "#0d0887"
             ],
             [
              0.1111111111111111,
              "#46039f"
             ],
             [
              0.2222222222222222,
              "#7201a8"
             ],
             [
              0.3333333333333333,
              "#9c179e"
             ],
             [
              0.4444444444444444,
              "#bd3786"
             ],
             [
              0.5555555555555556,
              "#d8576b"
             ],
             [
              0.6666666666666666,
              "#ed7953"
             ],
             [
              0.7777777777777778,
              "#fb9f3a"
             ],
             [
              0.8888888888888888,
              "#fdca26"
             ],
             [
              1,
              "#f0f921"
             ]
            ],
            "type": "heatmapgl"
           }
          ],
          "histogram": [
           {
            "marker": {
             "pattern": {
              "fillmode": "overlay",
              "size": 10,
              "solidity": 0.2
             }
            },
            "type": "histogram"
           }
          ],
          "histogram2d": [
           {
            "colorbar": {
             "outlinewidth": 0,
             "ticks": ""
            },
            "colorscale": [
             [
              0,
              "#0d0887"
             ],
             [
              0.1111111111111111,
              "#46039f"
             ],
             [
              0.2222222222222222,
              "#7201a8"
             ],
             [
              0.3333333333333333,
              "#9c179e"
             ],
             [
              0.4444444444444444,
              "#bd3786"
             ],
             [
              0.5555555555555556,
              "#d8576b"
             ],
             [
              0.6666666666666666,
              "#ed7953"
             ],
             [
              0.7777777777777778,
              "#fb9f3a"
             ],
             [
              0.8888888888888888,
              "#fdca26"
             ],
             [
              1,
              "#f0f921"
             ]
            ],
            "type": "histogram2d"
           }
          ],
          "histogram2dcontour": [
           {
            "colorbar": {
             "outlinewidth": 0,
             "ticks": ""
            },
            "colorscale": [
             [
              0,
              "#0d0887"
             ],
             [
              0.1111111111111111,
              "#46039f"
             ],
             [
              0.2222222222222222,
              "#7201a8"
             ],
             [
              0.3333333333333333,
              "#9c179e"
             ],
             [
              0.4444444444444444,
              "#bd3786"
             ],
             [
              0.5555555555555556,
              "#d8576b"
             ],
             [
              0.6666666666666666,
              "#ed7953"
             ],
             [
              0.7777777777777778,
              "#fb9f3a"
             ],
             [
              0.8888888888888888,
              "#fdca26"
             ],
             [
              1,
              "#f0f921"
             ]
            ],
            "type": "histogram2dcontour"
           }
          ],
          "mesh3d": [
           {
            "colorbar": {
             "outlinewidth": 0,
             "ticks": ""
            },
            "type": "mesh3d"
           }
          ],
          "parcoords": [
           {
            "line": {
             "colorbar": {
              "outlinewidth": 0,
              "ticks": ""
             }
            },
            "type": "parcoords"
           }
          ],
          "pie": [
           {
            "automargin": true,
            "type": "pie"
           }
          ],
          "scatter": [
           {
            "marker": {
             "colorbar": {
              "outlinewidth": 0,
              "ticks": ""
             }
            },
            "type": "scatter"
           }
          ],
          "scatter3d": [
           {
            "line": {
             "colorbar": {
              "outlinewidth": 0,
              "ticks": ""
             }
            },
            "marker": {
             "colorbar": {
              "outlinewidth": 0,
              "ticks": ""
             }
            },
            "type": "scatter3d"
           }
          ],
          "scattercarpet": [
           {
            "marker": {
             "colorbar": {
              "outlinewidth": 0,
              "ticks": ""
             }
            },
            "type": "scattercarpet"
           }
          ],
          "scattergeo": [
           {
            "marker": {
             "colorbar": {
              "outlinewidth": 0,
              "ticks": ""
             }
            },
            "type": "scattergeo"
           }
          ],
          "scattergl": [
           {
            "marker": {
             "colorbar": {
              "outlinewidth": 0,
              "ticks": ""
             }
            },
            "type": "scattergl"
           }
          ],
          "scattermapbox": [
           {
            "marker": {
             "colorbar": {
              "outlinewidth": 0,
              "ticks": ""
             }
            },
            "type": "scattermapbox"
           }
          ],
          "scatterpolar": [
           {
            "marker": {
             "colorbar": {
              "outlinewidth": 0,
              "ticks": ""
             }
            },
            "type": "scatterpolar"
           }
          ],
          "scatterpolargl": [
           {
            "marker": {
             "colorbar": {
              "outlinewidth": 0,
              "ticks": ""
             }
            },
            "type": "scatterpolargl"
           }
          ],
          "scatterternary": [
           {
            "marker": {
             "colorbar": {
              "outlinewidth": 0,
              "ticks": ""
             }
            },
            "type": "scatterternary"
           }
          ],
          "surface": [
           {
            "colorbar": {
             "outlinewidth": 0,
             "ticks": ""
            },
            "colorscale": [
             [
              0,
              "#0d0887"
             ],
             [
              0.1111111111111111,
              "#46039f"
             ],
             [
              0.2222222222222222,
              "#7201a8"
             ],
             [
              0.3333333333333333,
              "#9c179e"
             ],
             [
              0.4444444444444444,
              "#bd3786"
             ],
             [
              0.5555555555555556,
              "#d8576b"
             ],
             [
              0.6666666666666666,
              "#ed7953"
             ],
             [
              0.7777777777777778,
              "#fb9f3a"
             ],
             [
              0.8888888888888888,
              "#fdca26"
             ],
             [
              1,
              "#f0f921"
             ]
            ],
            "type": "surface"
           }
          ],
          "table": [
           {
            "cells": {
             "fill": {
              "color": "#EBF0F8"
             },
             "line": {
              "color": "white"
             }
            },
            "header": {
             "fill": {
              "color": "#C8D4E3"
             },
             "line": {
              "color": "white"
             }
            },
            "type": "table"
           }
          ]
         },
         "layout": {
          "annotationdefaults": {
           "arrowcolor": "#2a3f5f",
           "arrowhead": 0,
           "arrowwidth": 1
          },
          "autotypenumbers": "strict",
          "coloraxis": {
           "colorbar": {
            "outlinewidth": 0,
            "ticks": ""
           }
          },
          "colorscale": {
           "diverging": [
            [
             0,
             "#8e0152"
            ],
            [
             0.1,
             "#c51b7d"
            ],
            [
             0.2,
             "#de77ae"
            ],
            [
             0.3,
             "#f1b6da"
            ],
            [
             0.4,
             "#fde0ef"
            ],
            [
             0.5,
             "#f7f7f7"
            ],
            [
             0.6,
             "#e6f5d0"
            ],
            [
             0.7,
             "#b8e186"
            ],
            [
             0.8,
             "#7fbc41"
            ],
            [
             0.9,
             "#4d9221"
            ],
            [
             1,
             "#276419"
            ]
           ],
           "sequential": [
            [
             0,
             "#0d0887"
            ],
            [
             0.1111111111111111,
             "#46039f"
            ],
            [
             0.2222222222222222,
             "#7201a8"
            ],
            [
             0.3333333333333333,
             "#9c179e"
            ],
            [
             0.4444444444444444,
             "#bd3786"
            ],
            [
             0.5555555555555556,
             "#d8576b"
            ],
            [
             0.6666666666666666,
             "#ed7953"
            ],
            [
             0.7777777777777778,
             "#fb9f3a"
            ],
            [
             0.8888888888888888,
             "#fdca26"
            ],
            [
             1,
             "#f0f921"
            ]
           ],
           "sequentialminus": [
            [
             0,
             "#0d0887"
            ],
            [
             0.1111111111111111,
             "#46039f"
            ],
            [
             0.2222222222222222,
             "#7201a8"
            ],
            [
             0.3333333333333333,
             "#9c179e"
            ],
            [
             0.4444444444444444,
             "#bd3786"
            ],
            [
             0.5555555555555556,
             "#d8576b"
            ],
            [
             0.6666666666666666,
             "#ed7953"
            ],
            [
             0.7777777777777778,
             "#fb9f3a"
            ],
            [
             0.8888888888888888,
             "#fdca26"
            ],
            [
             1,
             "#f0f921"
            ]
           ]
          },
          "colorway": [
           "#636efa",
           "#EF553B",
           "#00cc96",
           "#ab63fa",
           "#FFA15A",
           "#19d3f3",
           "#FF6692",
           "#B6E880",
           "#FF97FF",
           "#FECB52"
          ],
          "font": {
           "color": "#2a3f5f"
          },
          "geo": {
           "bgcolor": "white",
           "lakecolor": "white",
           "landcolor": "#E5ECF6",
           "showlakes": true,
           "showland": true,
           "subunitcolor": "white"
          },
          "hoverlabel": {
           "align": "left"
          },
          "hovermode": "closest",
          "mapbox": {
           "style": "light"
          },
          "paper_bgcolor": "white",
          "plot_bgcolor": "#E5ECF6",
          "polar": {
           "angularaxis": {
            "gridcolor": "white",
            "linecolor": "white",
            "ticks": ""
           },
           "bgcolor": "#E5ECF6",
           "radialaxis": {
            "gridcolor": "white",
            "linecolor": "white",
            "ticks": ""
           }
          },
          "scene": {
           "xaxis": {
            "backgroundcolor": "#E5ECF6",
            "gridcolor": "white",
            "gridwidth": 2,
            "linecolor": "white",
            "showbackground": true,
            "ticks": "",
            "zerolinecolor": "white"
           },
           "yaxis": {
            "backgroundcolor": "#E5ECF6",
            "gridcolor": "white",
            "gridwidth": 2,
            "linecolor": "white",
            "showbackground": true,
            "ticks": "",
            "zerolinecolor": "white"
           },
           "zaxis": {
            "backgroundcolor": "#E5ECF6",
            "gridcolor": "white",
            "gridwidth": 2,
            "linecolor": "white",
            "showbackground": true,
            "ticks": "",
            "zerolinecolor": "white"
           }
          },
          "shapedefaults": {
           "line": {
            "color": "#2a3f5f"
           }
          },
          "ternary": {
           "aaxis": {
            "gridcolor": "white",
            "linecolor": "white",
            "ticks": ""
           },
           "baxis": {
            "gridcolor": "white",
            "linecolor": "white",
            "ticks": ""
           },
           "bgcolor": "#E5ECF6",
           "caxis": {
            "gridcolor": "white",
            "linecolor": "white",
            "ticks": ""
           }
          },
          "title": {
           "x": 0.05
          },
          "xaxis": {
           "automargin": true,
           "gridcolor": "white",
           "linecolor": "white",
           "ticks": "",
           "title": {
            "standoff": 15
           },
           "zerolinecolor": "white",
           "zerolinewidth": 2
          },
          "yaxis": {
           "automargin": true,
           "gridcolor": "white",
           "linecolor": "white",
           "ticks": "",
           "title": {
            "standoff": 15
           },
           "zerolinecolor": "white",
           "zerolinewidth": 2
          }
         }
        }
       }
      }
     },
     "metadata": {},
     "output_type": "display_data"
    }
   ],
   "source": [
    "import matplotlib.pyplot as plt\n",
    "import matplotlib\n",
    "import plotly.graph_objects as go\n",
    "from functools import reduce\n",
    "\n",
    "matplotlib.rcParams.update({'font.size': 22})\n",
    "\n",
    "def frequences(items, ticker):\n",
    "  more1 = 0\n",
    "  more04 = 0\n",
    "  more06 = 0\n",
    "  more08 = 0\n",
    "\n",
    "  for item in items:\n",
    "    if item['run_up'] >= 1:\n",
    "      more1 += 1\n",
    "    \n",
    "    if item['run_up'] >= 0.4:\n",
    "      more04 += 1\n",
    "\n",
    "    if item['run_up'] >= 0.6:\n",
    "      more06 += 1\n",
    "    \n",
    "    if item['run_up'] >= 0.8:\n",
    "      more08 += 1\n",
    "  \n",
    "  percent1 = more04 / len(items) * 100\n",
    "  percent2 = more06 / len(items) * 100\n",
    "  percent3 = more08 / len(items) * 100\n",
    "  percent4 = more1 / len(items) * 100\n",
    "\n",
    "  less04_list = list(filter(lambda x: x['run_up'] < 0.4, items))\n",
    "  less04_profit = reduce(lambda a, b: a + b['profit'], less04_list, 0)\n",
    "  \n",
    "  less06_list = list(filter(lambda x: x['run_up'] < 0.6, items))\n",
    "  less06_profit = reduce(lambda a, b: a + b['profit'], less06_list, 0)\n",
    "  \n",
    "  less08_list = list(filter(lambda x: x['run_up'] < 0.8, items))\n",
    "  less08_profit = reduce(lambda a, b: a + b['profit'], less08_list, 0)\n",
    "  \n",
    "  less1_list = list(filter(lambda x: x['run_up'] < 1, items))\n",
    "  less1_profit = reduce(lambda a, b: a + b['profit'], less1_list, 0)\n",
    "\n",
    "  average_less04_profit = round_decimals_down(less04_profit / len(less04_list), 2) if len(less04_list) != 0 else 0\n",
    "  average_less06_profit = round_decimals_down(less06_profit / len(less06_list), 2) if len(less06_list) != 0 else 0\n",
    "  average_less08_profit = round_decimals_down(less08_profit / len(less08_list), 2) if len(less08_list) != 0 else 0\n",
    "  average_less1_profit = round_decimals_down(less1_profit / len(less1_list), 2) if len(less1_list) != 0 else 0\n",
    "\n",
    "  print(f\"\"\"\n",
    "    ticker: {ticker}\n",
    "    trades: {len(items)}\n",
    "    more 0.4% : {round_decimals_down(percent1, 2)}%\n",
    "    if less than 0.4% then average profit is {average_less04_profit}%. {len(less04_list)} trades\n",
    "    profit: {round_decimals_down((len(items) - len(less04_list)) * 0.4, 2)}% loss: {round_decimals_down(len(less04_list) * average_less04_profit, 2)}%\n",
    "\n",
    "    more 0.6% : {round_decimals_down(percent2, 2)}%\n",
    "    if less than 0.6% then average profit is {average_less06_profit}%. {len(less06_list)} trades\n",
    "    profit: {round_decimals_down((len(items) - len(less06_list)) * 0.6, 2)}% loss: {round_decimals_down(len(less06_list) * average_less06_profit, 2)}%\n",
    "\n",
    "    more 0.8% : {round_decimals_down(percent3, 2)}%\n",
    "    if less than 0.8% then average profit is {average_less08_profit}%. {len(less08_list)} trades\n",
    "    profit: {round_decimals_down((len(items) - len(less08_list)) * 0.8, 2)}% loss: {round_decimals_down(len(less08_list) * average_less08_profit, 2)}%\n",
    "\n",
    "    more 1% : {round_decimals_down(percent4, 2)}%\n",
    "    if less than 1% then average profit is {average_less1_profit}%. {len(less1_list)} trades\n",
    "    profit: {round_decimals_down((len(items) - len(less1_list)), 2)}% loss: {round_decimals_down(len(less1_list) * average_less1_profit, 2)}%\n",
    "  \"\"\")\n",
    "\n",
    "print(f\"\"\"\n",
    "periods = {periods}\n",
    "interval = {interval}\n",
    "\"\"\")\n",
    "\n",
    "for company in companies:\n",
    "  figi = company[\"figi\"]\n",
    "  ticker = company[\"ticker\"]\n",
    "\n",
    "  filtered = list(filter(lambda x: x['time'].hour >= 16 and x['time'].hour <= 23, trades[figi]))\n",
    "  # filtered = trades[figi]\n",
    "  frequences(filtered, ticker)\n",
    "\n",
    "  x = list(map(lambda q: q['time'].format('DD/MM HH:mm'), filtered))\n",
    "\n",
    "  fig = go.Figure()\n",
    "  fig.add_trace(\n",
    "    go.Bar(\n",
    "      x=x,\n",
    "      y=list(map(lambda q: q['run_up'], filtered)),\n",
    "      name='run up',\n",
    "      marker_color='green'\n",
    "    )\n",
    "  )\n",
    "  fig.add_trace(\n",
    "    go.Bar(\n",
    "      x=x,\n",
    "      y=list(map(lambda q: q['profit'], filtered)),\n",
    "      name='profit',\n",
    "      marker_color='gray'\n",
    "    )\n",
    "  )\n",
    "  fig.update_layout(\n",
    "    barmode='group',\n",
    "  )\n",
    "\n",
    "  fig.show()\n",
    "\n",
    "\n"
   ]
  }
 ],
 "metadata": {
  "interpreter": {
   "hash": "9e9b63d0bf04b8588851f2dcd2cf5c1cca7d58c4ac4d3794a5a37d0563c85fe3"
  },
  "kernelspec": {
   "display_name": "Python 3.9.7 64-bit ('backend-VZWEIILi-py3.9': poetry)",
   "language": "python",
   "name": "python3"
  },
  "language_info": {
   "codemirror_mode": {
    "name": "ipython",
    "version": 3
   },
   "file_extension": ".py",
   "mimetype": "text/x-python",
   "name": "python",
   "nbconvert_exporter": "python",
   "pygments_lexer": "ipython3",
   "version": "3.9.7"
  },
  "orig_nbformat": 4
 },
 "nbformat": 4,
 "nbformat_minor": 2
}
